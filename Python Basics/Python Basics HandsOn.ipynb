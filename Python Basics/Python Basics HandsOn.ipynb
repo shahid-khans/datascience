{
  "cells": [
    {
      "cell_type": "markdown",
      "source": "What is Python?\n\nPython is easy to use, powerful, and versatile, making it a great choice  for beginners and experts alike.\"  - codeschool.com\nPython is a cross platform programming language created in 1991 by Guido Van Rossum. It is freely usable even for commercial use.",
      "metadata": {
        "tags": [],
        "cell_id": "00001-b8f4b921-9e16-4f01-ae2c-b066e2829516",
        "deepnote_cell_type": "markdown"
      }
    },
    {
      "cell_type": "code",
      "metadata": {
        "tags": [],
        "cell_id": "00001-4359bb43-2d6a-4085-8712-87b495832427",
        "output_cleared": false,
        "deepnote_cell_type": "code"
      },
      "source": "print(\"Python\" + \" is \" + \"cool!\")",
      "execution_count": null,
      "outputs": [
        {
          "name": "stdout",
          "text": "Python is cool!\n",
          "output_type": "stream"
        }
      ]
    },
    {
      "cell_type": "markdown",
      "source": "Variables and data types in Python :\n*  Variables store and give names to data values\n*  Data values can be of various types: Text,Numeric, Sequence, Mapping, Set, Boolean and Binary\n* In Python variables do NOT have types, meaning python variables do not need explicit declaration, it happens when value is assigned to a variable.\n* Data Values are assigned to variables using \"=\"   \n\n",
      "metadata": {
        "tags": [],
        "cell_id": "00002-b4c3e39a-6185-4584-ba94-7139e197e174",
        "deepnote_cell_type": "markdown"
      }
    },
    {
      "cell_type": "markdown",
      "source": "Python Data types\n*  Text Type:\tstr\n*  Numeric Types:\tint, float, complex\n*  Sequence Types:\tlist, tuple, range\n*  Mapping Type:\tdict\n*  Set Types:\tset, frozenset\n*  Boolean Type:\tbool\n*  Binary Types:\tbytes, bytearray, memoryview\n\n",
      "metadata": {
        "tags": [],
        "cell_id": "00003-d18c7b2f-92fe-4cd9-b39f-10dad62831c0",
        "deepnote_cell_type": "markdown"
      }
    },
    {
      "cell_type": "code",
      "metadata": {
        "tags": [],
        "cell_id": "00004-03f6d57d-e52b-4bb7-b04b-cbff5b074850",
        "output_cleared": false,
        "deepnote_cell_type": "code"
      },
      "source": "y = \"Hello World\"\t\nprint(y)\nx = str(\"Hello World\")\t#str\nprint(x)\nprint(type(x))\t\nprint(type(y))",
      "execution_count": null,
      "outputs": [
        {
          "name": "stdout",
          "text": "Hello World\nHello World\n<class 'str'>\n<class 'str'>\n",
          "output_type": "stream"
        }
      ]
    },
    {
      "cell_type": "code",
      "metadata": {
        "tags": [],
        "cell_id": "00005-6d87aa41-7a92-40ea-991b-c033ffb50af5",
        "deepnote_cell_type": "code"
      },
      "source": "\t\nx = 20\t\nprint(x)\t\nx = int(20)\t#int\nprint(x)\n",
      "execution_count": null,
      "outputs": [
        {
          "name": "stdout",
          "text": "20\n20\n",
          "output_type": "stream"
        }
      ]
    },
    {
      "cell_type": "code",
      "metadata": {
        "tags": [],
        "cell_id": "00006-594a0d86-881e-46dc-95cc-b4bc86278bc3",
        "deepnote_cell_type": "code"
      },
      "source": "x = 20.50\t\nprint(x)\t\nx = float(10.50)\t#float\t\nprint(x)",
      "execution_count": null,
      "outputs": [
        {
          "name": "stdout",
          "text": "20.5\n10.5\n",
          "output_type": "stream"
        }
      ]
    },
    {
      "cell_type": "code",
      "metadata": {
        "tags": [],
        "cell_id": "00007-0dab9718-fa67-455a-9299-54e3285b22b4",
        "deepnote_cell_type": "code"
      },
      "source": "x = 1j\nprint(x)\t\t\nx = complex(1j)\t#complex\nprint(x)\t\n\nz = complex(2, -3)\nprint(z)\n\nz = complex(1)\nprint(z)\n\nz = complex()\nprint(z)\n\nz = complex('5-9j')\nprint(z)",
      "execution_count": null,
      "outputs": [
        {
          "name": "stdout",
          "text": "1j\n1j\n(2-3j)\n(1+0j)\n0j\n(5-9j)\n",
          "output_type": "stream"
        }
      ]
    },
    {
      "cell_type": "code",
      "metadata": {
        "tags": [],
        "cell_id": "00008-eba8b633-aade-49e8-bcc6-2ca078fd0110",
        "deepnote_cell_type": "code"
      },
      "source": "x = [\"apple\", \"banana\", \"cherry\",\"Kiwi\",\"Grapes\",\"apple\"]\nprint(x)\n\nx[0]= \"Kiwi\"\nprint(x)\n\n\nx = list((\"Love\", \"banana\", \"cherry\"))\t#list\t\nprint(x)\t",
      "execution_count": null,
      "outputs": [
        {
          "name": "stdout",
          "text": "['apple', 'banana', 'cherry', 'Kiwi', 'Grapes', 'apple']\n['Kiwi', 'banana', 'cherry', 'Kiwi', 'Grapes', 'apple']\n['Love', 'banana', 'cherry']\n",
          "output_type": "stream"
        }
      ]
    },
    {
      "cell_type": "code",
      "metadata": {
        "tags": [],
        "cell_id": "00009-d893a09a-3416-4bb0-bc54-afd91e7cc304",
        "deepnote_cell_type": "code"
      },
      "source": "x = (\"apple\", \"banana\", \"cherry\",\"Kiwi\",\"Grapes\")\t\nprint(x[0:4])\t\nx = tuple((\"apple\", \"banana\", \"cherry\"))\t#tuple\t\nprint(x)\n",
      "execution_count": null,
      "outputs": [
        {
          "name": "stdout",
          "text": "('apple', 'banana', 'cherry', 'Kiwi')\n('apple', 'banana', 'cherry')\n",
          "output_type": "stream"
        }
      ]
    },
    {
      "cell_type": "code",
      "metadata": {
        "tags": [],
        "cell_id": "00010-9bfab803-8bfc-427a-868d-c61c030c3809",
        "deepnote_cell_type": "code"
      },
      "source": "x = range(6)\t\t\ny = range(1,6, -1)\t#range([start (default 0),] stop (default excluded) [, step (default 1)]) -> range object\nprint(x)\nprint(y)",
      "execution_count": null,
      "outputs": [
        {
          "name": "stdout",
          "text": "range(0, 6)\nrange(1, 6, -1)\n",
          "output_type": "stream"
        }
      ]
    },
    {
      "cell_type": "code",
      "metadata": {
        "tags": [],
        "cell_id": "00011-b9ae8854-d7c4-4a5a-be35-7b119c0a232b",
        "deepnote_cell_type": "code"
      },
      "source": "x = {45 : \"John\", \"age\" : 36}\t\nprint(x)\t\n\nz = x.get(45)\n\nprint(z)\n\nx = dict(name=\"John\", age=36)\t#dict\t\nprint(x)\n\n\ny = x[\"age\"]\n\nprint(y)\n\n",
      "execution_count": null,
      "outputs": [
        {
          "name": "stdout",
          "text": "{45: 'John', 'age': 36}\nJohn\n{'name': 'John', 'age': 36}\n36\n",
          "output_type": "stream"
        }
      ]
    },
    {
      "cell_type": "code",
      "metadata": {
        "tags": [],
        "cell_id": "00012-6d200558-a88a-43fc-81f8-45ab755baac4",
        "deepnote_cell_type": "code"
      },
      "source": "x = {\"apple\", \"banana\", \"cherry\",\"apple\"}\t\nprint(x)\t\nx = set((\"apple\", \"banana\", \"cherry\"))\t#set\n\n\nthisset = {\"apple\", \"banana\", \"cherry\"}\nprint(\"banana\" in thisset)\n\nthisset = {\"apple\", \"banana\", \"cherry\"}\n\nfor x in thisset:\n  print(x)",
      "execution_count": null,
      "outputs": [
        {
          "name": "stdout",
          "text": "{'cherry', 'apple', 'banana'}\nTrue\ncherry\napple\nbanana\n",
          "output_type": "stream"
        }
      ]
    },
    {
      "cell_type": "code",
      "metadata": {
        "tags": [],
        "cell_id": "00013-b5c77228-3533-4aeb-a8fd-a58a152ef7c8",
        "deepnote_cell_type": "code"
      },
      "source": "a = [\"A\",\"B\"]\nb = frozenset(a)\nprint(b)\n\nx = frozenset({\"apple\", \"banana\", \"cherry\"})\nprint(x)\t\t\nx = frozenset((\"apple\", \"banana\", \"cherry\"))\t#frozenset\t\nprint(x)",
      "execution_count": null,
      "outputs": [
        {
          "name": "stdout",
          "text": "frozenset({'A', 'B'})\nfrozenset({'cherry', 'apple', 'banana'})\nfrozenset({'cherry', 'apple', 'banana'})\n",
          "output_type": "stream"
        }
      ]
    },
    {
      "cell_type": "code",
      "metadata": {
        "tags": [],
        "cell_id": "00014-23f11609-a34c-40fa-8476-85f2d04c706f",
        "deepnote_cell_type": "code"
      },
      "source": "x = True\t\t\nx = bool(5)\t#bool\ny= bool() # If no parameter is passed, then by default it returns False\nprint(x)\nprint(y)\t",
      "execution_count": null,
      "outputs": [
        {
          "name": "stdout",
          "text": "True\nFalse\n",
          "output_type": "stream"
        }
      ]
    },
    {
      "cell_type": "code",
      "metadata": {
        "tags": [],
        "cell_id": "00015-5b172f15-4143-49be-9576-c2ec051a3f8d",
        "deepnote_cell_type": "code"
      },
      "source": "x = b\"Hello\"\nprint(x)\t\t\nx = bytes(5)\t#bytes\nprint(x)\t",
      "execution_count": null,
      "outputs": [
        {
          "name": "stdout",
          "text": "b'Hello'\nb'\\x00\\x00\\x00\\x00\\x00'\n",
          "output_type": "stream"
        }
      ]
    },
    {
      "cell_type": "code",
      "metadata": {
        "tags": [],
        "cell_id": "00016-f50e9e8a-934e-4040-8970-6d1cb816b485",
        "deepnote_cell_type": "code"
      },
      "source": "x = bytearray(5)\t\t\nx = bytearray(5)\t#bytearray\t\nprint(x)",
      "execution_count": null,
      "outputs": [
        {
          "name": "stdout",
          "text": "bytearray(b'\\x00\\x00\\x00\\x00\\x00')\n",
          "output_type": "stream"
        }
      ]
    },
    {
      "cell_type": "code",
      "metadata": {
        "tags": [],
        "cell_id": "00017-67bf4c27-dfea-4b2a-99e2-642f9702e672",
        "deepnote_cell_type": "code"
      },
      "source": "x = memoryview(bytes(5))\t\nx = memoryview(bytes(5))\t#memoryview\nprint(x)",
      "execution_count": null,
      "outputs": [
        {
          "name": "stdout",
          "text": "<memory at 0x7f07e3d75948>\n",
          "output_type": "stream"
        }
      ]
    },
    {
      "cell_type": "markdown",
      "source": "Conditions and Loops\n* Core of Programming\n* Rely on boolean expressions which either return TRUE or FALSE\n* Boolean Expressions can be combined with : AND, OR, NOT",
      "metadata": {
        "tags": [],
        "cell_id": "00018-1e9993ee-d7f0-42f5-b9f3-dfbc6d443192",
        "deepnote_cell_type": "markdown"
      }
    },
    {
      "cell_type": "markdown",
      "source": "Python Operators\n\nOperators are used to perform operations on variables and values.\n\nPython divides the operators in the following groups:\n\nArithmetic operators  +, -, * , /, %, **, //\n\nAssignment operators  =, +=, -=, *=,%=, //=,^=, &=\n\nComparison operators  ==, !=, >,<, >=,<=\n\nLogical operators     AND, OR, NOT\n\nIdentity operators    IS, IS NOT\n\nMembership operators  IN, NOT IN\n\nBitwise operators     & (AND), | (OR), ^ (XOR), ~ (NOT) \n",
      "metadata": {
        "tags": [],
        "cell_id": "00019-a437cc6d-25e5-4668-ae6f-f11477e8ebfb",
        "deepnote_cell_type": "markdown"
      }
    },
    {
      "cell_type": "code",
      "metadata": {
        "tags": [],
        "cell_id": "00019-5108deb3-e914-4509-94a8-15b38831aa2d",
        "deepnote_cell_type": "code"
      },
      "source": "# Conditionals :Driving License Age\n\nage = 15\nif age < 17:\n  print(\"Can't have a DL yet!!\")\nelse:\n    print(\"OK, can have a DL.\")",
      "execution_count": null,
      "outputs": [
        {
          "name": "stdout",
          "text": "Can't have a DL yet!!\n",
          "output_type": "stream"
        }
      ]
    },
    {
      "cell_type": "code",
      "metadata": {
        "tags": [],
        "cell_id": "00020-5af48a69-211e-40ff-bad1-bf0946306924",
        "deepnote_cell_type": "code"
      },
      "source": "# Conditionals :User Input\nage = int(input(\"User age:\"))\nif age < 17:\n  print(\"Can't have a DL yet!!\")\nelse:\n  print(\"OK, can have a DL.\")",
      "execution_count": null,
      "outputs": [
        {
          "name": "stdout",
          "text": "OK, can have a DL.\n",
          "output_type": "stream"
        }
      ]
    },
    {
      "cell_type": "code",
      "metadata": {
        "tags": [],
        "cell_id": "00021-bab9d652-88ef-4018-a64d-187bee7f5391",
        "deepnote_cell_type": "code"
      },
      "source": "# Conditionals: Grading\ngrade = int(input(\"Numeric grade: \"))  \nif grade >= 80:\n    print(\"A\")\nelif grade >= 65: \n    print(\"B\")\nelif grade >= 55:  \n    print(\"C\")\nelse:\n    print(\"E\")\n",
      "execution_count": null,
      "outputs": [
        {
          "name": "stdout",
          "text": "B\n",
          "output_type": "stream"
        }
      ]
    },
    {
      "cell_type": "markdown",
      "source": "Loops in Python\nLoops are useful for repeating code blocks over multiple times based on required conditions.There are two kinds of loops in Python:\n* FOR\n* WHILE",
      "metadata": {
        "tags": [],
        "cell_id": "00022-4a49fff6-5af7-40ab-be7f-bd6bd61e5644",
        "deepnote_cell_type": "markdown"
      }
    },
    {
      "cell_type": "markdown",
      "source": "A \"FOR\" python loop is used for iterating over a sequence (that is either a list, a tuple, a dictionary, a set, or a string).\nThis is less like the \"FOR\" keyword in other programming languages, and works more like an iterator method as found in other object-orientated programming languages.\nWith the \"FOR\" loop we can execute a set of statements, once for each item in a list, tuple, set etc.\n",
      "metadata": {
        "tags": [],
        "cell_id": "00023-8955a9b6-632f-4ba6-9873-483bc5e51e56",
        "deepnote_cell_type": "markdown"
      }
    },
    {
      "cell_type": "markdown",
      "source": "With the python \"WHILE\" loop we can execute a set of statements as long as a condition is true.",
      "metadata": {
        "tags": [],
        "cell_id": "00024-1859b067-cb57-4932-a6a0-03901d7a94b0",
        "deepnote_cell_type": "markdown"
      }
    },
    {
      "cell_type": "code",
      "metadata": {
        "tags": [],
        "cell_id": "00025-a516092f-5279-478d-abce-1e7925c9b0d7",
        "deepnote_cell_type": "code"
      },
      "source": "while input(\"Which is your favorite flower?\") != \"Rose\":\n  print(\"Try again !\")\nprint(\"Of course it is !\")  ",
      "execution_count": null,
      "outputs": [
        {
          "name": "stdout",
          "text": "Try again !\nOf course it is !\n",
          "output_type": "stream"
        }
      ]
    },
    {
      "cell_type": "code",
      "metadata": {
        "tags": [],
        "cell_id": "00026-b13ceb4f-fdb0-487e-bbb1-e3b3a4e2a84c",
        "deepnote_cell_type": "code"
      },
      "source": "fruits = [\"apple\", \"banana\", \"cherry\"]\nfor x in fruits:\n  print(x)\n\nfor chr in \"string\" :\n  print(chr)\n\nfor elem in [1,4,5]:\n  print(elem)\n",
      "execution_count": null,
      "outputs": [
        {
          "name": "stdout",
          "text": "apple\nbanana\ncherry\ns\nt\nr\ni\nn\ng\n1\n4\n5\n",
          "output_type": "stream"
        }
      ]
    },
    {
      "cell_type": "markdown",
      "source": "FUNCTIONS in Python\n\nA function is a block of code which only runs when it is called.\n\n You can pass data, known as parameters, into a function.A function can return data as a result.\n\n \nIn Python Function is created using \"def\" keyword.",
      "metadata": {
        "tags": [],
        "cell_id": "00027-514cbf54-361d-45dd-8c0b-ef1661689421",
        "deepnote_cell_type": "markdown"
      }
    },
    {
      "cell_type": "markdown",
      "source": "Generic form:\ndef function-name(parameters):\n     code block\n     return value",
      "metadata": {
        "tags": [],
        "cell_id": "00028-7936f016-739f-4d86-9c39-cf99ba7c99b7",
        "deepnote_cell_type": "markdown"
      }
    },
    {
      "cell_type": "code",
      "metadata": {
        "tags": [],
        "cell_id": "00029-703c7497-eb71-4659-a66c-93a7ce57e563",
        "deepnote_cell_type": "code"
      },
      "source": "# Function :Celsius to Fahrenheit\ndef celsius_to_fahrenheit(celsius):\n  fahrenheit = celsius * 1.8 +32.0\n  return fahrenheit\n  print(fahrenheit)\n  \ncelsius_to_fahrenheit(10)  ",
      "execution_count": null,
      "outputs": [
        {
          "output_type": "execute_result",
          "execution_count": 61,
          "data": {
            "text/plain": "50.0"
          },
          "metadata": {}
        }
      ]
    },
    {
      "cell_type": "code",
      "metadata": {
        "tags": [],
        "cell_id": "00030-321d2b55-ec87-4a88-91b3-10861815b39d",
        "deepnote_cell_type": "code"
      },
      "source": "#Functions: Default and Named Parameters\ndef hello(name_man = \"\", name_woman =\"\"):\n print(\"hello, \" + name_man + \" & \" +name_woman + \"!\")\n\nhello()\nhello(name_woman= \"Sis\")\nhello(name_man= \"John\", name_woman= \"Mary\")",
      "execution_count": null,
      "outputs": [
        {
          "name": "stdout",
          "text": "hello,  & !\nhello,  & Sis!\nhello, John & Mary!\n",
          "output_type": "stream"
        }
      ]
    },
    {
      "cell_type": "markdown",
      "source": "Import in Python\nImport in python is similar to #include header_file in C/C++. Python modules can get access to code from another module by importing the file/function using import. \nThe import statement is the most common way of invoking the import machinery.\n\nimport module_name\n\n\nfrom module_name import function_name\n\nThese are the two ways to import in Python.",
      "metadata": {
        "tags": [],
        "cell_id": "00031-cc8e8c1c-0ba8-4fa2-924e-7893040dff48",
        "deepnote_cell_type": "markdown"
      }
    },
    {
      "cell_type": "code",
      "metadata": {
        "tags": [],
        "cell_id": "00032-4e1bfba3-d66a-4f22-be3b-2608780f8d26",
        "deepnote_cell_type": "code"
      },
      "source": "import math as m\nprint(m.sqrt(4))",
      "execution_count": null,
      "outputs": [
        {
          "name": "stdout",
          "text": "2.0\n",
          "output_type": "stream"
        }
      ]
    },
    {
      "cell_type": "code",
      "metadata": {
        "tags": [],
        "cell_id": "00033-83c9c447-c6cc-4256-88f4-d4337f8d7d57",
        "deepnote_cell_type": "code"
      },
      "source": "from math import sqrt\nprint(sqrt(4))",
      "execution_count": null,
      "outputs": [
        {
          "name": "stdout",
          "text": "2.0\n",
          "output_type": "stream"
        }
      ]
    },
    {
      "cell_type": "markdown",
      "source": "Strings in Python\nString is a sequence of characters, like \"Python is cool\".\nString literals in python are surrounded by either single quotation marks, or double quotation marks.\n\n'hello' is the same as \"hello\".\n\nEach character of a string has an index.",
      "metadata": {
        "tags": [],
        "cell_id": "00034-9d87a40b-8e67-4525-9717-949c11761895",
        "deepnote_cell_type": "markdown"
      }
    },
    {
      "cell_type": "code",
      "metadata": {
        "tags": [],
        "cell_id": "00035-58dd1e52-24c1-4b19-91b9-68c51d7d073a",
        "deepnote_cell_type": "code"
      },
      "source": "#String Operations\nx = \"Python is cool\"\nprint(x[10])  #access a character\nprint(x[2:6]) #substring\nprint(x[10:14]) #Substring\nprint(len(x)) #Lenght of String\nprint(x + \"?\")  #Concatenation\nprint(x.upper()) #Change to UPPERCASE\nprint(x.replace(\"c\", \"k\")) #replace\nz = x.split(\" \") #Split String\nprint(z)\nprint(\",\".join(z)) #Join\ny= x.split(\"o\")\nprint(y)\nprint(\",\".join(y))\n\n\nx = [\"A\",\"B\",\"C\"]\nprint(\";\".join(x))\n\n",
      "execution_count": null,
      "outputs": [
        {
          "name": "stdout",
          "text": "c\nthon\ncool\n14\nPython is cool?\nPYTHON IS COOL\nPython is kool\n['Python', 'is', 'cool']\nPython,is,cool\n['Pyth', 'n is c', '', 'l']\nPyth,n is c,,l\nA;B;C\n",
          "output_type": "stream"
        }
      ]
    },
    {
      "cell_type": "markdown",
      "source": "File Handling in Python\n\nFile handling is an important part of any web application.\n\nPython has several functions for creating, reading, updating, and deleting files.\n\nThe key function for working with files in Python is the open() function.\n\nThe open() function takes two parameters; filename, and mode.\n\nThere are four different methods (modes) for opening a file:\n\n\"r\" - Read - Default value. Opens a file for reading, error if the file does not exist\n\n\"a\" - Append - Opens a file for appending, creates the file if it does not exist\n\n\"w\" - Write - Opens a file for writing, creates the file if it does not exist\n\n\"x\" - Create - Creates the specified file, returns an error if the file exists\n\nIn addition you can specify if the file should be handled as binary or text mode\n\n\"t\" - Text - Default value. Text mode\n\n\"b\" - Binary - Binary mode (e.g. images)",
      "metadata": {
        "tags": [],
        "cell_id": "00036-54d682fe-2976-4033-a9c0-5cfbe8aa7776",
        "deepnote_cell_type": "markdown"
      }
    },
    {
      "cell_type": "code",
      "metadata": {
        "tags": [],
        "cell_id": "00037-7b15d02a-7e5e-4e03-9a42-d9d1c0c705f3",
        "deepnote_cell_type": "code"
      },
      "source": "x = open(\"cool.txt\", \"r\")\ny = x.read()\nprint(y)\nprint(x.closed)\nx.close()\nprint(x.closed)",
      "execution_count": null,
      "outputs": [
        {
          "name": "stdout",
          "text": "Python is all about cool stuff !!carpe\ndiem\ncarpe\ndiem\n\nFalse\nTrue\n",
          "output_type": "stream"
        }
      ]
    },
    {
      "cell_type": "code",
      "metadata": {
        "tags": [],
        "cell_id": "00038-ecf8f285-d8e5-4237-9a3d-ea7066aacce8",
        "deepnote_cell_type": "code"
      },
      "source": "x = open(\"cool.txt\", \"r\")\ny = x.read()\nprint(y)\nprint(x.closed)\n#read line by line\nfor line in x:\n    line = line.replace(\"\\n\",\" \")\n    print(line)\nx.close()\nprint(x.closed)",
      "execution_count": null,
      "outputs": [
        {
          "name": "stdout",
          "text": "Python is all about cool stuff !!carpe\ndiem\n\nFalse\nTrue\n",
          "output_type": "stream"
        }
      ]
    },
    {
      "cell_type": "code",
      "metadata": {
        "tags": [],
        "cell_id": "00039-71341d82-7141-4990-a64c-b8f76eba3b79",
        "deepnote_cell_type": "code"
      },
      "source": "x = open(\"write.txt\", \"w\")\nx.write(\"carpe\\ndiem\\n\")\nx = open(\"write.txt\", \"r\")\ny = x.read()\nprint(y)\nprint(x.closed)\nx.close()\nprint(x.closed)",
      "execution_count": null,
      "outputs": [
        {
          "name": "stdout",
          "text": "carpe\ndiem\n\nFalse\nTrue\n",
          "output_type": "stream"
        }
      ]
    },
    {
      "cell_type": "code",
      "metadata": {
        "tags": [],
        "cell_id": "00040-f0edb3e3-2c2a-40b0-b3be-c268a2d15ca7",
        "deepnote_cell_type": "code"
      },
      "source": "x = open(\"cool.txt\", \"a\")\nx.write(\"carpe\\ndiem\\n\")\nx = open(\"cool.txt\", \"r\")\ny = x.read()\nprint(y)\nprint(x.closed)\nx.close()\nprint(x.closed)",
      "execution_count": null,
      "outputs": [
        {
          "name": "stdout",
          "text": "Python is all about cool stuff !!carpe\ndiem\ncarpe\ndiem\n\nFalse\nTrue\n",
          "output_type": "stream"
        }
      ]
    },
    {
      "cell_type": "markdown",
      "source": "Python Collections (Arrays):\n\nThere are four collection data types in the Python programming language:\n\nList is a collection which is ordered and changeable. Allows duplicate members. Written with square brackets.\n\nTuple is a collection which is ordered and unchangeable. Allows duplicate members. Written with round brackets.\n\nSet is a collection which is unordered and unindexed. No duplicate members. Written with curly brackets.\n\nDictionary is a collection which is unordered, changeable and indexed. No duplicate members.Written with curly brackets having key-value pairs.",
      "metadata": {
        "tags": [],
        "cell_id": "00041-d0d8dcf0-09e4-41b8-956b-16dfbb28ead5",
        "deepnote_cell_type": "markdown"
      }
    },
    {
      "cell_type": "code",
      "metadata": {
        "tags": [],
        "cell_id": "00042-3b10e9a0-d716-4603-8b6e-362393a3d538",
        "deepnote_cell_type": "code"
      },
      "source": "#LIST Operations\nx = [\"Python\", \"is\", \"cool\"]\nprint(x)\nx.sort()\nprint(x)\ny = x[1:2]\nprint(y)\nz = len(x)\nprint(z)\na = x + [\"?\", \"Please\", \"Think\", \"Python\"]\nprint(a)\nprint(x)\nprint(x[2])\nx[1] = \"Hot\"\nprint(x)\nprint(a)\na.remove(\"Python\")\nprint(a)\nprint(x)\nx.pop(1)\nprint(x)",
      "execution_count": null,
      "outputs": [
        {
          "name": "stdout",
          "text": "['Python', 'is', 'cool']\n['Python', 'cool', 'is']\n['cool']\n3\n['Python', 'cool', 'is', '?', 'Please', 'Think', 'Python']\n['Python', 'cool', 'is']\nis\n['Python', 'Hot', 'is']\n['Python', 'cool', 'is', '?', 'Please', 'Think', 'Python']\n['cool', 'is', '?', 'Please', 'Think', 'Python']\n['Python', 'Hot', 'is']\n['Python', 'is']\n",
          "output_type": "stream"
        }
      ]
    },
    {
      "cell_type": "code",
      "metadata": {
        "tags": [],
        "cell_id": "00043-9ec40f6d-756d-4700-a8f1-0c5c5725c414",
        "deepnote_cell_type": "code"
      },
      "source": "#List Comprehension\n[i.replace(\"o\", \"i\") for i in [\"python\", \"is\",\"cool\"] if len(i)>=3]",
      "execution_count": null,
      "outputs": [
        {
          "output_type": "execute_result",
          "execution_count": 170,
          "data": {
            "text/plain": "['pythin', 'ciil']"
          },
          "metadata": {}
        }
      ]
    },
    {
      "cell_type": "code",
      "metadata": {
        "tags": [],
        "cell_id": "00044-dc313695-8cca-4725-8735-984a4a622f49",
        "deepnote_cell_type": "code"
      },
      "source": "#List Comprehension\n[j*2 for j in [0,1,2,3,4] if j%2 == 0]",
      "execution_count": null,
      "outputs": [
        {
          "output_type": "execute_result",
          "execution_count": 171,
          "data": {
            "text/plain": "[0, 4, 8]"
          },
          "metadata": {}
        }
      ]
    },
    {
      "cell_type": "code",
      "metadata": {
        "tags": [],
        "cell_id": "00045-9a134046-29be-4db9-a501-ef87c6476c09",
        "deepnote_cell_type": "code"
      },
      "source": "#TUPLES Operations\nx = (0,1,2, \"tuples\",\" \")\nprint(x)\ny = 0,1,2, \"tuples\", \" \"\nprint(y)\n# x[0] = 8 #will give error",
      "execution_count": null,
      "outputs": [
        {
          "name": "stdout",
          "text": "(0, 1, 2, 'tuples', ' ')\n(0, 1, 2, 'tuples', ' ')\n",
          "output_type": "stream"
        }
      ]
    },
    {
      "cell_type": "code",
      "metadata": {
        "tags": [],
        "cell_id": "00046-41750b94-7d16-456b-a837-7d021151cbd7",
        "deepnote_cell_type": "code"
      },
      "source": "#SETS Operation\nx = [0,1,2,0,0,1,2,2] #list\ny = {0,1,2,0,0,1,2,2} #set (removes duplicates)\nprint(x)\nprint(y)\nprint(y & {1,2,3}) #intersection\nprint(y | {1,2,3}) #union\nprint(y - {1,2,3}) #difference\n\nprint(4 & 5)",
      "execution_count": null,
      "outputs": [
        {
          "name": "stdout",
          "text": "[0, 1, 2, 0, 0, 1, 2, 2]\n{0, 1, 2}\n{1, 2}\n{0, 1, 2, 3}\n{0}\n4\n",
          "output_type": "stream"
        }
      ]
    },
    {
      "cell_type": "code",
      "metadata": {
        "tags": [],
        "cell_id": "00047-9eaa9af0-c718-42f8-9de4-d82915d21bab",
        "deepnote_cell_type": "code"
      },
      "source": "#DICTIONARY Operations\nx = {\"India\": \"New Delhi\", \"Germany\": \"Berlin\", \"Italy\": \"Rome\"}\nprint(x)\nprint(x[\"India\"])\nx[\"Japan\"] = \"Tokyo\"\nprint(x)",
      "execution_count": null,
      "outputs": [
        {
          "name": "stdout",
          "text": "{'India': 'New Delhi', 'Germany': 'Berlin', 'Italy': 'Rome'}\nNew Delhi\n{'India': 'New Delhi', 'Germany': 'Berlin', 'Italy': 'Rome', 'Japan': 'Tokyo'}\n",
          "output_type": "stream"
        }
      ]
    },
    {
      "cell_type": "markdown",
      "source": "Python Classes/Objects\nPython is an object oriented programming language.\n\n\nAlmost everything in Python is an object, with its properties and methods.\n\n\nA Class is like an object constructor, or a \"blueprint\" for creating objects.\n\n\nTo create a class, use the keyword \"CLASS\".\n\nWhile in functions we encapsulate a set of instructions,  in classes we encapsulate object's methods and atributes!\n\nA class can use other classes as BASE.\n",
      "metadata": {
        "tags": [],
        "cell_id": "00048-b63174b3-fb92-4a64-8365-fa783104f58f",
        "deepnote_cell_type": "markdown"
      }
    },
    {
      "cell_type": "code",
      "metadata": {
        "tags": [],
        "cell_id": "00049-6f4d3290-ca42-4af7-86da-99461c29c073",
        "deepnote_cell_type": "code"
      },
      "source": "#CLASS : PERSON\nclass Person :\n  def __init__(self,first,last): \n    self.firstname = first\n    self.lastname  = last \n  def describe(self):\n    return self.firstname +  \" \" + self.lastname\n\nP1 = Person(\"Guido\", \"Van Rossum\")\nprint(P1.describe() )",
      "execution_count": null,
      "outputs": [
        {
          "name": "stdout",
          "text": "Guido Van Rossum\n",
          "output_type": "stream"
        }
      ]
    },
    {
      "cell_type": "code",
      "metadata": {
        "tags": [],
        "cell_id": "00050-6c7bf874-f7f4-4d99-81cb-2996622f0ba3",
        "deepnote_cell_type": "code"
      },
      "source": "#CLASS : PERSON & EMPLOYEE\nclass Person :\n  def __init__(self,first,last): \n    self.firstname = first\n    self.lastname  = last \n  def describe(self):\n    return self.firstname +  \" \" + self.lastname\n\nclass Employee(Person) :\n    def __init__(self,first,last, staffnum):\n      Person.__init__(self, first, last)\n      self.staffnum = staffnum\n    def describe(self):\n      return self.lastname +  \", \" + str(self.staffnum)  \n\nP1 = Employee(\"Guido\", \"Van Rossum\", 123456)   \nprint(P1.describe() )",
      "execution_count": null,
      "outputs": [
        {
          "name": "stdout",
          "text": "Van Rossum, 123456\n",
          "output_type": "stream"
        }
      ]
    },
    {
      "cell_type": "markdown",
      "source": "To understand the meaning of classes we have to understand the built-in __init__() function.\n\n\nAll classes have a function called __init__(), which is always executed when the class is being initiated.\n\n\nThe __init__() function is used to assign values to object properties, or other operations that are necessary to do when the object is being created.\n",
      "metadata": {
        "tags": [],
        "cell_id": "00051-b73159c0-57ad-401c-93f9-0fa353a5711a",
        "deepnote_cell_type": "markdown"
      }
    },
    {
      "cell_type": "markdown",
      "source": "Python LAMBDA\n\nA lambda function is a small anonymous function.\n\nA lambda function can take any number of arguments, but can only have one expression.",
      "metadata": {
        "tags": [],
        "cell_id": "00052-bc92c54a-c505-4e35-a3b8-5ee724292269",
        "deepnote_cell_type": "markdown"
      }
    },
    {
      "cell_type": "code",
      "metadata": {
        "tags": [],
        "cell_id": "00053-78067b1e-fd4d-4ba4-a508-aa4e7420306f",
        "deepnote_cell_type": "code"
      },
      "source": "# A lambda function that adds 10 to the number passed in as an argument, and print the result:\nx = lambda a : a + 10\nprint(x(5))\n",
      "execution_count": null,
      "outputs": [
        {
          "name": "stdout",
          "text": "15\n",
          "output_type": "stream"
        }
      ]
    },
    {
      "cell_type": "code",
      "metadata": {
        "tags": [],
        "cell_id": "00054-2bd15c34-6042-4cd9-9a40-159096f07db6",
        "deepnote_cell_type": "code"
      },
      "source": "#A lambda function that multiplies argument a with argument b and print the result:\nx = lambda a, b : a * b\nprint(x(5, 6))\n\n",
      "execution_count": null,
      "outputs": [
        {
          "name": "stdout",
          "text": "30\n",
          "output_type": "stream"
        }
      ]
    },
    {
      "cell_type": "markdown",
      "source": "NUMPY\n\nNumPy is a python library used for working with arrays.\nIt also has functions for working in domain of linear algebra, fourier transform, and matrices.\nNumPy was created in 2005 by Travis Oliphant. It is an open source project and you can use it freely.\nNumPy arrays are stored at one continuous place in memory unlike lists, so processes can access and manipulate them very efficiently.\n\nNumPy is a Python library and is written partially in Python, but most of the parts that require fast computation are written in C or C++.\nNumPy stands for Numerical Python.",
      "metadata": {
        "tags": [],
        "cell_id": "00056-76717228-8ac6-4a3e-8977-dfd7fa49e977",
        "deepnote_cell_type": "markdown"
      }
    },
    {
      "cell_type": "markdown",
      "source": "PANDAS\n\npandas is a Python package providing fast, flexible, and expressive data structures designed to make working with 'relationa' or 'labeled' data both easy and intuitive. It aims to be the fundamental high-level building block for doing practical, real world data analysis in Python.",
      "metadata": {
        "tags": [],
        "cell_id": "00058-24218cf1-3baf-4376-ae9a-425e2fbf9617",
        "deepnote_cell_type": "markdown"
      }
    },
    {
      "cell_type": "markdown",
      "source": "MATPLOTLIB\n\nMatplotlib is a plotting library for the Python programming language and its numerical mathematics extension NumPy. It provides an object-oriented API for embedding plots into applications using general-purpose GUI toolkits like Tkinter, wxPython, Qt, or GTK+.\n",
      "metadata": {
        "tags": [],
        "cell_id": "00058-38a72f34-bb99-4c89-a37a-82da6264b58e",
        "deepnote_cell_type": "markdown"
      }
    },
    {
      "cell_type": "markdown",
      "source": "SEABORN\n\nSeaborn is a Python data visualization library based on matplotlib. It provides a high-level interface for drawing attractive and informative statistical graphics",
      "metadata": {
        "tags": [],
        "cell_id": "00059-ea6e6943-b218-4f10-8f2b-1bbb4393e809",
        "deepnote_cell_type": "markdown"
      }
    },
    {
      "cell_type": "markdown",
      "source": "<a style='text-decoration:none;line-height:16px;display:flex;color:#5B5B62;padding:10px;justify-content:end;' href='https://deepnote.com?utm_source=created-in-deepnote-cell&projectId=486c3042-68b8-438c-a156-48d94106b4cb' target=\"_blank\">\n<img style='display:inline;max-height:16px;margin:0px;margin-right:7.5px;' src='data:image/svg+xml;base64,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' > </img>\nCreated in <span style='font-weight:600;margin-left:4px;'>Deepnote</span></a>",
      "metadata": {
        "tags": [],
        "created_in_deepnote_cell": true,
        "deepnote_cell_type": "markdown"
      }
    }
  ],
  "nbformat": 4,
  "nbformat_minor": 2,
  "metadata": {
    "orig_nbformat": 2,
    "deepnote_notebook_id": "75e9bd17-27ee-4f1a-ba60-4ae04962e98f",
    "deepnote_execution_queue": [],
    "deepnote": {}
  }
}