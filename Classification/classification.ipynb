{
 "cells": [
  {
   "cell_type": "markdown",
   "source": "## Classification - Decision Tree\n\"\"\"\nCreated on Wed Aug 26 18:24:06 2020\n\n@author: LOVE ARORA\n\"\"\"",
   "metadata": {
    "tags": [],
    "cell_id": "00000-c084f48c-8dcb-4a96-b2c4-de183a505e15",
    "deepnote_cell_type": "markdown"
   }
  },
  {
   "cell_type": "markdown",
   "source": "## Loding the dataset",
   "metadata": {
    "tags": [],
    "cell_id": "00001-80da8050-8550-4e0e-b6fa-b030c45710e7",
    "deepnote_cell_type": "markdown"
   }
  },
  {
   "cell_type": "code",
   "metadata": {
    "cell_id": "00000-e51cd1a4-4c85-4a67-947f-21446fbd82bd",
    "deepnote_to_be_reexecuted": false,
    "source_hash": "239ca23",
    "execution_start": 1621568198581,
    "execution_millis": 33,
    "deepnote_cell_type": "code"
   },
   "source": "# Load libraries\nimport pandas as pd\n\n#Loading Data\ncol_names = ['pregnant', 'glucose', 'bp', 'skin', 'insulin', 'bmi', 'pedigree', 'age', 'label']\npima = pd.read_csv(\"dataset/diabetes.csv\", header=0, names=col_names)\n\npima",
   "execution_count": null,
   "outputs": [
    {
     "output_type": "execute_result",
     "execution_count": 1,
     "data": {
      "application/vnd.deepnote.dataframe.v2+json": {
       "row_count": 768,
       "column_count": 9,
       "columns": [
        {
         "name": "pregnant",
         "dtype": "int64",
         "stats": {
          "unique_count": 17,
          "nan_count": 0,
          "min": "0",
          "max": "17",
          "histogram": [
           {
            "bin_start": 0,
            "bin_end": 1.7,
            "count": 246
           },
           {
            "bin_start": 1.7,
            "bin_end": 3.4,
            "count": 178
           },
           {
            "bin_start": 3.4,
            "bin_end": 5.1,
            "count": 125
           },
           {
            "bin_start": 5.1,
            "bin_end": 6.8,
            "count": 50
           },
           {
            "bin_start": 6.8,
            "bin_end": 8.5,
            "count": 83
           },
           {
            "bin_start": 8.5,
            "bin_end": 10.2,
            "count": 52
           },
           {
            "bin_start": 10.2,
            "bin_end": 11.9,
            "count": 11
           },
           {
            "bin_start": 11.9,
            "bin_end": 13.6,
            "count": 19
           },
           {
            "bin_start": 13.6,
            "bin_end": 15.299999999999999,
            "count": 3
           },
           {
            "bin_start": 15.299999999999999,
            "bin_end": 17,
            "count": 1
           }
          ]
         }
        },
        {
         "name": "glucose",
         "dtype": "int64",
         "stats": {
          "unique_count": 136,
          "nan_count": 0,
          "min": "0",
          "max": "199",
          "histogram": [
           {
            "bin_start": 0,
            "bin_end": 19.9,
            "count": 5
           },
           {
            "bin_start": 19.9,
            "bin_end": 39.8,
            "count": 0
           },
           {
            "bin_start": 39.8,
            "bin_end": 59.699999999999996,
            "count": 4
           },
           {
            "bin_start": 59.699999999999996,
            "bin_end": 79.6,
            "count": 32
           },
           {
            "bin_start": 79.6,
            "bin_end": 99.5,
            "count": 156
           },
           {
            "bin_start": 99.5,
            "bin_end": 119.39999999999999,
            "count": 211
           },
           {
            "bin_start": 119.39999999999999,
            "bin_end": 139.29999999999998,
            "count": 163
           },
           {
            "bin_start": 139.29999999999998,
            "bin_end": 159.2,
            "count": 95
           },
           {
            "bin_start": 159.2,
            "bin_end": 179.1,
            "count": 56
           },
           {
            "bin_start": 179.1,
            "bin_end": 199,
            "count": 46
           }
          ]
         }
        },
        {
         "name": "bp",
         "dtype": "int64",
         "stats": {
          "unique_count": 47,
          "nan_count": 0,
          "min": "0",
          "max": "122",
          "histogram": [
           {
            "bin_start": 0,
            "bin_end": 12.2,
            "count": 35
           },
           {
            "bin_start": 12.2,
            "bin_end": 24.4,
            "count": 1
           },
           {
            "bin_start": 24.4,
            "bin_end": 36.599999999999994,
            "count": 2
           },
           {
            "bin_start": 36.599999999999994,
            "bin_end": 48.8,
            "count": 13
           },
           {
            "bin_start": 48.8,
            "bin_end": 61,
            "count": 107
           },
           {
            "bin_start": 61,
            "bin_end": 73.19999999999999,
            "count": 261
           },
           {
            "bin_start": 73.19999999999999,
            "bin_end": 85.39999999999999,
            "count": 243
           },
           {
            "bin_start": 85.39999999999999,
            "bin_end": 97.6,
            "count": 87
           },
           {
            "bin_start": 97.6,
            "bin_end": 109.8,
            "count": 14
           },
           {
            "bin_start": 109.8,
            "bin_end": 122,
            "count": 5
           }
          ]
         }
        },
        {
         "name": "skin",
         "dtype": "int64",
         "stats": {
          "unique_count": 51,
          "nan_count": 0,
          "min": "0",
          "max": "99",
          "histogram": [
           {
            "bin_start": 0,
            "bin_end": 9.9,
            "count": 231
           },
           {
            "bin_start": 9.9,
            "bin_end": 19.8,
            "count": 107
           },
           {
            "bin_start": 19.8,
            "bin_end": 29.700000000000003,
            "count": 165
           },
           {
            "bin_start": 29.700000000000003,
            "bin_end": 39.6,
            "count": 175
           },
           {
            "bin_start": 39.6,
            "bin_end": 49.5,
            "count": 78
           },
           {
            "bin_start": 49.5,
            "bin_end": 59.400000000000006,
            "count": 9
           },
           {
            "bin_start": 59.400000000000006,
            "bin_end": 69.3,
            "count": 2
           },
           {
            "bin_start": 69.3,
            "bin_end": 79.2,
            "count": 0
           },
           {
            "bin_start": 79.2,
            "bin_end": 89.10000000000001,
            "count": 0
           },
           {
            "bin_start": 89.10000000000001,
            "bin_end": 99,
            "count": 1
           }
          ]
         }
        },
        {
         "name": "insulin",
         "dtype": "int64",
         "stats": {
          "unique_count": 186,
          "nan_count": 0,
          "min": "0",
          "max": "846",
          "histogram": [
           {
            "bin_start": 0,
            "bin_end": 84.6,
            "count": 487
           },
           {
            "bin_start": 84.6,
            "bin_end": 169.2,
            "count": 155
           },
           {
            "bin_start": 169.2,
            "bin_end": 253.79999999999998,
            "count": 70
           },
           {
            "bin_start": 253.79999999999998,
            "bin_end": 338.4,
            "count": 30
           },
           {
            "bin_start": 338.4,
            "bin_end": 423,
            "count": 8
           },
           {
            "bin_start": 423,
            "bin_end": 507.59999999999997,
            "count": 9
           },
           {
            "bin_start": 507.59999999999997,
            "bin_end": 592.1999999999999,
            "count": 5
           },
           {
            "bin_start": 592.1999999999999,
            "bin_end": 676.8,
            "count": 1
           },
           {
            "bin_start": 676.8,
            "bin_end": 761.4,
            "count": 2
           },
           {
            "bin_start": 761.4,
            "bin_end": 846,
            "count": 1
           }
          ]
         }
        },
        {
         "name": "bmi",
         "dtype": "float64",
         "stats": {
          "unique_count": 248,
          "nan_count": 0,
          "min": "0.0",
          "max": "67.1",
          "histogram": [
           {
            "bin_start": 0,
            "bin_end": 6.709999999999999,
            "count": 11
           },
           {
            "bin_start": 6.709999999999999,
            "bin_end": 13.419999999999998,
            "count": 0
           },
           {
            "bin_start": 13.419999999999998,
            "bin_end": 20.129999999999995,
            "count": 15
           },
           {
            "bin_start": 20.129999999999995,
            "bin_end": 26.839999999999996,
            "count": 156
           },
           {
            "bin_start": 26.839999999999996,
            "bin_end": 33.55,
            "count": 268
           },
           {
            "bin_start": 33.55,
            "bin_end": 40.25999999999999,
            "count": 224
           },
           {
            "bin_start": 40.25999999999999,
            "bin_end": 46.96999999999999,
            "count": 78
           },
           {
            "bin_start": 46.96999999999999,
            "bin_end": 53.67999999999999,
            "count": 12
           },
           {
            "bin_start": 53.67999999999999,
            "bin_end": 60.38999999999999,
            "count": 3
           },
           {
            "bin_start": 60.38999999999999,
            "bin_end": 67.1,
            "count": 1
           }
          ]
         }
        },
        {
         "name": "pedigree",
         "dtype": "float64",
         "stats": {
          "unique_count": 517,
          "nan_count": 0,
          "min": "0.078",
          "max": "2.42",
          "histogram": [
           {
            "bin_start": 0.078,
            "bin_end": 0.31220000000000003,
            "count": 318
           },
           {
            "bin_start": 0.31220000000000003,
            "bin_end": 0.5464,
            "count": 206
           },
           {
            "bin_start": 0.5464,
            "bin_end": 0.7806000000000001,
            "count": 136
           },
           {
            "bin_start": 0.7806000000000001,
            "bin_end": 1.0148000000000001,
            "count": 58
           },
           {
            "bin_start": 1.0148000000000001,
            "bin_end": 1.249,
            "count": 25
           },
           {
            "bin_start": 1.249,
            "bin_end": 1.4832000000000003,
            "count": 15
           },
           {
            "bin_start": 1.4832000000000003,
            "bin_end": 1.7174000000000003,
            "count": 3
           },
           {
            "bin_start": 1.7174000000000003,
            "bin_end": 1.9516000000000002,
            "count": 3
           },
           {
            "bin_start": 1.9516000000000002,
            "bin_end": 2.1858,
            "count": 1
           },
           {
            "bin_start": 2.1858,
            "bin_end": 2.42,
            "count": 3
           }
          ]
         }
        },
        {
         "name": "age",
         "dtype": "int64",
         "stats": {
          "unique_count": 52,
          "nan_count": 0,
          "min": "21",
          "max": "81",
          "histogram": [
           {
            "bin_start": 21,
            "bin_end": 27,
            "count": 300
           },
           {
            "bin_start": 27,
            "bin_end": 33,
            "count": 157
           },
           {
            "bin_start": 33,
            "bin_end": 39,
            "count": 92
           },
           {
            "bin_start": 39,
            "bin_end": 45,
            "count": 86
           },
           {
            "bin_start": 45,
            "bin_end": 51,
            "count": 52
           },
           {
            "bin_start": 51,
            "bin_end": 57,
            "count": 34
           },
           {
            "bin_start": 57,
            "bin_end": 63,
            "count": 26
           },
           {
            "bin_start": 63,
            "bin_end": 69,
            "count": 16
           },
           {
            "bin_start": 69,
            "bin_end": 75,
            "count": 4
           },
           {
            "bin_start": 75,
            "bin_end": 81,
            "count": 1
           }
          ]
         }
        },
        {
         "name": "label",
         "dtype": "int64",
         "stats": {
          "unique_count": 2,
          "nan_count": 0,
          "min": "0",
          "max": "1",
          "histogram": [
           {
            "bin_start": 0,
            "bin_end": 0.1,
            "count": 500
           },
           {
            "bin_start": 0.1,
            "bin_end": 0.2,
            "count": 0
           },
           {
            "bin_start": 0.2,
            "bin_end": 0.30000000000000004,
            "count": 0
           },
           {
            "bin_start": 0.30000000000000004,
            "bin_end": 0.4,
            "count": 0
           },
           {
            "bin_start": 0.4,
            "bin_end": 0.5,
            "count": 0
           },
           {
            "bin_start": 0.5,
            "bin_end": 0.6000000000000001,
            "count": 0
           },
           {
            "bin_start": 0.6000000000000001,
            "bin_end": 0.7000000000000001,
            "count": 0
           },
           {
            "bin_start": 0.7000000000000001,
            "bin_end": 0.8,
            "count": 0
           },
           {
            "bin_start": 0.8,
            "bin_end": 0.9,
            "count": 0
           },
           {
            "bin_start": 0.9,
            "bin_end": 1,
            "count": 268
           }
          ]
         }
        },
        {
         "name": "_deepnote_index_column",
         "dtype": "int64"
        }
       ],
       "rows_top": [
        {
         "pregnant": 6,
         "glucose": 148,
         "bp": 72,
         "skin": 35,
         "insulin": 0,
         "bmi": 33.6,
         "pedigree": 0.627,
         "age": 50,
         "label": 1,
         "_deepnote_index_column": 0
        },
        {
         "pregnant": 1,
         "glucose": 85,
         "bp": 66,
         "skin": 29,
         "insulin": 0,
         "bmi": 26.6,
         "pedigree": 0.351,
         "age": 31,
         "label": 0,
         "_deepnote_index_column": 1
        },
        {
         "pregnant": 8,
         "glucose": 183,
         "bp": 64,
         "skin": 0,
         "insulin": 0,
         "bmi": 23.3,
         "pedigree": 0.672,
         "age": 32,
         "label": 1,
         "_deepnote_index_column": 2
        },
        {
         "pregnant": 1,
         "glucose": 89,
         "bp": 66,
         "skin": 23,
         "insulin": 94,
         "bmi": 28.1,
         "pedigree": 0.167,
         "age": 21,
         "label": 0,
         "_deepnote_index_column": 3
        },
        {
         "pregnant": 0,
         "glucose": 137,
         "bp": 40,
         "skin": 35,
         "insulin": 168,
         "bmi": 43.1,
         "pedigree": 2.288,
         "age": 33,
         "label": 1,
         "_deepnote_index_column": 4
        },
        {
         "pregnant": 5,
         "glucose": 116,
         "bp": 74,
         "skin": 0,
         "insulin": 0,
         "bmi": 25.6,
         "pedigree": 0.201,
         "age": 30,
         "label": 0,
         "_deepnote_index_column": 5
        },
        {
         "pregnant": 3,
         "glucose": 78,
         "bp": 50,
         "skin": 32,
         "insulin": 88,
         "bmi": 31,
         "pedigree": 0.248,
         "age": 26,
         "label": 1,
         "_deepnote_index_column": 6
        },
        {
         "pregnant": 10,
         "glucose": 115,
         "bp": 0,
         "skin": 0,
         "insulin": 0,
         "bmi": 35.3,
         "pedigree": 0.134,
         "age": 29,
         "label": 0,
         "_deepnote_index_column": 7
        },
        {
         "pregnant": 2,
         "glucose": 197,
         "bp": 70,
         "skin": 45,
         "insulin": 543,
         "bmi": 30.5,
         "pedigree": 0.158,
         "age": 53,
         "label": 1,
         "_deepnote_index_column": 8
        },
        {
         "pregnant": 8,
         "glucose": 125,
         "bp": 96,
         "skin": 0,
         "insulin": 0,
         "bmi": 0,
         "pedigree": 0.232,
         "age": 54,
         "label": 1,
         "_deepnote_index_column": 9
        },
        {
         "pregnant": 4,
         "glucose": 110,
         "bp": 92,
         "skin": 0,
         "insulin": 0,
         "bmi": 37.6,
         "pedigree": 0.191,
         "age": 30,
         "label": 0,
         "_deepnote_index_column": 10
        },
        {
         "pregnant": 10,
         "glucose": 168,
         "bp": 74,
         "skin": 0,
         "insulin": 0,
         "bmi": 38,
         "pedigree": 0.537,
         "age": 34,
         "label": 1,
         "_deepnote_index_column": 11
        },
        {
         "pregnant": 10,
         "glucose": 139,
         "bp": 80,
         "skin": 0,
         "insulin": 0,
         "bmi": 27.1,
         "pedigree": 1.441,
         "age": 57,
         "label": 0,
         "_deepnote_index_column": 12
        },
        {
         "pregnant": 1,
         "glucose": 189,
         "bp": 60,
         "skin": 23,
         "insulin": 846,
         "bmi": 30.1,
         "pedigree": 0.398,
         "age": 59,
         "label": 1,
         "_deepnote_index_column": 13
        },
        {
         "pregnant": 5,
         "glucose": 166,
         "bp": 72,
         "skin": 19,
         "insulin": 175,
         "bmi": 25.8,
         "pedigree": 0.587,
         "age": 51,
         "label": 1,
         "_deepnote_index_column": 14
        },
        {
         "pregnant": 7,
         "glucose": 100,
         "bp": 0,
         "skin": 0,
         "insulin": 0,
         "bmi": 30,
         "pedigree": 0.484,
         "age": 32,
         "label": 1,
         "_deepnote_index_column": 15
        },
        {
         "pregnant": 0,
         "glucose": 118,
         "bp": 84,
         "skin": 47,
         "insulin": 230,
         "bmi": 45.8,
         "pedigree": 0.551,
         "age": 31,
         "label": 1,
         "_deepnote_index_column": 16
        },
        {
         "pregnant": 7,
         "glucose": 107,
         "bp": 74,
         "skin": 0,
         "insulin": 0,
         "bmi": 29.6,
         "pedigree": 0.254,
         "age": 31,
         "label": 1,
         "_deepnote_index_column": 17
        },
        {
         "pregnant": 1,
         "glucose": 103,
         "bp": 30,
         "skin": 38,
         "insulin": 83,
         "bmi": 43.3,
         "pedigree": 0.183,
         "age": 33,
         "label": 0,
         "_deepnote_index_column": 18
        },
        {
         "pregnant": 1,
         "glucose": 115,
         "bp": 70,
         "skin": 30,
         "insulin": 96,
         "bmi": 34.6,
         "pedigree": 0.529,
         "age": 32,
         "label": 1,
         "_deepnote_index_column": 19
        },
        {
         "pregnant": 3,
         "glucose": 126,
         "bp": 88,
         "skin": 41,
         "insulin": 235,
         "bmi": 39.3,
         "pedigree": 0.704,
         "age": 27,
         "label": 0,
         "_deepnote_index_column": 20
        },
        {
         "pregnant": 8,
         "glucose": 99,
         "bp": 84,
         "skin": 0,
         "insulin": 0,
         "bmi": 35.4,
         "pedigree": 0.388,
         "age": 50,
         "label": 0,
         "_deepnote_index_column": 21
        },
        {
         "pregnant": 7,
         "glucose": 196,
         "bp": 90,
         "skin": 0,
         "insulin": 0,
         "bmi": 39.8,
         "pedigree": 0.451,
         "age": 41,
         "label": 1,
         "_deepnote_index_column": 22
        },
        {
         "pregnant": 9,
         "glucose": 119,
         "bp": 80,
         "skin": 35,
         "insulin": 0,
         "bmi": 29,
         "pedigree": 0.263,
         "age": 29,
         "label": 1,
         "_deepnote_index_column": 23
        },
        {
         "pregnant": 11,
         "glucose": 143,
         "bp": 94,
         "skin": 33,
         "insulin": 146,
         "bmi": 36.6,
         "pedigree": 0.254,
         "age": 51,
         "label": 1,
         "_deepnote_index_column": 24
        },
        {
         "pregnant": 10,
         "glucose": 125,
         "bp": 70,
         "skin": 26,
         "insulin": 115,
         "bmi": 31.1,
         "pedigree": 0.205,
         "age": 41,
         "label": 1,
         "_deepnote_index_column": 25
        },
        {
         "pregnant": 7,
         "glucose": 147,
         "bp": 76,
         "skin": 0,
         "insulin": 0,
         "bmi": 39.4,
         "pedigree": 0.257,
         "age": 43,
         "label": 1,
         "_deepnote_index_column": 26
        },
        {
         "pregnant": 1,
         "glucose": 97,
         "bp": 66,
         "skin": 15,
         "insulin": 140,
         "bmi": 23.2,
         "pedigree": 0.487,
         "age": 22,
         "label": 0,
         "_deepnote_index_column": 27
        },
        {
         "pregnant": 13,
         "glucose": 145,
         "bp": 82,
         "skin": 19,
         "insulin": 110,
         "bmi": 22.2,
         "pedigree": 0.245,
         "age": 57,
         "label": 0,
         "_deepnote_index_column": 28
        },
        {
         "pregnant": 5,
         "glucose": 117,
         "bp": 92,
         "skin": 0,
         "insulin": 0,
         "bmi": 34.1,
         "pedigree": 0.337,
         "age": 38,
         "label": 0,
         "_deepnote_index_column": 29
        },
        {
         "pregnant": 5,
         "glucose": 109,
         "bp": 75,
         "skin": 26,
         "insulin": 0,
         "bmi": 36,
         "pedigree": 0.546,
         "age": 60,
         "label": 0,
         "_deepnote_index_column": 30
        },
        {
         "pregnant": 3,
         "glucose": 158,
         "bp": 76,
         "skin": 36,
         "insulin": 245,
         "bmi": 31.6,
         "pedigree": 0.851,
         "age": 28,
         "label": 1,
         "_deepnote_index_column": 31
        },
        {
         "pregnant": 3,
         "glucose": 88,
         "bp": 58,
         "skin": 11,
         "insulin": 54,
         "bmi": 24.8,
         "pedigree": 0.267,
         "age": 22,
         "label": 0,
         "_deepnote_index_column": 32
        },
        {
         "pregnant": 6,
         "glucose": 92,
         "bp": 92,
         "skin": 0,
         "insulin": 0,
         "bmi": 19.9,
         "pedigree": 0.188,
         "age": 28,
         "label": 0,
         "_deepnote_index_column": 33
        },
        {
         "pregnant": 10,
         "glucose": 122,
         "bp": 78,
         "skin": 31,
         "insulin": 0,
         "bmi": 27.6,
         "pedigree": 0.512,
         "age": 45,
         "label": 0,
         "_deepnote_index_column": 34
        },
        {
         "pregnant": 4,
         "glucose": 103,
         "bp": 60,
         "skin": 33,
         "insulin": 192,
         "bmi": 24,
         "pedigree": 0.966,
         "age": 33,
         "label": 0,
         "_deepnote_index_column": 35
        },
        {
         "pregnant": 11,
         "glucose": 138,
         "bp": 76,
         "skin": 0,
         "insulin": 0,
         "bmi": 33.2,
         "pedigree": 0.42,
         "age": 35,
         "label": 0,
         "_deepnote_index_column": 36
        },
        {
         "pregnant": 9,
         "glucose": 102,
         "bp": 76,
         "skin": 37,
         "insulin": 0,
         "bmi": 32.9,
         "pedigree": 0.665,
         "age": 46,
         "label": 1,
         "_deepnote_index_column": 37
        },
        {
         "pregnant": 2,
         "glucose": 90,
         "bp": 68,
         "skin": 42,
         "insulin": 0,
         "bmi": 38.2,
         "pedigree": 0.503,
         "age": 27,
         "label": 1,
         "_deepnote_index_column": 38
        },
        {
         "pregnant": 4,
         "glucose": 111,
         "bp": 72,
         "skin": 47,
         "insulin": 207,
         "bmi": 37.1,
         "pedigree": 1.39,
         "age": 56,
         "label": 1,
         "_deepnote_index_column": 39
        },
        {
         "pregnant": 3,
         "glucose": 180,
         "bp": 64,
         "skin": 25,
         "insulin": 70,
         "bmi": 34,
         "pedigree": 0.271,
         "age": 26,
         "label": 0,
         "_deepnote_index_column": 40
        },
        {
         "pregnant": 7,
         "glucose": 133,
         "bp": 84,
         "skin": 0,
         "insulin": 0,
         "bmi": 40.2,
         "pedigree": 0.696,
         "age": 37,
         "label": 0,
         "_deepnote_index_column": 41
        },
        {
         "pregnant": 7,
         "glucose": 106,
         "bp": 92,
         "skin": 18,
         "insulin": 0,
         "bmi": 22.7,
         "pedigree": 0.235,
         "age": 48,
         "label": 0,
         "_deepnote_index_column": 42
        },
        {
         "pregnant": 9,
         "glucose": 171,
         "bp": 110,
         "skin": 24,
         "insulin": 240,
         "bmi": 45.4,
         "pedigree": 0.721,
         "age": 54,
         "label": 1,
         "_deepnote_index_column": 43
        },
        {
         "pregnant": 7,
         "glucose": 159,
         "bp": 64,
         "skin": 0,
         "insulin": 0,
         "bmi": 27.4,
         "pedigree": 0.294,
         "age": 40,
         "label": 0,
         "_deepnote_index_column": 44
        },
        {
         "pregnant": 0,
         "glucose": 180,
         "bp": 66,
         "skin": 39,
         "insulin": 0,
         "bmi": 42,
         "pedigree": 1.893,
         "age": 25,
         "label": 1,
         "_deepnote_index_column": 45
        },
        {
         "pregnant": 1,
         "glucose": 146,
         "bp": 56,
         "skin": 0,
         "insulin": 0,
         "bmi": 29.7,
         "pedigree": 0.564,
         "age": 29,
         "label": 0,
         "_deepnote_index_column": 46
        },
        {
         "pregnant": 2,
         "glucose": 71,
         "bp": 70,
         "skin": 27,
         "insulin": 0,
         "bmi": 28,
         "pedigree": 0.586,
         "age": 22,
         "label": 0,
         "_deepnote_index_column": 47
        },
        {
         "pregnant": 7,
         "glucose": 103,
         "bp": 66,
         "skin": 32,
         "insulin": 0,
         "bmi": 39.1,
         "pedigree": 0.344,
         "age": 31,
         "label": 1,
         "_deepnote_index_column": 48
        },
        {
         "pregnant": 7,
         "glucose": 105,
         "bp": 0,
         "skin": 0,
         "insulin": 0,
         "bmi": 0,
         "pedigree": 0.305,
         "age": 24,
         "label": 0,
         "_deepnote_index_column": 49
        },
        {
         "pregnant": 1,
         "glucose": 103,
         "bp": 80,
         "skin": 11,
         "insulin": 82,
         "bmi": 19.4,
         "pedigree": 0.491,
         "age": 22,
         "label": 0,
         "_deepnote_index_column": 50
        },
        {
         "pregnant": 1,
         "glucose": 101,
         "bp": 50,
         "skin": 15,
         "insulin": 36,
         "bmi": 24.2,
         "pedigree": 0.526,
         "age": 26,
         "label": 0,
         "_deepnote_index_column": 51
        },
        {
         "pregnant": 5,
         "glucose": 88,
         "bp": 66,
         "skin": 21,
         "insulin": 23,
         "bmi": 24.4,
         "pedigree": 0.342,
         "age": 30,
         "label": 0,
         "_deepnote_index_column": 52
        },
        {
         "pregnant": 8,
         "glucose": 176,
         "bp": 90,
         "skin": 34,
         "insulin": 300,
         "bmi": 33.7,
         "pedigree": 0.467,
         "age": 58,
         "label": 1,
         "_deepnote_index_column": 53
        },
        {
         "pregnant": 7,
         "glucose": 150,
         "bp": 66,
         "skin": 42,
         "insulin": 342,
         "bmi": 34.7,
         "pedigree": 0.718,
         "age": 42,
         "label": 0,
         "_deepnote_index_column": 54
        }
       ],
       "rows_bottom": [
        {
         "pregnant": 10,
         "glucose": 129,
         "bp": 62,
         "skin": 36,
         "insulin": 0,
         "bmi": 41.2,
         "pedigree": 0.441,
         "age": 38,
         "label": 1,
         "_deepnote_index_column": 712
        },
        {
         "pregnant": 0,
         "glucose": 134,
         "bp": 58,
         "skin": 20,
         "insulin": 291,
         "bmi": 26.4,
         "pedigree": 0.352,
         "age": 21,
         "label": 0,
         "_deepnote_index_column": 713
        },
        {
         "pregnant": 3,
         "glucose": 102,
         "bp": 74,
         "skin": 0,
         "insulin": 0,
         "bmi": 29.5,
         "pedigree": 0.121,
         "age": 32,
         "label": 0,
         "_deepnote_index_column": 714
        },
        {
         "pregnant": 7,
         "glucose": 187,
         "bp": 50,
         "skin": 33,
         "insulin": 392,
         "bmi": 33.9,
         "pedigree": 0.826,
         "age": 34,
         "label": 1,
         "_deepnote_index_column": 715
        },
        {
         "pregnant": 3,
         "glucose": 173,
         "bp": 78,
         "skin": 39,
         "insulin": 185,
         "bmi": 33.8,
         "pedigree": 0.97,
         "age": 31,
         "label": 1,
         "_deepnote_index_column": 716
        },
        {
         "pregnant": 10,
         "glucose": 94,
         "bp": 72,
         "skin": 18,
         "insulin": 0,
         "bmi": 23.1,
         "pedigree": 0.595,
         "age": 56,
         "label": 0,
         "_deepnote_index_column": 717
        },
        {
         "pregnant": 1,
         "glucose": 108,
         "bp": 60,
         "skin": 46,
         "insulin": 178,
         "bmi": 35.5,
         "pedigree": 0.415,
         "age": 24,
         "label": 0,
         "_deepnote_index_column": 718
        },
        {
         "pregnant": 5,
         "glucose": 97,
         "bp": 76,
         "skin": 27,
         "insulin": 0,
         "bmi": 35.6,
         "pedigree": 0.378,
         "age": 52,
         "label": 1,
         "_deepnote_index_column": 719
        },
        {
         "pregnant": 4,
         "glucose": 83,
         "bp": 86,
         "skin": 19,
         "insulin": 0,
         "bmi": 29.3,
         "pedigree": 0.317,
         "age": 34,
         "label": 0,
         "_deepnote_index_column": 720
        },
        {
         "pregnant": 1,
         "glucose": 114,
         "bp": 66,
         "skin": 36,
         "insulin": 200,
         "bmi": 38.1,
         "pedigree": 0.289,
         "age": 21,
         "label": 0,
         "_deepnote_index_column": 721
        },
        {
         "pregnant": 1,
         "glucose": 149,
         "bp": 68,
         "skin": 29,
         "insulin": 127,
         "bmi": 29.3,
         "pedigree": 0.349,
         "age": 42,
         "label": 1,
         "_deepnote_index_column": 722
        },
        {
         "pregnant": 5,
         "glucose": 117,
         "bp": 86,
         "skin": 30,
         "insulin": 105,
         "bmi": 39.1,
         "pedigree": 0.251,
         "age": 42,
         "label": 0,
         "_deepnote_index_column": 723
        },
        {
         "pregnant": 1,
         "glucose": 111,
         "bp": 94,
         "skin": 0,
         "insulin": 0,
         "bmi": 32.8,
         "pedigree": 0.265,
         "age": 45,
         "label": 0,
         "_deepnote_index_column": 724
        },
        {
         "pregnant": 4,
         "glucose": 112,
         "bp": 78,
         "skin": 40,
         "insulin": 0,
         "bmi": 39.4,
         "pedigree": 0.236,
         "age": 38,
         "label": 0,
         "_deepnote_index_column": 725
        },
        {
         "pregnant": 1,
         "glucose": 116,
         "bp": 78,
         "skin": 29,
         "insulin": 180,
         "bmi": 36.1,
         "pedigree": 0.496,
         "age": 25,
         "label": 0,
         "_deepnote_index_column": 726
        },
        {
         "pregnant": 0,
         "glucose": 141,
         "bp": 84,
         "skin": 26,
         "insulin": 0,
         "bmi": 32.4,
         "pedigree": 0.433,
         "age": 22,
         "label": 0,
         "_deepnote_index_column": 727
        },
        {
         "pregnant": 2,
         "glucose": 175,
         "bp": 88,
         "skin": 0,
         "insulin": 0,
         "bmi": 22.9,
         "pedigree": 0.326,
         "age": 22,
         "label": 0,
         "_deepnote_index_column": 728
        },
        {
         "pregnant": 2,
         "glucose": 92,
         "bp": 52,
         "skin": 0,
         "insulin": 0,
         "bmi": 30.1,
         "pedigree": 0.141,
         "age": 22,
         "label": 0,
         "_deepnote_index_column": 729
        },
        {
         "pregnant": 3,
         "glucose": 130,
         "bp": 78,
         "skin": 23,
         "insulin": 79,
         "bmi": 28.4,
         "pedigree": 0.323,
         "age": 34,
         "label": 1,
         "_deepnote_index_column": 730
        },
        {
         "pregnant": 8,
         "glucose": 120,
         "bp": 86,
         "skin": 0,
         "insulin": 0,
         "bmi": 28.4,
         "pedigree": 0.259,
         "age": 22,
         "label": 1,
         "_deepnote_index_column": 731
        },
        {
         "pregnant": 2,
         "glucose": 174,
         "bp": 88,
         "skin": 37,
         "insulin": 120,
         "bmi": 44.5,
         "pedigree": 0.646,
         "age": 24,
         "label": 1,
         "_deepnote_index_column": 732
        },
        {
         "pregnant": 2,
         "glucose": 106,
         "bp": 56,
         "skin": 27,
         "insulin": 165,
         "bmi": 29,
         "pedigree": 0.426,
         "age": 22,
         "label": 0,
         "_deepnote_index_column": 733
        },
        {
         "pregnant": 2,
         "glucose": 105,
         "bp": 75,
         "skin": 0,
         "insulin": 0,
         "bmi": 23.3,
         "pedigree": 0.56,
         "age": 53,
         "label": 0,
         "_deepnote_index_column": 734
        },
        {
         "pregnant": 4,
         "glucose": 95,
         "bp": 60,
         "skin": 32,
         "insulin": 0,
         "bmi": 35.4,
         "pedigree": 0.284,
         "age": 28,
         "label": 0,
         "_deepnote_index_column": 735
        },
        {
         "pregnant": 0,
         "glucose": 126,
         "bp": 86,
         "skin": 27,
         "insulin": 120,
         "bmi": 27.4,
         "pedigree": 0.515,
         "age": 21,
         "label": 0,
         "_deepnote_index_column": 736
        },
        {
         "pregnant": 8,
         "glucose": 65,
         "bp": 72,
         "skin": 23,
         "insulin": 0,
         "bmi": 32,
         "pedigree": 0.6,
         "age": 42,
         "label": 0,
         "_deepnote_index_column": 737
        },
        {
         "pregnant": 2,
         "glucose": 99,
         "bp": 60,
         "skin": 17,
         "insulin": 160,
         "bmi": 36.6,
         "pedigree": 0.453,
         "age": 21,
         "label": 0,
         "_deepnote_index_column": 738
        },
        {
         "pregnant": 1,
         "glucose": 102,
         "bp": 74,
         "skin": 0,
         "insulin": 0,
         "bmi": 39.5,
         "pedigree": 0.293,
         "age": 42,
         "label": 1,
         "_deepnote_index_column": 739
        },
        {
         "pregnant": 11,
         "glucose": 120,
         "bp": 80,
         "skin": 37,
         "insulin": 150,
         "bmi": 42.3,
         "pedigree": 0.785,
         "age": 48,
         "label": 1,
         "_deepnote_index_column": 740
        },
        {
         "pregnant": 3,
         "glucose": 102,
         "bp": 44,
         "skin": 20,
         "insulin": 94,
         "bmi": 30.8,
         "pedigree": 0.4,
         "age": 26,
         "label": 0,
         "_deepnote_index_column": 741
        },
        {
         "pregnant": 1,
         "glucose": 109,
         "bp": 58,
         "skin": 18,
         "insulin": 116,
         "bmi": 28.5,
         "pedigree": 0.219,
         "age": 22,
         "label": 0,
         "_deepnote_index_column": 742
        },
        {
         "pregnant": 9,
         "glucose": 140,
         "bp": 94,
         "skin": 0,
         "insulin": 0,
         "bmi": 32.7,
         "pedigree": 0.734,
         "age": 45,
         "label": 1,
         "_deepnote_index_column": 743
        },
        {
         "pregnant": 13,
         "glucose": 153,
         "bp": 88,
         "skin": 37,
         "insulin": 140,
         "bmi": 40.6,
         "pedigree": 1.174,
         "age": 39,
         "label": 0,
         "_deepnote_index_column": 744
        },
        {
         "pregnant": 12,
         "glucose": 100,
         "bp": 84,
         "skin": 33,
         "insulin": 105,
         "bmi": 30,
         "pedigree": 0.488,
         "age": 46,
         "label": 0,
         "_deepnote_index_column": 745
        },
        {
         "pregnant": 1,
         "glucose": 147,
         "bp": 94,
         "skin": 41,
         "insulin": 0,
         "bmi": 49.3,
         "pedigree": 0.358,
         "age": 27,
         "label": 1,
         "_deepnote_index_column": 746
        },
        {
         "pregnant": 1,
         "glucose": 81,
         "bp": 74,
         "skin": 41,
         "insulin": 57,
         "bmi": 46.3,
         "pedigree": 1.096,
         "age": 32,
         "label": 0,
         "_deepnote_index_column": 747
        },
        {
         "pregnant": 3,
         "glucose": 187,
         "bp": 70,
         "skin": 22,
         "insulin": 200,
         "bmi": 36.4,
         "pedigree": 0.408,
         "age": 36,
         "label": 1,
         "_deepnote_index_column": 748
        },
        {
         "pregnant": 6,
         "glucose": 162,
         "bp": 62,
         "skin": 0,
         "insulin": 0,
         "bmi": 24.3,
         "pedigree": 0.178,
         "age": 50,
         "label": 1,
         "_deepnote_index_column": 749
        },
        {
         "pregnant": 4,
         "glucose": 136,
         "bp": 70,
         "skin": 0,
         "insulin": 0,
         "bmi": 31.2,
         "pedigree": 1.182,
         "age": 22,
         "label": 1,
         "_deepnote_index_column": 750
        },
        {
         "pregnant": 1,
         "glucose": 121,
         "bp": 78,
         "skin": 39,
         "insulin": 74,
         "bmi": 39,
         "pedigree": 0.261,
         "age": 28,
         "label": 0,
         "_deepnote_index_column": 751
        },
        {
         "pregnant": 3,
         "glucose": 108,
         "bp": 62,
         "skin": 24,
         "insulin": 0,
         "bmi": 26,
         "pedigree": 0.223,
         "age": 25,
         "label": 0,
         "_deepnote_index_column": 752
        },
        {
         "pregnant": 0,
         "glucose": 181,
         "bp": 88,
         "skin": 44,
         "insulin": 510,
         "bmi": 43.3,
         "pedigree": 0.222,
         "age": 26,
         "label": 1,
         "_deepnote_index_column": 753
        },
        {
         "pregnant": 8,
         "glucose": 154,
         "bp": 78,
         "skin": 32,
         "insulin": 0,
         "bmi": 32.4,
         "pedigree": 0.443,
         "age": 45,
         "label": 1,
         "_deepnote_index_column": 754
        },
        {
         "pregnant": 1,
         "glucose": 128,
         "bp": 88,
         "skin": 39,
         "insulin": 110,
         "bmi": 36.5,
         "pedigree": 1.057,
         "age": 37,
         "label": 1,
         "_deepnote_index_column": 755
        },
        {
         "pregnant": 7,
         "glucose": 137,
         "bp": 90,
         "skin": 41,
         "insulin": 0,
         "bmi": 32,
         "pedigree": 0.391,
         "age": 39,
         "label": 0,
         "_deepnote_index_column": 756
        },
        {
         "pregnant": 0,
         "glucose": 123,
         "bp": 72,
         "skin": 0,
         "insulin": 0,
         "bmi": 36.3,
         "pedigree": 0.258,
         "age": 52,
         "label": 1,
         "_deepnote_index_column": 757
        },
        {
         "pregnant": 1,
         "glucose": 106,
         "bp": 76,
         "skin": 0,
         "insulin": 0,
         "bmi": 37.5,
         "pedigree": 0.197,
         "age": 26,
         "label": 0,
         "_deepnote_index_column": 758
        },
        {
         "pregnant": 6,
         "glucose": 190,
         "bp": 92,
         "skin": 0,
         "insulin": 0,
         "bmi": 35.5,
         "pedigree": 0.278,
         "age": 66,
         "label": 1,
         "_deepnote_index_column": 759
        },
        {
         "pregnant": 2,
         "glucose": 88,
         "bp": 58,
         "skin": 26,
         "insulin": 16,
         "bmi": 28.4,
         "pedigree": 0.766,
         "age": 22,
         "label": 0,
         "_deepnote_index_column": 760
        },
        {
         "pregnant": 9,
         "glucose": 170,
         "bp": 74,
         "skin": 31,
         "insulin": 0,
         "bmi": 44,
         "pedigree": 0.403,
         "age": 43,
         "label": 1,
         "_deepnote_index_column": 761
        },
        {
         "pregnant": 9,
         "glucose": 89,
         "bp": 62,
         "skin": 0,
         "insulin": 0,
         "bmi": 22.5,
         "pedigree": 0.142,
         "age": 33,
         "label": 0,
         "_deepnote_index_column": 762
        },
        {
         "pregnant": 10,
         "glucose": 101,
         "bp": 76,
         "skin": 48,
         "insulin": 180,
         "bmi": 32.9,
         "pedigree": 0.171,
         "age": 63,
         "label": 0,
         "_deepnote_index_column": 763
        },
        {
         "pregnant": 2,
         "glucose": 122,
         "bp": 70,
         "skin": 27,
         "insulin": 0,
         "bmi": 36.8,
         "pedigree": 0.34,
         "age": 27,
         "label": 0,
         "_deepnote_index_column": 764
        },
        {
         "pregnant": 5,
         "glucose": 121,
         "bp": 72,
         "skin": 23,
         "insulin": 112,
         "bmi": 26.2,
         "pedigree": 0.245,
         "age": 30,
         "label": 0,
         "_deepnote_index_column": 765
        },
        {
         "pregnant": 1,
         "glucose": 126,
         "bp": 60,
         "skin": 0,
         "insulin": 0,
         "bmi": 30.1,
         "pedigree": 0.349,
         "age": 47,
         "label": 1,
         "_deepnote_index_column": 766
        },
        {
         "pregnant": 1,
         "glucose": 93,
         "bp": 70,
         "skin": 31,
         "insulin": 0,
         "bmi": 30.4,
         "pedigree": 0.315,
         "age": 23,
         "label": 0,
         "_deepnote_index_column": 767
        }
       ]
      },
      "text/plain": "     pregnant  glucose  bp  skin  insulin   bmi  pedigree  age  label\n0           6      148  72    35        0  33.6     0.627   50      1\n1           1       85  66    29        0  26.6     0.351   31      0\n2           8      183  64     0        0  23.3     0.672   32      1\n3           1       89  66    23       94  28.1     0.167   21      0\n4           0      137  40    35      168  43.1     2.288   33      1\n..        ...      ...  ..   ...      ...   ...       ...  ...    ...\n763        10      101  76    48      180  32.9     0.171   63      0\n764         2      122  70    27        0  36.8     0.340   27      0\n765         5      121  72    23      112  26.2     0.245   30      0\n766         1      126  60     0        0  30.1     0.349   47      1\n767         1       93  70    31        0  30.4     0.315   23      0\n\n[768 rows x 9 columns]",
      "text/html": "<div>\n<style scoped>\n    .dataframe tbody tr th:only-of-type {\n        vertical-align: middle;\n    }\n\n    .dataframe tbody tr th {\n        vertical-align: top;\n    }\n\n    .dataframe thead th {\n        text-align: right;\n    }\n</style>\n<table border=\"1\" class=\"dataframe\">\n  <thead>\n    <tr style=\"text-align: right;\">\n      <th></th>\n      <th>pregnant</th>\n      <th>glucose</th>\n      <th>bp</th>\n      <th>skin</th>\n      <th>insulin</th>\n      <th>bmi</th>\n      <th>pedigree</th>\n      <th>age</th>\n      <th>label</th>\n    </tr>\n  </thead>\n  <tbody>\n    <tr>\n      <th>0</th>\n      <td>6</td>\n      <td>148</td>\n      <td>72</td>\n      <td>35</td>\n      <td>0</td>\n      <td>33.6</td>\n      <td>0.627</td>\n      <td>50</td>\n      <td>1</td>\n    </tr>\n    <tr>\n      <th>1</th>\n      <td>1</td>\n      <td>85</td>\n      <td>66</td>\n      <td>29</td>\n      <td>0</td>\n      <td>26.6</td>\n      <td>0.351</td>\n      <td>31</td>\n      <td>0</td>\n    </tr>\n    <tr>\n      <th>2</th>\n      <td>8</td>\n      <td>183</td>\n      <td>64</td>\n      <td>0</td>\n      <td>0</td>\n      <td>23.3</td>\n      <td>0.672</td>\n      <td>32</td>\n      <td>1</td>\n    </tr>\n    <tr>\n      <th>3</th>\n      <td>1</td>\n      <td>89</td>\n      <td>66</td>\n      <td>23</td>\n      <td>94</td>\n      <td>28.1</td>\n      <td>0.167</td>\n      <td>21</td>\n      <td>0</td>\n    </tr>\n    <tr>\n      <th>4</th>\n      <td>0</td>\n      <td>137</td>\n      <td>40</td>\n      <td>35</td>\n      <td>168</td>\n      <td>43.1</td>\n      <td>2.288</td>\n      <td>33</td>\n      <td>1</td>\n    </tr>\n    <tr>\n      <th>...</th>\n      <td>...</td>\n      <td>...</td>\n      <td>...</td>\n      <td>...</td>\n      <td>...</td>\n      <td>...</td>\n      <td>...</td>\n      <td>...</td>\n      <td>...</td>\n    </tr>\n    <tr>\n      <th>763</th>\n      <td>10</td>\n      <td>101</td>\n      <td>76</td>\n      <td>48</td>\n      <td>180</td>\n      <td>32.9</td>\n      <td>0.171</td>\n      <td>63</td>\n      <td>0</td>\n    </tr>\n    <tr>\n      <th>764</th>\n      <td>2</td>\n      <td>122</td>\n      <td>70</td>\n      <td>27</td>\n      <td>0</td>\n      <td>36.8</td>\n      <td>0.340</td>\n      <td>27</td>\n      <td>0</td>\n    </tr>\n    <tr>\n      <th>765</th>\n      <td>5</td>\n      <td>121</td>\n      <td>72</td>\n      <td>23</td>\n      <td>112</td>\n      <td>26.2</td>\n      <td>0.245</td>\n      <td>30</td>\n      <td>0</td>\n    </tr>\n    <tr>\n      <th>766</th>\n      <td>1</td>\n      <td>126</td>\n      <td>60</td>\n      <td>0</td>\n      <td>0</td>\n      <td>30.1</td>\n      <td>0.349</td>\n      <td>47</td>\n      <td>1</td>\n    </tr>\n    <tr>\n      <th>767</th>\n      <td>1</td>\n      <td>93</td>\n      <td>70</td>\n      <td>31</td>\n      <td>0</td>\n      <td>30.4</td>\n      <td>0.315</td>\n      <td>23</td>\n      <td>0</td>\n    </tr>\n  </tbody>\n</table>\n<p>768 rows × 9 columns</p>\n</div>"
     },
     "metadata": {}
    }
   ]
  },
  {
   "cell_type": "markdown",
   "source": "## Data Exploration",
   "metadata": {
    "tags": [],
    "cell_id": "00003-17365799-2286-4d66-8e0a-f2b051816e4d",
    "deepnote_cell_type": "markdown"
   }
  },
  {
   "cell_type": "code",
   "metadata": {
    "tags": [],
    "cell_id": "00004-f3015677-03f6-4cc6-9a2b-b770db8118e0",
    "deepnote_to_be_reexecuted": false,
    "source_hash": "986f39d7",
    "execution_start": 1621568238134,
    "execution_millis": 53,
    "deepnote_cell_type": "code"
   },
   "source": "pima.head()",
   "execution_count": null,
   "outputs": [
    {
     "output_type": "execute_result",
     "execution_count": 2,
     "data": {
      "application/vnd.deepnote.dataframe.v2+json": {
       "row_count": 5,
       "column_count": 9,
       "columns": [
        {
         "name": "pregnant",
         "dtype": "int64",
         "stats": {
          "unique_count": 4,
          "nan_count": 0,
          "min": "0",
          "max": "8",
          "histogram": [
           {
            "bin_start": 0,
            "bin_end": 0.8,
            "count": 1
           },
           {
            "bin_start": 0.8,
            "bin_end": 1.6,
            "count": 2
           },
           {
            "bin_start": 1.6,
            "bin_end": 2.4000000000000004,
            "count": 0
           },
           {
            "bin_start": 2.4000000000000004,
            "bin_end": 3.2,
            "count": 0
           },
           {
            "bin_start": 3.2,
            "bin_end": 4,
            "count": 0
           },
           {
            "bin_start": 4,
            "bin_end": 4.800000000000001,
            "count": 0
           },
           {
            "bin_start": 4.800000000000001,
            "bin_end": 5.6000000000000005,
            "count": 0
           },
           {
            "bin_start": 5.6000000000000005,
            "bin_end": 6.4,
            "count": 1
           },
           {
            "bin_start": 6.4,
            "bin_end": 7.2,
            "count": 0
           },
           {
            "bin_start": 7.2,
            "bin_end": 8,
            "count": 1
           }
          ]
         }
        },
        {
         "name": "glucose",
         "dtype": "int64",
         "stats": {
          "unique_count": 5,
          "nan_count": 0,
          "min": "85",
          "max": "183",
          "histogram": [
           {
            "bin_start": 85,
            "bin_end": 94.8,
            "count": 2
           },
           {
            "bin_start": 94.8,
            "bin_end": 104.6,
            "count": 0
           },
           {
            "bin_start": 104.6,
            "bin_end": 114.4,
            "count": 0
           },
           {
            "bin_start": 114.4,
            "bin_end": 124.2,
            "count": 0
           },
           {
            "bin_start": 124.2,
            "bin_end": 134,
            "count": 0
           },
           {
            "bin_start": 134,
            "bin_end": 143.8,
            "count": 1
           },
           {
            "bin_start": 143.8,
            "bin_end": 153.60000000000002,
            "count": 1
           },
           {
            "bin_start": 153.60000000000002,
            "bin_end": 163.4,
            "count": 0
           },
           {
            "bin_start": 163.4,
            "bin_end": 173.2,
            "count": 0
           },
           {
            "bin_start": 173.2,
            "bin_end": 183,
            "count": 1
           }
          ]
         }
        },
        {
         "name": "bp",
         "dtype": "int64",
         "stats": {
          "unique_count": 4,
          "nan_count": 0,
          "min": "40",
          "max": "72",
          "histogram": [
           {
            "bin_start": 40,
            "bin_end": 43.2,
            "count": 1
           },
           {
            "bin_start": 43.2,
            "bin_end": 46.4,
            "count": 0
           },
           {
            "bin_start": 46.4,
            "bin_end": 49.6,
            "count": 0
           },
           {
            "bin_start": 49.6,
            "bin_end": 52.8,
            "count": 0
           },
           {
            "bin_start": 52.8,
            "bin_end": 56,
            "count": 0
           },
           {
            "bin_start": 56,
            "bin_end": 59.2,
            "count": 0
           },
           {
            "bin_start": 59.2,
            "bin_end": 62.400000000000006,
            "count": 0
           },
           {
            "bin_start": 62.400000000000006,
            "bin_end": 65.6,
            "count": 1
           },
           {
            "bin_start": 65.6,
            "bin_end": 68.8,
            "count": 2
           },
           {
            "bin_start": 68.8,
            "bin_end": 72,
            "count": 1
           }
          ]
         }
        },
        {
         "name": "skin",
         "dtype": "int64",
         "stats": {
          "unique_count": 4,
          "nan_count": 0,
          "min": "0",
          "max": "35",
          "histogram": [
           {
            "bin_start": 0,
            "bin_end": 3.5,
            "count": 1
           },
           {
            "bin_start": 3.5,
            "bin_end": 7,
            "count": 0
           },
           {
            "bin_start": 7,
            "bin_end": 10.5,
            "count": 0
           },
           {
            "bin_start": 10.5,
            "bin_end": 14,
            "count": 0
           },
           {
            "bin_start": 14,
            "bin_end": 17.5,
            "count": 0
           },
           {
            "bin_start": 17.5,
            "bin_end": 21,
            "count": 0
           },
           {
            "bin_start": 21,
            "bin_end": 24.5,
            "count": 1
           },
           {
            "bin_start": 24.5,
            "bin_end": 28,
            "count": 0
           },
           {
            "bin_start": 28,
            "bin_end": 31.5,
            "count": 1
           },
           {
            "bin_start": 31.5,
            "bin_end": 35,
            "count": 2
           }
          ]
         }
        },
        {
         "name": "insulin",
         "dtype": "int64",
         "stats": {
          "unique_count": 3,
          "nan_count": 0,
          "min": "0",
          "max": "168",
          "histogram": [
           {
            "bin_start": 0,
            "bin_end": 16.8,
            "count": 3
           },
           {
            "bin_start": 16.8,
            "bin_end": 33.6,
            "count": 0
           },
           {
            "bin_start": 33.6,
            "bin_end": 50.400000000000006,
            "count": 0
           },
           {
            "bin_start": 50.400000000000006,
            "bin_end": 67.2,
            "count": 0
           },
           {
            "bin_start": 67.2,
            "bin_end": 84,
            "count": 0
           },
           {
            "bin_start": 84,
            "bin_end": 100.80000000000001,
            "count": 1
           },
           {
            "bin_start": 100.80000000000001,
            "bin_end": 117.60000000000001,
            "count": 0
           },
           {
            "bin_start": 117.60000000000001,
            "bin_end": 134.4,
            "count": 0
           },
           {
            "bin_start": 134.4,
            "bin_end": 151.20000000000002,
            "count": 0
           },
           {
            "bin_start": 151.20000000000002,
            "bin_end": 168,
            "count": 1
           }
          ]
         }
        },
        {
         "name": "bmi",
         "dtype": "float64",
         "stats": {
          "unique_count": 5,
          "nan_count": 0,
          "min": "23.3",
          "max": "43.1",
          "histogram": [
           {
            "bin_start": 23.3,
            "bin_end": 25.28,
            "count": 1
           },
           {
            "bin_start": 25.28,
            "bin_end": 27.26,
            "count": 1
           },
           {
            "bin_start": 27.26,
            "bin_end": 29.240000000000002,
            "count": 1
           },
           {
            "bin_start": 29.240000000000002,
            "bin_end": 31.22,
            "count": 0
           },
           {
            "bin_start": 31.22,
            "bin_end": 33.2,
            "count": 0
           },
           {
            "bin_start": 33.2,
            "bin_end": 35.18,
            "count": 1
           },
           {
            "bin_start": 35.18,
            "bin_end": 37.16,
            "count": 0
           },
           {
            "bin_start": 37.16,
            "bin_end": 39.14,
            "count": 0
           },
           {
            "bin_start": 39.14,
            "bin_end": 41.120000000000005,
            "count": 0
           },
           {
            "bin_start": 41.120000000000005,
            "bin_end": 43.1,
            "count": 1
           }
          ]
         }
        },
        {
         "name": "pedigree",
         "dtype": "float64",
         "stats": {
          "unique_count": 5,
          "nan_count": 0,
          "min": "0.167",
          "max": "2.288",
          "histogram": [
           {
            "bin_start": 0.167,
            "bin_end": 0.3791,
            "count": 2
           },
           {
            "bin_start": 0.3791,
            "bin_end": 0.5912000000000001,
            "count": 0
           },
           {
            "bin_start": 0.5912000000000001,
            "bin_end": 0.8033000000000001,
            "count": 2
           },
           {
            "bin_start": 0.8033000000000001,
            "bin_end": 1.0154,
            "count": 0
           },
           {
            "bin_start": 1.0154,
            "bin_end": 1.2275,
            "count": 0
           },
           {
            "bin_start": 1.2275,
            "bin_end": 1.4396000000000002,
            "count": 0
           },
           {
            "bin_start": 1.4396000000000002,
            "bin_end": 1.6517000000000002,
            "count": 0
           },
           {
            "bin_start": 1.6517000000000002,
            "bin_end": 1.8638000000000001,
            "count": 0
           },
           {
            "bin_start": 1.8638000000000001,
            "bin_end": 2.0759,
            "count": 0
           },
           {
            "bin_start": 2.0759,
            "bin_end": 2.288,
            "count": 1
           }
          ]
         }
        },
        {
         "name": "age",
         "dtype": "int64",
         "stats": {
          "unique_count": 5,
          "nan_count": 0,
          "min": "21",
          "max": "50",
          "histogram": [
           {
            "bin_start": 21,
            "bin_end": 23.9,
            "count": 1
           },
           {
            "bin_start": 23.9,
            "bin_end": 26.8,
            "count": 0
           },
           {
            "bin_start": 26.8,
            "bin_end": 29.7,
            "count": 0
           },
           {
            "bin_start": 29.7,
            "bin_end": 32.6,
            "count": 2
           },
           {
            "bin_start": 32.6,
            "bin_end": 35.5,
            "count": 1
           },
           {
            "bin_start": 35.5,
            "bin_end": 38.4,
            "count": 0
           },
           {
            "bin_start": 38.4,
            "bin_end": 41.3,
            "count": 0
           },
           {
            "bin_start": 41.3,
            "bin_end": 44.2,
            "count": 0
           },
           {
            "bin_start": 44.2,
            "bin_end": 47.099999999999994,
            "count": 0
           },
           {
            "bin_start": 47.099999999999994,
            "bin_end": 50,
            "count": 1
           }
          ]
         }
        },
        {
         "name": "label",
         "dtype": "int64",
         "stats": {
          "unique_count": 2,
          "nan_count": 0,
          "min": "0",
          "max": "1",
          "histogram": [
           {
            "bin_start": 0,
            "bin_end": 0.1,
            "count": 2
           },
           {
            "bin_start": 0.1,
            "bin_end": 0.2,
            "count": 0
           },
           {
            "bin_start": 0.2,
            "bin_end": 0.30000000000000004,
            "count": 0
           },
           {
            "bin_start": 0.30000000000000004,
            "bin_end": 0.4,
            "count": 0
           },
           {
            "bin_start": 0.4,
            "bin_end": 0.5,
            "count": 0
           },
           {
            "bin_start": 0.5,
            "bin_end": 0.6000000000000001,
            "count": 0
           },
           {
            "bin_start": 0.6000000000000001,
            "bin_end": 0.7000000000000001,
            "count": 0
           },
           {
            "bin_start": 0.7000000000000001,
            "bin_end": 0.8,
            "count": 0
           },
           {
            "bin_start": 0.8,
            "bin_end": 0.9,
            "count": 0
           },
           {
            "bin_start": 0.9,
            "bin_end": 1,
            "count": 3
           }
          ]
         }
        },
        {
         "name": "_deepnote_index_column",
         "dtype": "int64"
        }
       ],
       "rows_top": [
        {
         "pregnant": 6,
         "glucose": 148,
         "bp": 72,
         "skin": 35,
         "insulin": 0,
         "bmi": 33.6,
         "pedigree": 0.627,
         "age": 50,
         "label": 1,
         "_deepnote_index_column": 0
        },
        {
         "pregnant": 1,
         "glucose": 85,
         "bp": 66,
         "skin": 29,
         "insulin": 0,
         "bmi": 26.6,
         "pedigree": 0.351,
         "age": 31,
         "label": 0,
         "_deepnote_index_column": 1
        },
        {
         "pregnant": 8,
         "glucose": 183,
         "bp": 64,
         "skin": 0,
         "insulin": 0,
         "bmi": 23.3,
         "pedigree": 0.672,
         "age": 32,
         "label": 1,
         "_deepnote_index_column": 2
        },
        {
         "pregnant": 1,
         "glucose": 89,
         "bp": 66,
         "skin": 23,
         "insulin": 94,
         "bmi": 28.1,
         "pedigree": 0.167,
         "age": 21,
         "label": 0,
         "_deepnote_index_column": 3
        },
        {
         "pregnant": 0,
         "glucose": 137,
         "bp": 40,
         "skin": 35,
         "insulin": 168,
         "bmi": 43.1,
         "pedigree": 2.288,
         "age": 33,
         "label": 1,
         "_deepnote_index_column": 4
        }
       ],
       "rows_bottom": null
      },
      "text/plain": "   pregnant  glucose  bp  skin  insulin   bmi  pedigree  age  label\n0         6      148  72    35        0  33.6     0.627   50      1\n1         1       85  66    29        0  26.6     0.351   31      0\n2         8      183  64     0        0  23.3     0.672   32      1\n3         1       89  66    23       94  28.1     0.167   21      0\n4         0      137  40    35      168  43.1     2.288   33      1",
      "text/html": "<div>\n<style scoped>\n    .dataframe tbody tr th:only-of-type {\n        vertical-align: middle;\n    }\n\n    .dataframe tbody tr th {\n        vertical-align: top;\n    }\n\n    .dataframe thead th {\n        text-align: right;\n    }\n</style>\n<table border=\"1\" class=\"dataframe\">\n  <thead>\n    <tr style=\"text-align: right;\">\n      <th></th>\n      <th>pregnant</th>\n      <th>glucose</th>\n      <th>bp</th>\n      <th>skin</th>\n      <th>insulin</th>\n      <th>bmi</th>\n      <th>pedigree</th>\n      <th>age</th>\n      <th>label</th>\n    </tr>\n  </thead>\n  <tbody>\n    <tr>\n      <th>0</th>\n      <td>6</td>\n      <td>148</td>\n      <td>72</td>\n      <td>35</td>\n      <td>0</td>\n      <td>33.6</td>\n      <td>0.627</td>\n      <td>50</td>\n      <td>1</td>\n    </tr>\n    <tr>\n      <th>1</th>\n      <td>1</td>\n      <td>85</td>\n      <td>66</td>\n      <td>29</td>\n      <td>0</td>\n      <td>26.6</td>\n      <td>0.351</td>\n      <td>31</td>\n      <td>0</td>\n    </tr>\n    <tr>\n      <th>2</th>\n      <td>8</td>\n      <td>183</td>\n      <td>64</td>\n      <td>0</td>\n      <td>0</td>\n      <td>23.3</td>\n      <td>0.672</td>\n      <td>32</td>\n      <td>1</td>\n    </tr>\n    <tr>\n      <th>3</th>\n      <td>1</td>\n      <td>89</td>\n      <td>66</td>\n      <td>23</td>\n      <td>94</td>\n      <td>28.1</td>\n      <td>0.167</td>\n      <td>21</td>\n      <td>0</td>\n    </tr>\n    <tr>\n      <th>4</th>\n      <td>0</td>\n      <td>137</td>\n      <td>40</td>\n      <td>35</td>\n      <td>168</td>\n      <td>43.1</td>\n      <td>2.288</td>\n      <td>33</td>\n      <td>1</td>\n    </tr>\n  </tbody>\n</table>\n</div>"
     },
     "metadata": {}
    }
   ]
  },
  {
   "cell_type": "code",
   "metadata": {
    "tags": [],
    "cell_id": "00005-81c8a932-2c0c-490a-84ec-9177c29e6842",
    "deepnote_to_be_reexecuted": false,
    "source_hash": "7d0b3c9a",
    "execution_start": 1621568251140,
    "execution_millis": 6,
    "deepnote_cell_type": "code"
   },
   "source": "pima.columns",
   "execution_count": null,
   "outputs": [
    {
     "output_type": "execute_result",
     "execution_count": 3,
     "data": {
      "text/plain": "Index(['pregnant', 'glucose', 'bp', 'skin', 'insulin', 'bmi', 'pedigree',\n       'age', 'label'],\n      dtype='object')"
     },
     "metadata": {}
    }
   ]
  },
  {
   "cell_type": "code",
   "metadata": {
    "tags": [],
    "cell_id": "00006-57151877-1328-458e-9b45-e9c66fec6236",
    "deepnote_to_be_reexecuted": false,
    "source_hash": "717b4cf0",
    "execution_start": 1621568253699,
    "execution_millis": 0,
    "deepnote_cell_type": "code"
   },
   "source": "pima.values",
   "execution_count": null,
   "outputs": [
    {
     "output_type": "execute_result",
     "execution_count": 4,
     "data": {
      "text/plain": "array([[  6.   , 148.   ,  72.   , ...,   0.627,  50.   ,   1.   ],\n       [  1.   ,  85.   ,  66.   , ...,   0.351,  31.   ,   0.   ],\n       [  8.   , 183.   ,  64.   , ...,   0.672,  32.   ,   1.   ],\n       ...,\n       [  5.   , 121.   ,  72.   , ...,   0.245,  30.   ,   0.   ],\n       [  1.   , 126.   ,  60.   , ...,   0.349,  47.   ,   1.   ],\n       [  1.   ,  93.   ,  70.   , ...,   0.315,  23.   ,   0.   ]])"
     },
     "metadata": {}
    }
   ]
  },
  {
   "cell_type": "code",
   "metadata": {
    "tags": [],
    "cell_id": "00007-b554359b-4d81-4f70-98e7-2ab10f6c7ee7",
    "deepnote_cell_type": "code"
   },
   "source": "pima.shape",
   "execution_count": null,
   "outputs": [
    {
     "output_type": "execute_result",
     "execution_count": 39,
     "data": {
      "text/plain": "(768, 9)"
     },
     "metadata": {}
    }
   ]
  },
  {
   "cell_type": "code",
   "metadata": {
    "tags": [],
    "cell_id": "00008-998a4ba5-3396-43ce-8554-194c120914ac",
    "deepnote_to_be_reexecuted": false,
    "source_hash": "12afb64",
    "execution_start": 1621568259815,
    "execution_millis": 47,
    "deepnote_cell_type": "code"
   },
   "source": "pima.describe()",
   "execution_count": null,
   "outputs": [
    {
     "output_type": "execute_result",
     "execution_count": 5,
     "data": {
      "application/vnd.deepnote.dataframe.v2+json": {
       "row_count": 8,
       "column_count": 9,
       "columns": [
        {
         "name": "pregnant",
         "dtype": "float64",
         "stats": {
          "unique_count": 8,
          "nan_count": 0,
          "min": "0.0",
          "max": "768.0",
          "histogram": [
           {
            "bin_start": 0,
            "bin_end": 76.8,
            "count": 7
           },
           {
            "bin_start": 76.8,
            "bin_end": 153.6,
            "count": 0
           },
           {
            "bin_start": 153.6,
            "bin_end": 230.39999999999998,
            "count": 0
           },
           {
            "bin_start": 230.39999999999998,
            "bin_end": 307.2,
            "count": 0
           },
           {
            "bin_start": 307.2,
            "bin_end": 384,
            "count": 0
           },
           {
            "bin_start": 384,
            "bin_end": 460.79999999999995,
            "count": 0
           },
           {
            "bin_start": 460.79999999999995,
            "bin_end": 537.6,
            "count": 0
           },
           {
            "bin_start": 537.6,
            "bin_end": 614.4,
            "count": 0
           },
           {
            "bin_start": 614.4,
            "bin_end": 691.1999999999999,
            "count": 0
           },
           {
            "bin_start": 691.1999999999999,
            "bin_end": 768,
            "count": 1
           }
          ]
         }
        },
        {
         "name": "glucose",
         "dtype": "float64",
         "stats": {
          "unique_count": 8,
          "nan_count": 0,
          "min": "0.0",
          "max": "768.0",
          "histogram": [
           {
            "bin_start": 0,
            "bin_end": 76.8,
            "count": 2
           },
           {
            "bin_start": 76.8,
            "bin_end": 153.6,
            "count": 4
           },
           {
            "bin_start": 153.6,
            "bin_end": 230.39999999999998,
            "count": 1
           },
           {
            "bin_start": 230.39999999999998,
            "bin_end": 307.2,
            "count": 0
           },
           {
            "bin_start": 307.2,
            "bin_end": 384,
            "count": 0
           },
           {
            "bin_start": 384,
            "bin_end": 460.79999999999995,
            "count": 0
           },
           {
            "bin_start": 460.79999999999995,
            "bin_end": 537.6,
            "count": 0
           },
           {
            "bin_start": 537.6,
            "bin_end": 614.4,
            "count": 0
           },
           {
            "bin_start": 614.4,
            "bin_end": 691.1999999999999,
            "count": 0
           },
           {
            "bin_start": 691.1999999999999,
            "bin_end": 768,
            "count": 1
           }
          ]
         }
        },
        {
         "name": "bp",
         "dtype": "float64",
         "stats": {
          "unique_count": 8,
          "nan_count": 0,
          "min": "0.0",
          "max": "768.0",
          "histogram": [
           {
            "bin_start": 0,
            "bin_end": 76.8,
            "count": 5
           },
           {
            "bin_start": 76.8,
            "bin_end": 153.6,
            "count": 2
           },
           {
            "bin_start": 153.6,
            "bin_end": 230.39999999999998,
            "count": 0
           },
           {
            "bin_start": 230.39999999999998,
            "bin_end": 307.2,
            "count": 0
           },
           {
            "bin_start": 307.2,
            "bin_end": 384,
            "count": 0
           },
           {
            "bin_start": 384,
            "bin_end": 460.79999999999995,
            "count": 0
           },
           {
            "bin_start": 460.79999999999995,
            "bin_end": 537.6,
            "count": 0
           },
           {
            "bin_start": 537.6,
            "bin_end": 614.4,
            "count": 0
           },
           {
            "bin_start": 614.4,
            "bin_end": 691.1999999999999,
            "count": 0
           },
           {
            "bin_start": 691.1999999999999,
            "bin_end": 768,
            "count": 1
           }
          ]
         }
        },
        {
         "name": "skin",
         "dtype": "float64",
         "stats": {
          "unique_count": 7,
          "nan_count": 0,
          "min": "0.0",
          "max": "768.0",
          "histogram": [
           {
            "bin_start": 0,
            "bin_end": 76.8,
            "count": 6
           },
           {
            "bin_start": 76.8,
            "bin_end": 153.6,
            "count": 1
           },
           {
            "bin_start": 153.6,
            "bin_end": 230.39999999999998,
            "count": 0
           },
           {
            "bin_start": 230.39999999999998,
            "bin_end": 307.2,
            "count": 0
           },
           {
            "bin_start": 307.2,
            "bin_end": 384,
            "count": 0
           },
           {
            "bin_start": 384,
            "bin_end": 460.79999999999995,
            "count": 0
           },
           {
            "bin_start": 460.79999999999995,
            "bin_end": 537.6,
            "count": 0
           },
           {
            "bin_start": 537.6,
            "bin_end": 614.4,
            "count": 0
           },
           {
            "bin_start": 614.4,
            "bin_end": 691.1999999999999,
            "count": 0
           },
           {
            "bin_start": 691.1999999999999,
            "bin_end": 768,
            "count": 1
           }
          ]
         }
        },
        {
         "name": "insulin",
         "dtype": "float64",
         "stats": {
          "unique_count": 7,
          "nan_count": 0,
          "min": "0.0",
          "max": "846.0",
          "histogram": [
           {
            "bin_start": 0,
            "bin_end": 84.6,
            "count": 4
           },
           {
            "bin_start": 84.6,
            "bin_end": 169.2,
            "count": 2
           },
           {
            "bin_start": 169.2,
            "bin_end": 253.79999999999998,
            "count": 0
           },
           {
            "bin_start": 253.79999999999998,
            "bin_end": 338.4,
            "count": 0
           },
           {
            "bin_start": 338.4,
            "bin_end": 423,
            "count": 0
           },
           {
            "bin_start": 423,
            "bin_end": 507.59999999999997,
            "count": 0
           },
           {
            "bin_start": 507.59999999999997,
            "bin_end": 592.1999999999999,
            "count": 0
           },
           {
            "bin_start": 592.1999999999999,
            "bin_end": 676.8,
            "count": 0
           },
           {
            "bin_start": 676.8,
            "bin_end": 761.4,
            "count": 0
           },
           {
            "bin_start": 761.4,
            "bin_end": 846,
            "count": 2
           }
          ]
         }
        },
        {
         "name": "bmi",
         "dtype": "float64",
         "stats": {
          "unique_count": 8,
          "nan_count": 0,
          "min": "0.0",
          "max": "768.0",
          "histogram": [
           {
            "bin_start": 0,
            "bin_end": 76.8,
            "count": 7
           },
           {
            "bin_start": 76.8,
            "bin_end": 153.6,
            "count": 0
           },
           {
            "bin_start": 153.6,
            "bin_end": 230.39999999999998,
            "count": 0
           },
           {
            "bin_start": 230.39999999999998,
            "bin_end": 307.2,
            "count": 0
           },
           {
            "bin_start": 307.2,
            "bin_end": 384,
            "count": 0
           },
           {
            "bin_start": 384,
            "bin_end": 460.79999999999995,
            "count": 0
           },
           {
            "bin_start": 460.79999999999995,
            "bin_end": 537.6,
            "count": 0
           },
           {
            "bin_start": 537.6,
            "bin_end": 614.4,
            "count": 0
           },
           {
            "bin_start": 614.4,
            "bin_end": 691.1999999999999,
            "count": 0
           },
           {
            "bin_start": 691.1999999999999,
            "bin_end": 768,
            "count": 1
           }
          ]
         }
        },
        {
         "name": "pedigree",
         "dtype": "float64",
         "stats": {
          "unique_count": 8,
          "nan_count": 0,
          "min": "0.078",
          "max": "768.0",
          "histogram": [
           {
            "bin_start": 0.078,
            "bin_end": 76.87020000000001,
            "count": 7
           },
           {
            "bin_start": 76.87020000000001,
            "bin_end": 153.66240000000002,
            "count": 0
           },
           {
            "bin_start": 153.66240000000002,
            "bin_end": 230.45460000000003,
            "count": 0
           },
           {
            "bin_start": 230.45460000000003,
            "bin_end": 307.2468,
            "count": 0
           },
           {
            "bin_start": 307.2468,
            "bin_end": 384.039,
            "count": 0
           },
           {
            "bin_start": 384.039,
            "bin_end": 460.8312,
            "count": 0
           },
           {
            "bin_start": 460.8312,
            "bin_end": 537.6234000000001,
            "count": 0
           },
           {
            "bin_start": 537.6234000000001,
            "bin_end": 614.4156,
            "count": 0
           },
           {
            "bin_start": 614.4156,
            "bin_end": 691.2078,
            "count": 0
           },
           {
            "bin_start": 691.2078,
            "bin_end": 768,
            "count": 1
           }
          ]
         }
        },
        {
         "name": "age",
         "dtype": "float64",
         "stats": {
          "unique_count": 8,
          "nan_count": 0,
          "min": "11.760231540678685",
          "max": "768.0",
          "histogram": [
           {
            "bin_start": 11.760231540678685,
            "bin_end": 87.38420838661082,
            "count": 7
           },
           {
            "bin_start": 87.38420838661082,
            "bin_end": 163.00818523254296,
            "count": 0
           },
           {
            "bin_start": 163.00818523254296,
            "bin_end": 238.6321620784751,
            "count": 0
           },
           {
            "bin_start": 238.6321620784751,
            "bin_end": 314.2561389244072,
            "count": 0
           },
           {
            "bin_start": 314.2561389244072,
            "bin_end": 389.88011577033933,
            "count": 0
           },
           {
            "bin_start": 389.88011577033933,
            "bin_end": 465.50409261627146,
            "count": 0
           },
           {
            "bin_start": 465.50409261627146,
            "bin_end": 541.1280694622036,
            "count": 0
           },
           {
            "bin_start": 541.1280694622036,
            "bin_end": 616.7520463081357,
            "count": 0
           },
           {
            "bin_start": 616.7520463081357,
            "bin_end": 692.3760231540679,
            "count": 0
           },
           {
            "bin_start": 692.3760231540679,
            "bin_end": 768,
            "count": 1
           }
          ]
         }
        },
        {
         "name": "label",
         "dtype": "float64",
         "stats": {
          "unique_count": 5,
          "nan_count": 0,
          "min": "0.0",
          "max": "768.0",
          "histogram": [
           {
            "bin_start": 0,
            "bin_end": 76.8,
            "count": 7
           },
           {
            "bin_start": 76.8,
            "bin_end": 153.6,
            "count": 0
           },
           {
            "bin_start": 153.6,
            "bin_end": 230.39999999999998,
            "count": 0
           },
           {
            "bin_start": 230.39999999999998,
            "bin_end": 307.2,
            "count": 0
           },
           {
            "bin_start": 307.2,
            "bin_end": 384,
            "count": 0
           },
           {
            "bin_start": 384,
            "bin_end": 460.79999999999995,
            "count": 0
           },
           {
            "bin_start": 460.79999999999995,
            "bin_end": 537.6,
            "count": 0
           },
           {
            "bin_start": 537.6,
            "bin_end": 614.4,
            "count": 0
           },
           {
            "bin_start": 614.4,
            "bin_end": 691.1999999999999,
            "count": 0
           },
           {
            "bin_start": 691.1999999999999,
            "bin_end": 768,
            "count": 1
           }
          ]
         }
        },
        {
         "name": "_deepnote_index_column",
         "dtype": "object"
        }
       ],
       "rows_top": [
        {
         "pregnant": 768,
         "glucose": 768,
         "bp": 768,
         "skin": 768,
         "insulin": 768,
         "bmi": 768,
         "pedigree": 768,
         "age": 768,
         "label": 768,
         "_deepnote_index_column": "count"
        },
        {
         "pregnant": 3.8450520833333335,
         "glucose": 120.89453125,
         "bp": 69.10546875,
         "skin": 20.536458333333332,
         "insulin": 79.79947916666667,
         "bmi": 31.992578124999998,
         "pedigree": 0.47187630208333325,
         "age": 33.240885416666664,
         "label": 0.3489583333333333,
         "_deepnote_index_column": "mean"
        },
        {
         "pregnant": 3.3695780626988694,
         "glucose": 31.97261819513622,
         "bp": 19.355807170644777,
         "skin": 15.952217567727637,
         "insulin": 115.24400235133817,
         "bmi": 7.884160320375446,
         "pedigree": 0.3313285950127749,
         "age": 11.760231540678685,
         "label": 0.47695137724279896,
         "_deepnote_index_column": "std"
        },
        {
         "pregnant": 0,
         "glucose": 0,
         "bp": 0,
         "skin": 0,
         "insulin": 0,
         "bmi": 0,
         "pedigree": 0.078,
         "age": 21,
         "label": 0,
         "_deepnote_index_column": "min"
        },
        {
         "pregnant": 1,
         "glucose": 99,
         "bp": 62,
         "skin": 0,
         "insulin": 0,
         "bmi": 27.3,
         "pedigree": 0.24375,
         "age": 24,
         "label": 0,
         "_deepnote_index_column": "25%"
        },
        {
         "pregnant": 3,
         "glucose": 117,
         "bp": 72,
         "skin": 23,
         "insulin": 30.5,
         "bmi": 32,
         "pedigree": 0.3725,
         "age": 29,
         "label": 0,
         "_deepnote_index_column": "50%"
        },
        {
         "pregnant": 6,
         "glucose": 140.25,
         "bp": 80,
         "skin": 32,
         "insulin": 127.25,
         "bmi": 36.6,
         "pedigree": 0.62625,
         "age": 41,
         "label": 1,
         "_deepnote_index_column": "75%"
        },
        {
         "pregnant": 17,
         "glucose": 199,
         "bp": 122,
         "skin": 99,
         "insulin": 846,
         "bmi": 67.1,
         "pedigree": 2.42,
         "age": 81,
         "label": 1,
         "_deepnote_index_column": "max"
        }
       ],
       "rows_bottom": null
      },
      "text/plain": "         pregnant     glucose          bp        skin     insulin         bmi  \\\ncount  768.000000  768.000000  768.000000  768.000000  768.000000  768.000000   \nmean     3.845052  120.894531   69.105469   20.536458   79.799479   31.992578   \nstd      3.369578   31.972618   19.355807   15.952218  115.244002    7.884160   \nmin      0.000000    0.000000    0.000000    0.000000    0.000000    0.000000   \n25%      1.000000   99.000000   62.000000    0.000000    0.000000   27.300000   \n50%      3.000000  117.000000   72.000000   23.000000   30.500000   32.000000   \n75%      6.000000  140.250000   80.000000   32.000000  127.250000   36.600000   \nmax     17.000000  199.000000  122.000000   99.000000  846.000000   67.100000   \n\n         pedigree         age       label  \ncount  768.000000  768.000000  768.000000  \nmean     0.471876   33.240885    0.348958  \nstd      0.331329   11.760232    0.476951  \nmin      0.078000   21.000000    0.000000  \n25%      0.243750   24.000000    0.000000  \n50%      0.372500   29.000000    0.000000  \n75%      0.626250   41.000000    1.000000  \nmax      2.420000   81.000000    1.000000  ",
      "text/html": "<div>\n<style scoped>\n    .dataframe tbody tr th:only-of-type {\n        vertical-align: middle;\n    }\n\n    .dataframe tbody tr th {\n        vertical-align: top;\n    }\n\n    .dataframe thead th {\n        text-align: right;\n    }\n</style>\n<table border=\"1\" class=\"dataframe\">\n  <thead>\n    <tr style=\"text-align: right;\">\n      <th></th>\n      <th>pregnant</th>\n      <th>glucose</th>\n      <th>bp</th>\n      <th>skin</th>\n      <th>insulin</th>\n      <th>bmi</th>\n      <th>pedigree</th>\n      <th>age</th>\n      <th>label</th>\n    </tr>\n  </thead>\n  <tbody>\n    <tr>\n      <th>count</th>\n      <td>768.000000</td>\n      <td>768.000000</td>\n      <td>768.000000</td>\n      <td>768.000000</td>\n      <td>768.000000</td>\n      <td>768.000000</td>\n      <td>768.000000</td>\n      <td>768.000000</td>\n      <td>768.000000</td>\n    </tr>\n    <tr>\n      <th>mean</th>\n      <td>3.845052</td>\n      <td>120.894531</td>\n      <td>69.105469</td>\n      <td>20.536458</td>\n      <td>79.799479</td>\n      <td>31.992578</td>\n      <td>0.471876</td>\n      <td>33.240885</td>\n      <td>0.348958</td>\n    </tr>\n    <tr>\n      <th>std</th>\n      <td>3.369578</td>\n      <td>31.972618</td>\n      <td>19.355807</td>\n      <td>15.952218</td>\n      <td>115.244002</td>\n      <td>7.884160</td>\n      <td>0.331329</td>\n      <td>11.760232</td>\n      <td>0.476951</td>\n    </tr>\n    <tr>\n      <th>min</th>\n      <td>0.000000</td>\n      <td>0.000000</td>\n      <td>0.000000</td>\n      <td>0.000000</td>\n      <td>0.000000</td>\n      <td>0.000000</td>\n      <td>0.078000</td>\n      <td>21.000000</td>\n      <td>0.000000</td>\n    </tr>\n    <tr>\n      <th>25%</th>\n      <td>1.000000</td>\n      <td>99.000000</td>\n      <td>62.000000</td>\n      <td>0.000000</td>\n      <td>0.000000</td>\n      <td>27.300000</td>\n      <td>0.243750</td>\n      <td>24.000000</td>\n      <td>0.000000</td>\n    </tr>\n    <tr>\n      <th>50%</th>\n      <td>3.000000</td>\n      <td>117.000000</td>\n      <td>72.000000</td>\n      <td>23.000000</td>\n      <td>30.500000</td>\n      <td>32.000000</td>\n      <td>0.372500</td>\n      <td>29.000000</td>\n      <td>0.000000</td>\n    </tr>\n    <tr>\n      <th>75%</th>\n      <td>6.000000</td>\n      <td>140.250000</td>\n      <td>80.000000</td>\n      <td>32.000000</td>\n      <td>127.250000</td>\n      <td>36.600000</td>\n      <td>0.626250</td>\n      <td>41.000000</td>\n      <td>1.000000</td>\n    </tr>\n    <tr>\n      <th>max</th>\n      <td>17.000000</td>\n      <td>199.000000</td>\n      <td>122.000000</td>\n      <td>99.000000</td>\n      <td>846.000000</td>\n      <td>67.100000</td>\n      <td>2.420000</td>\n      <td>81.000000</td>\n      <td>1.000000</td>\n    </tr>\n  </tbody>\n</table>\n</div>"
     },
     "metadata": {}
    }
   ]
  },
  {
   "cell_type": "code",
   "metadata": {
    "tags": [],
    "cell_id": "00009-19858eda-cf78-47b8-94e7-934a47330c93",
    "deepnote_to_be_reexecuted": false,
    "source_hash": "d837b64c",
    "execution_start": 1621568279328,
    "execution_millis": 0,
    "deepnote_cell_type": "code"
   },
   "source": "pima.dtypes",
   "execution_count": null,
   "outputs": [
    {
     "output_type": "execute_result",
     "execution_count": 6,
     "data": {
      "text/plain": "pregnant      int64\nglucose       int64\nbp            int64\nskin          int64\ninsulin       int64\nbmi         float64\npedigree    float64\nage           int64\nlabel         int64\ndtype: object"
     },
     "metadata": {}
    }
   ]
  },
  {
   "cell_type": "code",
   "metadata": {
    "tags": [],
    "cell_id": "00001-fcfe5bb6-368b-4a05-8c77-fc5db9bb3e2d",
    "deepnote_cell_type": "code"
   },
   "source": "pima.head()\npima.columns\npima.values\npima.shape\npima.describe()\npima.dtypes",
   "execution_count": null,
   "outputs": [
    {
     "output_type": "execute_result",
     "execution_count": 42,
     "data": {
      "text/plain": "pregnant      int64\nglucose       int64\nbp            int64\nskin          int64\ninsulin       int64\nbmi         float64\npedigree    float64\nage           int64\nlabel         int64\ndtype: object"
     },
     "metadata": {}
    }
   ]
  },
  {
   "cell_type": "markdown",
   "source": "## Data Visualization",
   "metadata": {
    "tags": [],
    "cell_id": "00005-5741ffd5-6a91-4ca2-9dcc-57e16ef62117",
    "deepnote_cell_type": "markdown"
   }
  },
  {
   "cell_type": "code",
   "metadata": {
    "tags": [],
    "cell_id": "00012-5e38dc81-3cfd-4608-84fc-42e5fee37de3",
    "deepnote_cell_type": "code"
   },
   "source": "pima.boxplot()",
   "execution_count": null,
   "outputs": [
    {
     "output_type": "execute_result",
     "execution_count": 43,
     "data": {
      "text/plain": "<matplotlib.axes._subplots.AxesSubplot at 0x7f1b5c790240>"
     },
     "metadata": {}
    },
    {
     "data": {
      "text/plain": "<Figure size 432x288 with 1 Axes>",
      "image/png": "[encoded data removed]"
     },
     "metadata": {
      "needs_background": "light",
      "image/png": {
       "width": 375,
       "height": 248
      }
     },
     "output_type": "display_data"
    }
   ]
  },
  {
   "cell_type": "code",
   "metadata": {
    "tags": [],
    "cell_id": "00001-de4520d9-1524-4f4b-952b-9cfbd397d96c",
    "deepnote_to_be_reexecuted": false,
    "source_hash": "5e7eb94d",
    "execution_start": 1621568374753,
    "execution_millis": 1437,
    "deepnote_cell_type": "code"
   },
   "source": "#Visualizing Data\n#histogram\npima.hist()\n#boxplot\npima.boxplot()",
   "execution_count": null,
   "outputs": [
    {
     "output_type": "execute_result",
     "execution_count": 7,
     "data": {
      "text/plain": "<AxesSubplot:title={'center':'label'}>"
     },
     "metadata": {}
    },
    {
     "data": {
      "text/plain": "<Figure size 432x288 with 9 Axes>",
      "image/png": "[encoded data removed]"
     },
     "metadata": {
      "needs_background": "light",
      "image/png": {
       "width": 382,
       "height": 264
      }
     },
     "output_type": "display_data"
    }
   ]
  },
  {
   "cell_type": "markdown",
   "source": "## Feature Selection",
   "metadata": {
    "tags": [],
    "cell_id": "00007-e6991062-331a-41f7-be5a-6b9eb186abaa",
    "deepnote_cell_type": "markdown"
   }
  },
  {
   "cell_type": "code",
   "metadata": {
    "tags": [],
    "cell_id": "00003-d6e69384-4272-4d94-8a84-46a4853c91b2",
    "deepnote_cell_type": "code"
   },
   "source": "#Feature Selection :  divide given columns into two types of variables dependent(or target variable) and independent variable(or feature variables).\n#split dataset in features and target variable\nfeature_cols = ['pregnant', 'insulin', 'bmi', 'age','glucose','bp','pedigree']\nX = pima[feature_cols] # Features\nprint(X)\n\ny = pima.label # Target variable\nprint(y)",
   "execution_count": null,
   "outputs": [
    {
     "name": "stdout",
     "text": "     pregnant  insulin   bmi  age  glucose  bp  pedigree\n0           6        0  33.6   50      148  72     0.627\n1           1        0  26.6   31       85  66     0.351\n2           8        0  23.3   32      183  64     0.672\n3           1       94  28.1   21       89  66     0.167\n4           0      168  43.1   33      137  40     2.288\n..        ...      ...   ...  ...      ...  ..       ...\n763        10      180  32.9   63      101  76     0.171\n764         2        0  36.8   27      122  70     0.340\n765         5      112  26.2   30      121  72     0.245\n766         1        0  30.1   47      126  60     0.349\n767         1        0  30.4   23       93  70     0.315\n\n[768 rows x 7 columns]\n0      1\n1      0\n2      1\n3      0\n4      1\n      ..\n763    0\n764    0\n765    0\n766    1\n767    0\nName: label, Length: 768, dtype: int64\n",
     "output_type": "stream"
    }
   ]
  },
  {
   "cell_type": "markdown",
   "source": "## Splitting Data Set -> Training Data Set + Test Data Set",
   "metadata": {
    "tags": [],
    "cell_id": "00009-243095a0-dd45-4d69-b52d-1d9bd9e8346e",
    "deepnote_cell_type": "markdown"
   }
  },
  {
   "cell_type": "code",
   "metadata": {
    "tags": [],
    "cell_id": "00004-3ef39421-136a-40d0-86d7-8376f631077f",
    "deepnote_to_be_reexecuted": false,
    "source_hash": "66f28157",
    "execution_start": 1621568776445,
    "execution_millis": 2000,
    "deepnote_cell_type": "code"
   },
   "source": "#Splitting Data\n# Import train_test_split function\nfrom sklearn.model_selection import train_test_split\n# 70% training and 30% test\nX_train, X_test, y_train, y_test = train_test_split(X, y, test_size=0.3, random_state=1)\nX_train\ny_train\n\nX_test\ny_test",
   "execution_count": null,
   "outputs": [
    {
     "output_type": "error",
     "ename": "NameError",
     "evalue": "name 'X' is not defined",
     "traceback": [
      "\u001b[0;31m---------------------------------------------------------------------------\u001b[0m",
      "\u001b[0;31mNameError\u001b[0m                                 Traceback (most recent call last)",
      "\u001b[0;32m<ipython-input-8-82e1dc6482fa>\u001b[0m in \u001b[0;36m<module>\u001b[0;34m\u001b[0m\n\u001b[1;32m      3\u001b[0m \u001b[0;32mfrom\u001b[0m \u001b[0msklearn\u001b[0m\u001b[0;34m.\u001b[0m\u001b[0mmodel_selection\u001b[0m \u001b[0;32mimport\u001b[0m \u001b[0mtrain_test_split\u001b[0m\u001b[0;34m\u001b[0m\u001b[0;34m\u001b[0m\u001b[0m\n\u001b[1;32m      4\u001b[0m \u001b[0;31m# 70% training and 30% test\u001b[0m\u001b[0;34m\u001b[0m\u001b[0;34m\u001b[0m\u001b[0;34m\u001b[0m\u001b[0m\n\u001b[0;32m----> 5\u001b[0;31m \u001b[0mX_train\u001b[0m\u001b[0;34m,\u001b[0m \u001b[0mX_test\u001b[0m\u001b[0;34m,\u001b[0m \u001b[0my_train\u001b[0m\u001b[0;34m,\u001b[0m \u001b[0my_test\u001b[0m \u001b[0;34m=\u001b[0m \u001b[0mtrain_test_split\u001b[0m\u001b[0;34m(\u001b[0m\u001b[0mX\u001b[0m\u001b[0;34m,\u001b[0m \u001b[0my\u001b[0m\u001b[0;34m,\u001b[0m \u001b[0mtest_size\u001b[0m\u001b[0;34m=\u001b[0m\u001b[0;36m0.3\u001b[0m\u001b[0;34m,\u001b[0m \u001b[0mrandom_state\u001b[0m\u001b[0;34m=\u001b[0m\u001b[0;36m1\u001b[0m\u001b[0;34m)\u001b[0m\u001b[0;34m\u001b[0m\u001b[0;34m\u001b[0m\u001b[0m\n\u001b[0m\u001b[1;32m      6\u001b[0m \u001b[0mX_train\u001b[0m\u001b[0;34m\u001b[0m\u001b[0;34m\u001b[0m\u001b[0m\n\u001b[1;32m      7\u001b[0m \u001b[0my_train\u001b[0m\u001b[0;34m\u001b[0m\u001b[0;34m\u001b[0m\u001b[0m\n",
      "\u001b[0;31mNameError\u001b[0m: name 'X' is not defined"
     ]
    }
   ]
  },
  {
   "cell_type": "code",
   "metadata": {
    "tags": [],
    "cell_id": "00018-03403231-216a-48ff-a4a2-832b5dea1925",
    "output_cleared": false,
    "deepnote_to_be_reexecuted": false,
    "source_hash": "1d91386b",
    "execution_start": 1621568786985,
    "execution_millis": 12,
    "deepnote_cell_type": "code"
   },
   "source": "X_train.describe()",
   "execution_count": null,
   "outputs": [
    {
     "output_type": "error",
     "ename": "NameError",
     "evalue": "name 'X_train' is not defined",
     "traceback": [
      "\u001b[0;31m---------------------------------------------------------------------------\u001b[0m",
      "\u001b[0;31mNameError\u001b[0m                                 Traceback (most recent call last)",
      "\u001b[0;32m<ipython-input-9-9d771e2afdf3>\u001b[0m in \u001b[0;36m<module>\u001b[0;34m\u001b[0m\n\u001b[0;32m----> 1\u001b[0;31m \u001b[0mX_train\u001b[0m\u001b[0;34m.\u001b[0m\u001b[0mdescribe\u001b[0m\u001b[0;34m(\u001b[0m\u001b[0;34m)\u001b[0m\u001b[0;34m\u001b[0m\u001b[0;34m\u001b[0m\u001b[0m\n\u001b[0m",
      "\u001b[0;31mNameError\u001b[0m: name 'X_train' is not defined"
     ]
    }
   ]
  },
  {
   "cell_type": "code",
   "metadata": {
    "tags": [],
    "cell_id": "00019-9c79c4b9-5f7f-4ffa-85ec-94aa52872029",
    "deepnote_to_be_reexecuted": false,
    "source_hash": "b9436db3",
    "execution_start": 1621568801226,
    "execution_millis": 8,
    "deepnote_cell_type": "code"
   },
   "source": "X_test.describe()",
   "execution_count": null,
   "outputs": [
    {
     "output_type": "error",
     "ename": "NameError",
     "evalue": "name 'X_test' is not defined",
     "traceback": [
      "\u001b[0;31m---------------------------------------------------------------------------\u001b[0m",
      "\u001b[0;31mNameError\u001b[0m                                 Traceback (most recent call last)",
      "\u001b[0;32m<ipython-input-10-f25f0ccf7aae>\u001b[0m in \u001b[0;36m<module>\u001b[0;34m\u001b[0m\n\u001b[0;32m----> 1\u001b[0;31m \u001b[0mX_test\u001b[0m\u001b[0;34m.\u001b[0m\u001b[0mdescribe\u001b[0m\u001b[0;34m(\u001b[0m\u001b[0;34m)\u001b[0m\u001b[0;34m\u001b[0m\u001b[0;34m\u001b[0m\u001b[0m\n\u001b[0m",
      "\u001b[0;31mNameError\u001b[0m: name 'X_test' is not defined"
     ]
    }
   ]
  },
  {
   "cell_type": "code",
   "metadata": {
    "tags": [],
    "cell_id": "00020-e69e9cbc-600f-42a4-9816-885b52129f23",
    "output_cleared": false,
    "deepnote_to_be_reexecuted": false,
    "source_hash": "8226599c",
    "execution_start": 1621568814010,
    "execution_millis": 11,
    "deepnote_cell_type": "code"
   },
   "source": "y_train.describe()",
   "execution_count": null,
   "outputs": [
    {
     "output_type": "error",
     "ename": "NameError",
     "evalue": "name 'y_train' is not defined",
     "traceback": [
      "\u001b[0;31m---------------------------------------------------------------------------\u001b[0m",
      "\u001b[0;31mNameError\u001b[0m                                 Traceback (most recent call last)",
      "\u001b[0;32m<ipython-input-11-d37bd38f76d6>\u001b[0m in \u001b[0;36m<module>\u001b[0;34m\u001b[0m\n\u001b[0;32m----> 1\u001b[0;31m \u001b[0my_train\u001b[0m\u001b[0;34m.\u001b[0m\u001b[0mdescribe\u001b[0m\u001b[0;34m(\u001b[0m\u001b[0;34m)\u001b[0m\u001b[0;34m\u001b[0m\u001b[0;34m\u001b[0m\u001b[0m\n\u001b[0m",
      "\u001b[0;31mNameError\u001b[0m: name 'y_train' is not defined"
     ]
    }
   ]
  },
  {
   "cell_type": "markdown",
   "source": "## Create Decision Tree Classification",
   "metadata": {
    "tags": [],
    "cell_id": "00011-94bbfc9c-1001-4f9d-be43-ab4b83fa9214",
    "deepnote_cell_type": "markdown"
   }
  },
  {
   "cell_type": "code",
   "metadata": {
    "tags": [],
    "cell_id": "00005-c501b9c8-b019-4dfc-a918-2bad1a770e50",
    "output_cleared": false,
    "deepnote_to_be_reexecuted": false,
    "source_hash": "df3d16d6",
    "execution_start": 1621569387657,
    "execution_millis": 95,
    "deepnote_cell_type": "code"
   },
   "source": "#Building Decision Tree Model\n# Import Decision Tree Classifier\n\nfrom sklearn.tree import DecisionTreeClassifier\n# Create Decision Tree classifer object\nclf = DecisionTreeClassifier()\n\n# Train Decision Tree Classifer\nclf = clf.fit(X_train,y_train)\n\n#Predict the response for test dataset\ny_pred = clf.predict(X_test)\n\nprint(y_test)\n\nprint(y_pred)",
   "execution_count": null,
   "outputs": [
    {
     "output_type": "error",
     "ename": "NameError",
     "evalue": "name 'X_train' is not defined",
     "traceback": [
      "\u001b[0;31m---------------------------------------------------------------------------\u001b[0m",
      "\u001b[0;31mNameError\u001b[0m                                 Traceback (most recent call last)",
      "\u001b[0;32m<ipython-input-12-e9a2c321de83>\u001b[0m in \u001b[0;36m<module>\u001b[0;34m\u001b[0m\n\u001b[1;32m      7\u001b[0m \u001b[0;34m\u001b[0m\u001b[0m\n\u001b[1;32m      8\u001b[0m \u001b[0;31m# Train Decision Tree Classifer\u001b[0m\u001b[0;34m\u001b[0m\u001b[0;34m\u001b[0m\u001b[0;34m\u001b[0m\u001b[0m\n\u001b[0;32m----> 9\u001b[0;31m \u001b[0mclf\u001b[0m \u001b[0;34m=\u001b[0m \u001b[0mclf\u001b[0m\u001b[0;34m.\u001b[0m\u001b[0mfit\u001b[0m\u001b[0;34m(\u001b[0m\u001b[0mX_train\u001b[0m\u001b[0;34m,\u001b[0m\u001b[0my_train\u001b[0m\u001b[0;34m)\u001b[0m\u001b[0;34m\u001b[0m\u001b[0;34m\u001b[0m\u001b[0m\n\u001b[0m\u001b[1;32m     10\u001b[0m \u001b[0;34m\u001b[0m\u001b[0m\n\u001b[1;32m     11\u001b[0m \u001b[0;31m#Predict the response for test dataset\u001b[0m\u001b[0;34m\u001b[0m\u001b[0;34m\u001b[0m\u001b[0;34m\u001b[0m\u001b[0m\n",
      "\u001b[0;31mNameError\u001b[0m: name 'X_train' is not defined"
     ]
    }
   ]
  },
  {
   "cell_type": "markdown",
   "source": "## Confusion Matrix",
   "metadata": {
    "tags": [],
    "cell_id": "00013-c8496fea-da86-483d-8950-e2d62c53ea26",
    "deepnote_cell_type": "markdown"
   }
  },
  {
   "cell_type": "code",
   "metadata": {
    "tags": [],
    "cell_id": "00024-86e26b20-ecf6-48d9-bc03-842e76bbc775",
    "deepnote_to_be_reexecuted": false,
    "source_hash": "9c320c7e",
    "execution_start": 1621569390943,
    "execution_millis": 12,
    "deepnote_cell_type": "code"
   },
   "source": "print(confusion_matrix(y_test, y_pred))",
   "execution_count": null,
   "outputs": [
    {
     "output_type": "error",
     "ename": "NameError",
     "evalue": "name 'confusion_matrix' is not defined",
     "traceback": [
      "\u001b[0;31m---------------------------------------------------------------------------\u001b[0m",
      "\u001b[0;31mNameError\u001b[0m                                 Traceback (most recent call last)",
      "\u001b[0;32m<ipython-input-13-0c1f547a8d30>\u001b[0m in \u001b[0;36m<module>\u001b[0;34m\u001b[0m\n\u001b[0;32m----> 1\u001b[0;31m \u001b[0mprint\u001b[0m\u001b[0;34m(\u001b[0m\u001b[0mconfusion_matrix\u001b[0m\u001b[0;34m(\u001b[0m\u001b[0my_test\u001b[0m\u001b[0;34m,\u001b[0m \u001b[0my_pred\u001b[0m\u001b[0;34m)\u001b[0m\u001b[0;34m)\u001b[0m\u001b[0;34m\u001b[0m\u001b[0;34m\u001b[0m\u001b[0m\n\u001b[0m",
      "\u001b[0;31mNameError\u001b[0m: name 'confusion_matrix' is not defined"
     ]
    }
   ]
  },
  {
   "cell_type": "code",
   "metadata": {
    "tags": [],
    "cell_id": "00025-eddd3b7e-5261-40e3-9bbc-671c732468ab",
    "deepnote_cell_type": "code"
   },
   "source": "print(classification_report(y_test, y_pred))",
   "execution_count": null,
   "outputs": [
    {
     "name": "stdout",
     "text": "              precision    recall  f1-score   support\n\n           0       0.74      0.79      0.77       146\n           1       0.59      0.52      0.55        85\n\n    accuracy                           0.69       231\n   macro avg       0.67      0.66      0.66       231\nweighted avg       0.69      0.69      0.69       231\n\n",
     "output_type": "stream"
    }
   ]
  },
  {
   "cell_type": "code",
   "metadata": {
    "tags": [],
    "cell_id": "00006-fe5e5110-a486-48e7-9cbb-3370ea5d440f",
    "deepnote_to_be_reexecuted": false,
    "source_hash": "9c37a382",
    "execution_start": 1621569396655,
    "execution_millis": 13,
    "deepnote_cell_type": "code"
   },
   "source": "from sklearn.metrics import classification_report, confusion_matrix\nprint(confusion_matrix(y_test, y_pred))\nprint(classification_report(y_test, y_pred))",
   "execution_count": null,
   "outputs": [
    {
     "output_type": "error",
     "ename": "NameError",
     "evalue": "name 'y_test' is not defined",
     "traceback": [
      "\u001b[0;31m---------------------------------------------------------------------------\u001b[0m",
      "\u001b[0;31mNameError\u001b[0m                                 Traceback (most recent call last)",
      "\u001b[0;32m<ipython-input-14-f0fc2fa23a45>\u001b[0m in \u001b[0;36m<module>\u001b[0;34m\u001b[0m\n\u001b[1;32m      1\u001b[0m \u001b[0;32mfrom\u001b[0m \u001b[0msklearn\u001b[0m\u001b[0;34m.\u001b[0m\u001b[0mmetrics\u001b[0m \u001b[0;32mimport\u001b[0m \u001b[0mclassification_report\u001b[0m\u001b[0;34m,\u001b[0m \u001b[0mconfusion_matrix\u001b[0m\u001b[0;34m\u001b[0m\u001b[0;34m\u001b[0m\u001b[0m\n\u001b[0;32m----> 2\u001b[0;31m \u001b[0mprint\u001b[0m\u001b[0;34m(\u001b[0m\u001b[0mconfusion_matrix\u001b[0m\u001b[0;34m(\u001b[0m\u001b[0my_test\u001b[0m\u001b[0;34m,\u001b[0m \u001b[0my_pred\u001b[0m\u001b[0;34m)\u001b[0m\u001b[0;34m)\u001b[0m\u001b[0;34m\u001b[0m\u001b[0;34m\u001b[0m\u001b[0m\n\u001b[0m\u001b[1;32m      3\u001b[0m \u001b[0mprint\u001b[0m\u001b[0;34m(\u001b[0m\u001b[0mclassification_report\u001b[0m\u001b[0;34m(\u001b[0m\u001b[0my_test\u001b[0m\u001b[0;34m,\u001b[0m \u001b[0my_pred\u001b[0m\u001b[0;34m)\u001b[0m\u001b[0;34m)\u001b[0m\u001b[0;34m\u001b[0m\u001b[0;34m\u001b[0m\u001b[0m\n",
      "\u001b[0;31mNameError\u001b[0m: name 'y_test' is not defined"
     ]
    }
   ]
  },
  {
   "cell_type": "markdown",
   "source": "## Decision Tree",
   "metadata": {
    "tags": [],
    "cell_id": "00015-c95eae96-f4c7-4f03-842c-7267b401a783",
    "deepnote_cell_type": "markdown"
   }
  },
  {
   "cell_type": "code",
   "metadata": {
    "tags": [],
    "cell_id": "00007-530cf83e-2d60-410c-8663-770649983edf",
    "deepnote_to_be_reexecuted": false,
    "source_hash": "2597a4f1",
    "execution_start": 1621569401337,
    "execution_millis": 15,
    "deepnote_cell_type": "code"
   },
   "source": "from sklearn.tree import plot_tree\nimport matplotlib.pyplot as plt\n\nplt.figure(figsize=(25,10))\na = plot_tree(clf,feature_names = feature_cols,class_names=['0','1'],\n              filled=True, \n              rounded=True, \n              fontsize=14)\nplt.savefig(\"output/decisiontree.png\")\n#check output in output folder",
   "execution_count": null,
   "outputs": [
    {
     "output_type": "error",
     "ename": "NameError",
     "evalue": "name 'feature_cols' is not defined",
     "traceback": [
      "\u001b[0;31m---------------------------------------------------------------------------\u001b[0m",
      "\u001b[0;31mNameError\u001b[0m                                 Traceback (most recent call last)",
      "\u001b[0;32m<ipython-input-15-3befbae50f93>\u001b[0m in \u001b[0;36m<module>\u001b[0;34m\u001b[0m\n\u001b[1;32m      3\u001b[0m \u001b[0;34m\u001b[0m\u001b[0m\n\u001b[1;32m      4\u001b[0m \u001b[0mplt\u001b[0m\u001b[0;34m.\u001b[0m\u001b[0mfigure\u001b[0m\u001b[0;34m(\u001b[0m\u001b[0mfigsize\u001b[0m\u001b[0;34m=\u001b[0m\u001b[0;34m(\u001b[0m\u001b[0;36m25\u001b[0m\u001b[0;34m,\u001b[0m\u001b[0;36m10\u001b[0m\u001b[0;34m)\u001b[0m\u001b[0;34m)\u001b[0m\u001b[0;34m\u001b[0m\u001b[0;34m\u001b[0m\u001b[0m\n\u001b[0;32m----> 5\u001b[0;31m a = plot_tree(clf,feature_names = feature_cols,class_names=['0','1'],\n\u001b[0m\u001b[1;32m      6\u001b[0m               \u001b[0mfilled\u001b[0m\u001b[0;34m=\u001b[0m\u001b[0;32mTrue\u001b[0m\u001b[0;34m,\u001b[0m\u001b[0;34m\u001b[0m\u001b[0;34m\u001b[0m\u001b[0m\n\u001b[1;32m      7\u001b[0m               \u001b[0mrounded\u001b[0m\u001b[0;34m=\u001b[0m\u001b[0;32mTrue\u001b[0m\u001b[0;34m,\u001b[0m\u001b[0;34m\u001b[0m\u001b[0;34m\u001b[0m\u001b[0m\n",
      "\u001b[0;31mNameError\u001b[0m: name 'feature_cols' is not defined"
     ]
    },
    {
     "data": {
      "text/plain": "<Figure size 1800x720 with 0 Axes>"
     },
     "metadata": {},
     "output_type": "display_data"
    }
   ]
  },
  {
   "cell_type": "markdown",
   "source": "## Optimize the Model",
   "metadata": {
    "tags": [],
    "cell_id": "00016-06092cd8-a3fc-4fff-a843-d536610c5173",
    "deepnote_cell_type": "markdown"
   }
  },
  {
   "cell_type": "code",
   "metadata": {
    "tags": [],
    "cell_id": "00008-9de40add-b51e-41dc-9e95-9454564e4eaa",
    "deepnote_cell_type": "code"
   },
   "source": "#Optimizing Decision Tree Performance\n# Create Decision Tree classifer object\nclf1 = DecisionTreeClassifier(criterion=\"entropy\", max_depth=3)\n\n# Train Decision Tree Classifer\nclf1 = clf1.fit(X_train,y_train)\n\n#Predict the response for test dataset\ny_pred = clf1.predict(X_test)\n\nfrom sklearn.metrics import classification_report, confusion_matrix\nprint(confusion_matrix(y_test, y_pred))\nprint(classification_report(y_test, y_pred))",
   "execution_count": null,
   "outputs": [
    {
     "name": "stdout",
     "text": "[[124  22]\n [ 31  54]]\n              precision    recall  f1-score   support\n\n           0       0.80      0.85      0.82       146\n           1       0.71      0.64      0.67        85\n\n    accuracy                           0.77       231\n   macro avg       0.76      0.74      0.75       231\nweighted avg       0.77      0.77      0.77       231\n\n",
     "output_type": "stream"
    }
   ]
  },
  {
   "cell_type": "code",
   "metadata": {
    "tags": [],
    "cell_id": "00031-4df9ae30-46a3-4a55-ba28-acc953f651ac",
    "deepnote_cell_type": "code"
   },
   "source": "print(confusion_matrix(y_test, y_pred))",
   "execution_count": null,
   "outputs": [
    {
     "name": "stdout",
     "text": "[[124  22]\n [ 31  54]]\n",
     "output_type": "stream"
    }
   ]
  },
  {
   "cell_type": "markdown",
   "source": "## Optimized Decision Tree",
   "metadata": {
    "tags": [],
    "cell_id": "00018-036f7501-293a-4e5a-b6f5-0b462651b533",
    "deepnote_cell_type": "markdown"
   }
  },
  {
   "cell_type": "code",
   "metadata": {
    "tags": [],
    "cell_id": "00009-c2a582d4-374b-4e26-b1fb-71c24d75074b",
    "deepnote_cell_type": "code"
   },
   "source": "from sklearn.tree import plot_tree\nimport matplotlib.pyplot as plt\n\nplt.figure(figsize=(25,10))\na = plot_tree(clf1,feature_names = feature_cols,class_names=['0','1'],\n              filled=True, \n              rounded=True, \n              fontsize=14)\nplt.savefig(\"output/decisiontree_optimized.png\")\n#check output in output folder",
   "execution_count": null,
   "outputs": [
    {
     "data": {
      "text/plain": "<Figure size 1800x720 with 1 Axes>",
      "image/png": "[encoded data removed]"
     },
     "metadata": {
      "needs_background": "light",
      "image/png": {
       "width": 1409,
       "height": 558
      }
     },
     "output_type": "display_data"
    }
   ]
  },
  {
   "cell_type": "markdown",
   "source": "<a style='text-decoration:none;line-height:16px;display:flex;color:#5B5B62;padding:10px;justify-content:end;' href='https://deepnote.com?utm_source=created-in-deepnote-cell&projectId=486c3042-68b8-438c-a156-48d94106b4cb' target=\"_blank\">\n<img alt='Created in deepnote.com' style='display:inline;max-height:16px;margin:0px;margin-right:7.5px;' src='data:image/svg+xml;base64,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' > </img>\nCreated in <span style='font-weight:600;margin-left:4px;'>Deepnote</span></a>",
   "metadata": {
    "tags": [],
    "created_in_deepnote_cell": true,
    "deepnote_cell_type": "markdown"
   }
  }
 ],
 "nbformat": 4,
 "nbformat_minor": 2,
 "metadata": {
  "kernelspec": {
   "display_name": "Python 3",
   "language": "python",
   "name": "python3"
  },
  "language_info": {
   "codemirror_mode": {
    "name": "ipython",
    "version": 3
   },
   "file_extension": ".py",
   "mimetype": "text/x-python",
   "name": "python",
   "nbconvert_exporter": "python",
   "pygments_lexer": "ipython3",
   "version": "3.6.3"
  },
  "deepnote_notebook_id": "d27ef92e-84af-4307-8889-504cb572ec84",
  "deepnote_execution_queue": [],
  "deepnote": {}
 }
}