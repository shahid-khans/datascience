{
 "cells": [
  {
   "cell_type": "code",
   "metadata": {
    "tags": [],
    "cell_id": "00000-a843eb3e-8c7f-4690-afff-fa088919257c",
    "deepnote_to_be_reexecuted": false,
    "source_hash": "1a0a19fb",
    "execution_start": 1647772240390,
    "execution_millis": 12911,
    "deepnote_cell_type": "code",
    "deepnote_cell_height": 424.796875
   },
   "source": "\n!pip install apyori\n\nimport numpy as np \nimport matplotlib.pyplot as plt \nimport pandas as pd \nfrom apyori import apriori",
   "outputs": [
    {
     "name": "stdout",
     "text": "Collecting apyori\n  Downloading apyori-1.1.2.tar.gz (8.6 kB)\nBuilding wheels for collected packages: apyori\n  Building wheel for apyori (setup.py) ... \u001b[?25ldone\n\u001b[?25h  Created wheel for apyori: filename=apyori-1.1.2-py3-none-any.whl size=5974 sha256=596df20497ab813eab5195f8025f0d324f42a1b77ebda2d878b8bcc4d06027e5\n  Stored in directory: /root/.cache/pip/wheels/cb/f6/e1/57973c631d27efd1a2f375bd6a83b2a616c4021f24aab84080\nSuccessfully built apyori\nInstalling collected packages: apyori\nSuccessfully installed apyori-1.1.2\n\u001b[33mWARNING: You are using pip version 20.1.1; however, version 22.0.4 is available.\nYou should consider upgrading via the '/root/venv/bin/python -m pip install --upgrade pip' command.\u001b[0m\n",
     "output_type": "stream"
    }
   ],
   "execution_count": null
  },
  {
   "cell_type": "code",
   "metadata": {
    "tags": [],
    "cell_id": "00001-0d21fc52-1de6-456b-b561-fa3b9fb04994",
    "deepnote_to_be_reexecuted": false,
    "source_hash": "ca1f0975",
    "execution_start": 1647772253320,
    "execution_millis": 25,
    "deepnote_cell_type": "code",
    "deepnote_cell_height": 99
   },
   "source": "#reading data set\nstore_data = pd.read_csv('/work/Apriori/store_data.csv',header=None)",
   "outputs": [],
   "execution_count": null
  },
  {
   "cell_type": "code",
   "metadata": {
    "tags": [],
    "cell_id": "00002-fce46144-f915-4ba2-bdd0-2a2d77e73586",
    "deepnote_to_be_reexecuted": false,
    "source_hash": "8bef6117",
    "execution_start": 1646321074558,
    "execution_millis": 352,
    "deepnote_cell_type": "code",
    "deepnote_cell_height": 427.796875
   },
   "source": "#explore data set\nstore_data.head()",
   "execution_count": null,
   "outputs": [
    {
     "output_type": "execute_result",
     "execution_count": 4,
     "data": {
      "application/vnd.deepnote.dataframe.v3+json": {
       "column_count": 20,
       "row_count": 5,
       "columns": [
        {
         "name": 0,
         "dtype": "object",
         "stats": {
          "unique_count": 5,
          "nan_count": 0,
          "categories": [
           {
            "name": "shrimp",
            "count": 1
           },
           {
            "name": "burgers",
            "count": 1
           },
           {
            "name": "3 others",
            "count": 3
           }
          ]
         }
        },
        {
         "name": 1,
         "dtype": "object",
         "stats": {
          "unique_count": 4,
          "nan_count": 1,
          "categories": [
           {
            "name": "almonds",
            "count": 1
           },
           {
            "name": "3 others",
            "count": 3
           },
           {
            "name": "Missing",
            "count": 1
           }
          ]
         }
        },
        {
         "name": 2,
         "dtype": "object",
         "stats": {
          "unique_count": 3,
          "nan_count": 2,
          "categories": [
           {
            "name": "avocado",
            "count": 1
           },
           {
            "name": "2 others",
            "count": 2
           },
           {
            "name": "Missing",
            "count": 2
           }
          ]
         }
        },
        {
         "name": 3,
         "dtype": "object",
         "stats": {
          "unique_count": 2,
          "nan_count": 3,
          "categories": [
           {
            "name": "vegetables mix",
            "count": 1
           },
           {
            "name": "whole wheat rice",
            "count": 1
           },
           {
            "name": "Missing",
            "count": 3
           }
          ]
         }
        },
        {
         "name": 4,
         "dtype": "object",
         "stats": {
          "unique_count": 2,
          "nan_count": 3,
          "categories": [
           {
            "name": "green grapes",
            "count": 1
           },
           {
            "name": "green tea",
            "count": 1
           },
           {
            "name": "Missing",
            "count": 3
           }
          ]
         }
        },
        {
         "name": 5,
         "dtype": "object",
         "stats": {
          "unique_count": 1,
          "nan_count": 4,
          "categories": [
           {
            "name": "whole weat flour",
            "count": 1
           },
           {
            "name": "Missing",
            "count": 4
           }
          ]
         }
        },
        {
         "name": 6,
         "dtype": "object",
         "stats": {
          "unique_count": 1,
          "nan_count": 4,
          "categories": [
           {
            "name": "yams",
            "count": 1
           },
           {
            "name": "Missing",
            "count": 4
           }
          ]
         }
        },
        {
         "name": 7,
         "dtype": "object",
         "stats": {
          "unique_count": 1,
          "nan_count": 4,
          "categories": [
           {
            "name": "cottage cheese",
            "count": 1
           },
           {
            "name": "Missing",
            "count": 4
           }
          ]
         }
        },
        {
         "name": 8,
         "dtype": "object",
         "stats": {
          "unique_count": 1,
          "nan_count": 4,
          "categories": [
           {
            "name": "energy drink",
            "count": 1
           },
           {
            "name": "Missing",
            "count": 4
           }
          ]
         }
        },
        {
         "name": 9,
         "dtype": "object",
         "stats": {
          "unique_count": 1,
          "nan_count": 4,
          "categories": [
           {
            "name": "tomato juice",
            "count": 1
           },
           {
            "name": "Missing",
            "count": 4
           }
          ]
         }
        },
        {
         "name": 10,
         "dtype": "object",
         "stats": {
          "unique_count": 1,
          "nan_count": 4,
          "categories": [
           {
            "name": "low fat yogurt",
            "count": 1
           },
           {
            "name": "Missing",
            "count": 4
           }
          ]
         }
        },
        {
         "name": 11,
         "dtype": "object",
         "stats": {
          "unique_count": 1,
          "nan_count": 4,
          "categories": [
           {
            "name": "green tea",
            "count": 1
           },
           {
            "name": "Missing",
            "count": 4
           }
          ]
         }
        },
        {
         "name": 12,
         "dtype": "object",
         "stats": {
          "unique_count": 1,
          "nan_count": 4,
          "categories": [
           {
            "name": "honey",
            "count": 1
           },
           {
            "name": "Missing",
            "count": 4
           }
          ]
         }
        },
        {
         "name": 13,
         "dtype": "object",
         "stats": {
          "unique_count": 1,
          "nan_count": 4,
          "categories": [
           {
            "name": "salad",
            "count": 1
           },
           {
            "name": "Missing",
            "count": 4
           }
          ]
         }
        },
        {
         "name": 14,
         "dtype": "object",
         "stats": {
          "unique_count": 1,
          "nan_count": 4,
          "categories": [
           {
            "name": "mineral water",
            "count": 1
           },
           {
            "name": "Missing",
            "count": 4
           }
          ]
         }
        },
        {
         "name": 15,
         "dtype": "object",
         "stats": {
          "unique_count": 1,
          "nan_count": 4,
          "categories": [
           {
            "name": "salmon",
            "count": 1
           },
           {
            "name": "Missing",
            "count": 4
           }
          ]
         }
        },
        {
         "name": 16,
         "dtype": "object",
         "stats": {
          "unique_count": 1,
          "nan_count": 4,
          "categories": [
           {
            "name": "antioxydant juice",
            "count": 1
           },
           {
            "name": "Missing",
            "count": 4
           }
          ]
         }
        },
        {
         "name": 17,
         "dtype": "object",
         "stats": {
          "unique_count": 1,
          "nan_count": 4,
          "categories": [
           {
            "name": "frozen smoothie",
            "count": 1
           },
           {
            "name": "Missing",
            "count": 4
           }
          ]
         }
        },
        {
         "name": 18,
         "dtype": "object",
         "stats": {
          "unique_count": 1,
          "nan_count": 4,
          "categories": [
           {
            "name": "spinach",
            "count": 1
           },
           {
            "name": "Missing",
            "count": 4
           }
          ]
         }
        },
        {
         "name": 19,
         "dtype": "object",
         "stats": {
          "unique_count": 1,
          "nan_count": 4,
          "categories": [
           {
            "name": "olive oil",
            "count": 1
           },
           {
            "name": "Missing",
            "count": 4
           }
          ]
         }
        },
        {
         "name": "_deepnote_index_column",
         "dtype": "int64"
        }
       ],
       "rows": [
        {
         "0": "shrimp",
         "1": "almonds",
         "2": "avocado",
         "3": "vegetables mix",
         "4": "green grapes",
         "5": "whole weat flour",
         "6": "yams",
         "7": "cottage cheese",
         "8": "energy drink",
         "9": "tomato juice",
         "10": "low fat yogurt",
         "11": "green tea",
         "12": "honey",
         "13": "salad",
         "14": "mineral water",
         "15": "salmon",
         "16": "antioxydant juice",
         "17": "frozen smoothie",
         "18": "spinach",
         "19": "olive oil",
         "_deepnote_index_column": 0
        },
        {
         "0": "burgers",
         "1": "meatballs",
         "2": "eggs",
         "3": "nan",
         "4": "nan",
         "5": "nan",
         "6": "nan",
         "7": "nan",
         "8": "nan",
         "9": "nan",
         "10": "nan",
         "11": "nan",
         "12": "nan",
         "13": "nan",
         "14": "nan",
         "15": "nan",
         "16": "nan",
         "17": "nan",
         "18": "nan",
         "19": "nan",
         "_deepnote_index_column": 1
        },
        {
         "0": "chutney",
         "1": "nan",
         "2": "nan",
         "3": "nan",
         "4": "nan",
         "5": "nan",
         "6": "nan",
         "7": "nan",
         "8": "nan",
         "9": "nan",
         "10": "nan",
         "11": "nan",
         "12": "nan",
         "13": "nan",
         "14": "nan",
         "15": "nan",
         "16": "nan",
         "17": "nan",
         "18": "nan",
         "19": "nan",
         "_deepnote_index_column": 2
        },
        {
         "0": "turkey",
         "1": "avocado",
         "2": "nan",
         "3": "nan",
         "4": "nan",
         "5": "nan",
         "6": "nan",
         "7": "nan",
         "8": "nan",
         "9": "nan",
         "10": "nan",
         "11": "nan",
         "12": "nan",
         "13": "nan",
         "14": "nan",
         "15": "nan",
         "16": "nan",
         "17": "nan",
         "18": "nan",
         "19": "nan",
         "_deepnote_index_column": 3
        },
        {
         "0": "mineral water",
         "1": "milk",
         "2": "energy bar",
         "3": "whole wheat rice",
         "4": "green tea",
         "5": "nan",
         "6": "nan",
         "7": "nan",
         "8": "nan",
         "9": "nan",
         "10": "nan",
         "11": "nan",
         "12": "nan",
         "13": "nan",
         "14": "nan",
         "15": "nan",
         "16": "nan",
         "17": "nan",
         "18": "nan",
         "19": "nan",
         "_deepnote_index_column": 4
        }
       ]
      },
      "text/plain": "              0          1           2                 3             4   \\\n0         shrimp    almonds     avocado    vegetables mix  green grapes   \n1        burgers  meatballs        eggs               NaN           NaN   \n2        chutney        NaN         NaN               NaN           NaN   \n3         turkey    avocado         NaN               NaN           NaN   \n4  mineral water       milk  energy bar  whole wheat rice     green tea   \n\n                 5     6               7             8             9   \\\n0  whole weat flour  yams  cottage cheese  energy drink  tomato juice   \n1               NaN   NaN             NaN           NaN           NaN   \n2               NaN   NaN             NaN           NaN           NaN   \n3               NaN   NaN             NaN           NaN           NaN   \n4               NaN   NaN             NaN           NaN           NaN   \n\n               10         11     12     13             14      15  \\\n0  low fat yogurt  green tea  honey  salad  mineral water  salmon   \n1             NaN        NaN    NaN    NaN            NaN     NaN   \n2             NaN        NaN    NaN    NaN            NaN     NaN   \n3             NaN        NaN    NaN    NaN            NaN     NaN   \n4             NaN        NaN    NaN    NaN            NaN     NaN   \n\n                  16               17       18         19  \n0  antioxydant juice  frozen smoothie  spinach  olive oil  \n1                NaN              NaN      NaN        NaN  \n2                NaN              NaN      NaN        NaN  \n3                NaN              NaN      NaN        NaN  \n4                NaN              NaN      NaN        NaN  ",
      "text/html": "<div>\n<style scoped>\n    .dataframe tbody tr th:only-of-type {\n        vertical-align: middle;\n    }\n\n    .dataframe tbody tr th {\n        vertical-align: top;\n    }\n\n    .dataframe thead th {\n        text-align: right;\n    }\n</style>\n<table border=\"1\" class=\"dataframe\">\n  <thead>\n    <tr style=\"text-align: right;\">\n      <th></th>\n      <th>0</th>\n      <th>1</th>\n      <th>2</th>\n      <th>3</th>\n      <th>4</th>\n      <th>5</th>\n      <th>6</th>\n      <th>7</th>\n      <th>8</th>\n      <th>9</th>\n      <th>10</th>\n      <th>11</th>\n      <th>12</th>\n      <th>13</th>\n      <th>14</th>\n      <th>15</th>\n      <th>16</th>\n      <th>17</th>\n      <th>18</th>\n      <th>19</th>\n    </tr>\n  </thead>\n  <tbody>\n    <tr>\n      <th>0</th>\n      <td>shrimp</td>\n      <td>almonds</td>\n      <td>avocado</td>\n      <td>vegetables mix</td>\n      <td>green grapes</td>\n      <td>whole weat flour</td>\n      <td>yams</td>\n      <td>cottage cheese</td>\n      <td>energy drink</td>\n      <td>tomato juice</td>\n      <td>low fat yogurt</td>\n      <td>green tea</td>\n      <td>honey</td>\n      <td>salad</td>\n      <td>mineral water</td>\n      <td>salmon</td>\n      <td>antioxydant juice</td>\n      <td>frozen smoothie</td>\n      <td>spinach</td>\n      <td>olive oil</td>\n    </tr>\n    <tr>\n      <th>1</th>\n      <td>burgers</td>\n      <td>meatballs</td>\n      <td>eggs</td>\n      <td>NaN</td>\n      <td>NaN</td>\n      <td>NaN</td>\n      <td>NaN</td>\n      <td>NaN</td>\n      <td>NaN</td>\n      <td>NaN</td>\n      <td>NaN</td>\n      <td>NaN</td>\n      <td>NaN</td>\n      <td>NaN</td>\n      <td>NaN</td>\n      <td>NaN</td>\n      <td>NaN</td>\n      <td>NaN</td>\n      <td>NaN</td>\n      <td>NaN</td>\n    </tr>\n    <tr>\n      <th>2</th>\n      <td>chutney</td>\n      <td>NaN</td>\n      <td>NaN</td>\n      <td>NaN</td>\n      <td>NaN</td>\n      <td>NaN</td>\n      <td>NaN</td>\n      <td>NaN</td>\n      <td>NaN</td>\n      <td>NaN</td>\n      <td>NaN</td>\n      <td>NaN</td>\n      <td>NaN</td>\n      <td>NaN</td>\n      <td>NaN</td>\n      <td>NaN</td>\n      <td>NaN</td>\n      <td>NaN</td>\n      <td>NaN</td>\n      <td>NaN</td>\n    </tr>\n    <tr>\n      <th>3</th>\n      <td>turkey</td>\n      <td>avocado</td>\n      <td>NaN</td>\n      <td>NaN</td>\n      <td>NaN</td>\n      <td>NaN</td>\n      <td>NaN</td>\n      <td>NaN</td>\n      <td>NaN</td>\n      <td>NaN</td>\n      <td>NaN</td>\n      <td>NaN</td>\n      <td>NaN</td>\n      <td>NaN</td>\n      <td>NaN</td>\n      <td>NaN</td>\n      <td>NaN</td>\n      <td>NaN</td>\n      <td>NaN</td>\n      <td>NaN</td>\n    </tr>\n    <tr>\n      <th>4</th>\n      <td>mineral water</td>\n      <td>milk</td>\n      <td>energy bar</td>\n      <td>whole wheat rice</td>\n      <td>green tea</td>\n      <td>NaN</td>\n      <td>NaN</td>\n      <td>NaN</td>\n      <td>NaN</td>\n      <td>NaN</td>\n      <td>NaN</td>\n      <td>NaN</td>\n      <td>NaN</td>\n      <td>NaN</td>\n      <td>NaN</td>\n      <td>NaN</td>\n      <td>NaN</td>\n      <td>NaN</td>\n      <td>NaN</td>\n      <td>NaN</td>\n    </tr>\n  </tbody>\n</table>\n</div>"
     },
     "metadata": {}
    }
   ]
  },
  {
   "cell_type": "code",
   "metadata": {
    "tags": [],
    "cell_id": "00003-79cd9697-e955-4976-a3c4-f3608299deac",
    "deepnote_to_be_reexecuted": false,
    "source_hash": "21fb03f6",
    "execution_start": 1646321154768,
    "execution_millis": 4687,
    "deepnote_cell_type": "code",
    "deepnote_cell_height": 135
   },
   "source": "#data pre-processing\nrecords = []\nfor i in range(0, 7501):\n    records.append([str(store_data.values[i,j]) for j in range(0, 20)])",
   "execution_count": null,
   "outputs": []
  },
  {
   "cell_type": "code",
   "metadata": {
    "tags": [],
    "cell_id": "00004-49e3e37d-fee1-46d6-8952-c0b4b18c7a42",
    "deepnote_to_be_reexecuted": false,
    "source_hash": "f386f169",
    "execution_start": 1646321189700,
    "execution_millis": 10604,
    "deepnote_cell_type": "code",
    "deepnote_cell_height": 117
   },
   "source": "#applying apriori\nassociation_rules = apriori(records, min_support=0.0045, min_confidence=0.2, min_lift=3, min_length=2)\nassociation_results = list(association_rules)",
   "execution_count": null,
   "outputs": []
  },
  {
   "cell_type": "code",
   "metadata": {
    "tags": [],
    "cell_id": "00005-aa63704f-c83d-47c0-8687-6810df1de4a7",
    "deepnote_to_be_reexecuted": false,
    "source_hash": "e848bc3f",
    "execution_start": 1646321204289,
    "execution_millis": 2,
    "deepnote_cell_type": "code",
    "deepnote_cell_height": 166
   },
   "source": "#print length of asocial rules\nprint(len(association_results))\n\n",
   "execution_count": null,
   "outputs": [
    {
     "name": "stdout",
     "text": "48\n",
     "output_type": "stream"
    }
   ]
  },
  {
   "cell_type": "code",
   "metadata": {
    "tags": [],
    "cell_id": "00006-c6b44aa4-76d0-4bfc-be78-89d698569bb4",
    "deepnote_to_be_reexecuted": false,
    "source_hash": "b76b24a1",
    "execution_start": 1646321216872,
    "execution_millis": 10,
    "deepnote_cell_type": "code",
    "deepnote_cell_height": 134.796875
   },
   "source": "#print first association rule\nprint(association_results[0])",
   "execution_count": null,
   "outputs": [
    {
     "name": "stdout",
     "text": "RelationRecord(items=frozenset({'light cream', 'chicken'}), support=0.004532728969470737, ordered_statistics=[OrderedStatistic(items_base=frozenset({'light cream'}), items_add=frozenset({'chicken'}), confidence=0.29059829059829057, lift=4.84395061728395)])\n",
     "output_type": "stream"
    }
   ]
  },
  {
   "cell_type": "code",
   "metadata": {
    "tags": [],
    "cell_id": "00007-0f80368b-a747-47d9-8783-74f969b80351",
    "deepnote_to_be_reexecuted": false,
    "source_hash": "dc2ed765",
    "execution_start": 1646321253258,
    "execution_millis": 70,
    "deepnote_cell_type": "code",
    "deepnote_cell_height": 917
   },
   "source": "for item in association_results:\n# first index of the inner list \n# Contains base item and add item\n    pair = item[0] \n    items = [x for x in pair] \n    print(\"Rule: \" + items[0] + \" -> \" + items[1])\n    #second index of the inner list \n    print(\"Support: \" + str(item[1]))\n    #third index of the list located at 0th \n    #of the third index of the inner list \n    print(\"Confidence: \" + str(item[2][0][2])) \n    print(\"Lift: \" + str(item[2][0][3])) \n    print(\"=====================================\")",
   "execution_count": null,
   "outputs": [
    {
     "name": "stdout",
     "text": "Rule: light cream -> chicken\nSupport: 0.004532728969470737\nConfidence: 0.29059829059829057\nLift: 4.84395061728395\n=====================================\nRule: escalope -> mushroom cream sauce\nSupport: 0.005732568990801226\nConfidence: 0.3006993006993007\nLift: 3.790832696715049\n=====================================\nRule: pasta -> escalope\nSupport: 0.005865884548726837\nConfidence: 0.3728813559322034\nLift: 4.700811850163794\n=====================================\nRule: herb & pepper -> ground beef\nSupport: 0.015997866951073192\nConfidence: 0.3234501347708895\nLift: 3.2919938411349285\n=====================================\nRule: ground beef -> tomato sauce\nSupport: 0.005332622317024397\nConfidence: 0.3773584905660377\nLift: 3.840659481324083\n=====================================\nRule: olive oil -> whole wheat pasta\nSupport: 0.007998933475536596\nConfidence: 0.2714932126696833\nLift: 4.122410097642296\n=====================================\nRule: pasta -> shrimp\nSupport: 0.005065991201173177\nConfidence: 0.3220338983050847\nLift: 4.506672147735896\n=====================================\nRule: light cream -> chicken\nSupport: 0.004532728969470737\nConfidence: 0.29059829059829057\nLift: 4.84395061728395\n=====================================\nRule: chocolate -> shrimp\nSupport: 0.005332622317024397\nConfidence: 0.23255813953488375\nLift: 3.2545123221103784\n=====================================\nRule: ground beef -> cooking oil\nSupport: 0.004799360085321957\nConfidence: 0.5714285714285714\nLift: 3.2819951870487856\n=====================================\nRule: nan -> escalope\nSupport: 0.005732568990801226\nConfidence: 0.3006993006993007\nLift: 3.790832696715049\n=====================================\nRule: pasta -> escalope\nSupport: 0.005865884548726837\nConfidence: 0.3728813559322034\nLift: 4.700811850163794\n=====================================\nRule: ground beef -> frozen vegetables\nSupport: 0.008665511265164644\nConfidence: 0.31100478468899523\nLift: 3.165328208890303\n=====================================\nRule: olive oil -> frozen vegetables\nSupport: 0.004799360085321957\nConfidence: 0.20338983050847456\nLift: 3.088314005352364\n=====================================\nRule: mineral water -> shrimp\nSupport: 0.007199040127982935\nConfidence: 0.30508474576271183\nLift: 3.200616332819722\n=====================================\nRule: olive oil -> frozen vegetables\nSupport: 0.005732568990801226\nConfidence: 0.20574162679425836\nLift: 3.1240241752707125\n=====================================\nRule: shrimp -> frozen vegetables\nSupport: 0.005999200106652446\nConfidence: 0.21531100478468898\nLift: 3.0131489680782684\n=====================================\nRule: tomatoes -> frozen vegetables\nSupport: 0.006665777896280496\nConfidence: 0.23923444976076558\nLift: 3.4980460188216425\n=====================================\nRule: ground beef -> grated cheese\nSupport: 0.005332622317024397\nConfidence: 0.3225806451612903\nLift: 3.283144395325426\n=====================================\nRule: herb & pepper -> mineral water\nSupport: 0.006665777896280496\nConfidence: 0.39062500000000006\nLift: 3.975682666214383\n=====================================\nRule: herb & pepper -> ground beef\nSupport: 0.015997866951073192\nConfidence: 0.3234501347708895\nLift: 3.2919938411349285\n=====================================\nRule: herb & pepper -> ground beef\nSupport: 0.006399146780429276\nConfidence: 0.3934426229508197\nLift: 4.004359721511667\n=====================================\nRule: olive oil -> ground beef\nSupport: 0.004932675643247567\nConfidence: 0.22424242424242427\nLift: 3.40494417862839\n=====================================\nRule: ground beef -> tomato sauce\nSupport: 0.005332622317024397\nConfidence: 0.3773584905660377\nLift: 3.840659481324083\n=====================================\nRule: ground beef -> shrimp\nSupport: 0.005999200106652446\nConfidence: 0.5232558139534884\nLift: 3.005315360233627\n=====================================\nRule: olive oil -> spaghetti\nSupport: 0.007199040127982935\nConfidence: 0.20300751879699247\nLift: 3.0825089038385434\n=====================================\nRule: soup -> olive oil\nSupport: 0.005199306759098787\nConfidence: 0.22543352601156072\nLift: 3.4230301186492245\n=====================================\nRule: olive oil -> whole wheat pasta\nSupport: 0.007998933475536596\nConfidence: 0.2714932126696833\nLift: 4.13077198425009\n=====================================\nRule: pasta -> shrimp\nSupport: 0.005065991201173177\nConfidence: 0.3220338983050847\nLift: 4.515095833993347\n=====================================\nRule: olive oil -> pancakes\nSupport: 0.005065991201173177\nConfidence: 0.20105820105820105\nLift: 3.0529100529100526\n=====================================\nRule: chocolate -> shrimp\nSupport: 0.005332622317024397\nConfidence: 0.23255813953488375\nLift: 3.260595522712454\n=====================================\nRule: ground beef -> spaghetti\nSupport: 0.004799360085321957\nConfidence: 0.5714285714285714\nLift: 3.2819951870487856\n=====================================\nRule: spaghetti -> ground beef\nSupport: 0.008665511265164644\nConfidence: 0.31100478468899523\nLift: 3.165328208890303\n=====================================\nRule: spaghetti -> mineral water\nSupport: 0.004532728969470737\nConfidence: 0.28813559322033894\nLift: 3.0228043143297376\n=====================================\nRule: olive oil -> nan\nSupport: 0.004799360085321957\nConfidence: 0.20338983050847456\nLift: 3.094578333963626\n=====================================\nRule: mineral water -> shrimp\nSupport: 0.007199040127982935\nConfidence: 0.30508474576271183\nLift: 3.200616332819722\n=====================================\nRule: olive oil -> spaghetti\nSupport: 0.005732568990801226\nConfidence: 0.20574162679425836\nLift: 3.1303609383037156\n=====================================\nRule: spaghetti -> shrimp\nSupport: 0.005999200106652446\nConfidence: 0.21531100478468898\nLift: 3.0187810222242093\n=====================================\nRule: spaghetti -> tomatoes\nSupport: 0.006665777896280496\nConfidence: 0.23923444976076558\nLift: 3.4980460188216425\n=====================================\nRule: spaghetti -> ground beef\nSupport: 0.005332622317024397\nConfidence: 0.3225806451612903\nLift: 3.283144395325426\n=====================================\nRule: herb & pepper -> mineral water\nSupport: 0.006665777896280496\nConfidence: 0.39062500000000006\nLift: 3.975682666214383\n=====================================\nRule: herb & pepper -> spaghetti\nSupport: 0.006399146780429276\nConfidence: 0.3934426229508197\nLift: 4.004359721511667\n=====================================\nRule: olive oil -> ground beef\nSupport: 0.004932675643247567\nConfidence: 0.22424242424242427\nLift: 3.4118507591124225\n=====================================\nRule: spaghetti -> ground beef\nSupport: 0.005999200106652446\nConfidence: 0.5232558139534884\nLift: 3.005315360233627\n=====================================\nRule: olive oil -> spaghetti\nSupport: 0.007199040127982935\nConfidence: 0.20300751879699247\nLift: 3.088761457396025\n=====================================\nRule: soup -> olive oil\nSupport: 0.005199306759098787\nConfidence: 0.22543352601156072\nLift: 3.429973384609973\n=====================================\nRule: olive oil -> spaghetti\nSupport: 0.005065991201173177\nConfidence: 0.20105820105820105\nLift: 3.0591025682303568\n=====================================\nRule: milk -> frozen vegetables\nSupport: 0.004532728969470737\nConfidence: 0.28813559322033894\nLift: 3.0228043143297376\n=====================================\n",
     "output_type": "stream"
    }
   ]
  },
  {
   "cell_type": "markdown",
   "source": "<a style='text-decoration:none;line-height:16px;display:flex;color:#5B5B62;padding:10px;justify-content:end;' href='https://deepnote.com?utm_source=created-in-deepnote-cell&projectId=8cebdcfa-1086-4e74-8ed0-b1904f9fcab1' target=\"_blank\">\n<img alt='Created in deepnote.com' style='display:inline;max-height:16px;margin:0px;margin-right:7.5px;' src='data:image/svg+xml;base64,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' > </img>\nCreated in <span style='font-weight:600;margin-left:4px;'>Deepnote</span></a>",
   "metadata": {
    "tags": [],
    "created_in_deepnote_cell": true,
    "deepnote_cell_type": "markdown"
   }
  }
 ],
 "nbformat": 4,
 "nbformat_minor": 2,
 "metadata": {
  "orig_nbformat": 2,
  "deepnote": {
   "is_reactive": false
  },
  "deepnote_notebook_id": "96230813-caf9-4bbd-a6c7-f8785db90485",
  "deepnote_execution_queue": []
 }
}