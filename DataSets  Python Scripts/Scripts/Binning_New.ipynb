{
  "cells": [
    {
      "cell_type": "code",
      "metadata": {
        "cell_id": "00000-9d9aa523-3ab5-45cc-a235-974ced89a50b",
        "deepnote_cell_type": "code"
      },
      "source": "def equiwidth(arr1, m): \n    a = len(arr1) \n    w = int((max(arr1) - min(arr1)) / m) \n    min1 = min(arr1) \n    arr = [] \n    for i in range(0, m + 1): \n        arr = arr + [min1 + w * i] \n    arri=[] \n      \n    for i in range(0, m): \n        temp = [] \n        for j in arr1: \n            if j >= arr[i] and j <= arr[i+1]: \n                temp += [j] \n        arri += [temp] \n    print(arri)  ",
      "execution_count": null,
      "outputs": []
    },
    {
      "cell_type": "code",
      "metadata": {
        "cell_id": "00001-8a58ef60-fd9d-44b3-b814-68ee888cdb17",
        "deepnote_cell_type": "code"
      },
      "source": "  \n#data to be binned ",
      "execution_count": null,
      "outputs": []
    },
    {
      "cell_type": "code",
      "metadata": {
        "cell_id": "00002-04c15572-a13a-497e-93c0-e4c2dacc7d9f",
        "deepnote_cell_type": "code"
      },
      "source": "data = [5, 10, 11, 13, 15, 35, 50, 55, 72, 92, 204, 215] \n#no of bins ",
      "execution_count": null,
      "outputs": []
    },
    {
      "cell_type": "code",
      "metadata": {
        "cell_id": "00003-87e28636-eec5-42b9-a2a9-f340694bb6b6",
        "deepnote_cell_type": "code"
      },
      "source": "m = 3 \nequiwidth(data,m)",
      "execution_count": null,
      "outputs": []
    },
    {
      "cell_type": "code",
      "metadata": {
        "cell_id": "00004-492943ae-cff6-4f6d-adb4-bebb3ff753ca",
        "deepnote_cell_type": "code"
      },
      "source": "import numpy as np   ",
      "execution_count": null,
      "outputs": []
    },
    {
      "cell_type": "code",
      "metadata": {
        "cell_id": "00005-56470593-0f24-4759-8402-28f8f6404d04",
        "deepnote_cell_type": "code"
      },
      "source": "import math ",
      "execution_count": null,
      "outputs": []
    },
    {
      "cell_type": "code",
      "metadata": {
        "cell_id": "00006-ac3b733b-92fb-49fd-a8ec-1ba5cd47b43c",
        "deepnote_cell_type": "code"
      },
      "source": "from sklearn.datasets import load_iris ",
      "outputs": [],
      "execution_count": null
    },
    {
      "cell_type": "code",
      "metadata": {
        "cell_id": "00007-33d6c44c-6789-4b71-93f1-32e91f2200bd",
        "deepnote_cell_type": "code"
      },
      "source": "from sklearn import datasets, linear_model, metrics  ",
      "execution_count": null,
      "outputs": []
    },
    {
      "cell_type": "code",
      "metadata": {
        "cell_id": "00008-1d840db8-965e-4fbb-a382-19d48e5ea1e4",
        "deepnote_cell_type": "code"
      },
      "source": "  \n# load iris data set ",
      "execution_count": null,
      "outputs": []
    },
    {
      "cell_type": "code",
      "metadata": {
        "cell_id": "00009-df0c1936-92f5-4f27-a4b4-d2289d6f6c70",
        "deepnote_cell_type": "code"
      },
      "source": "dataset = load_iris()    ",
      "execution_count": null,
      "outputs": []
    },
    {
      "cell_type": "code",
      "metadata": {
        "cell_id": "00010-08a86b8b-70bd-4ad2-b72b-e738787eb16e",
        "deepnote_cell_type": "code"
      },
      "source": "a = dataset.data ",
      "execution_count": null,
      "outputs": []
    },
    {
      "cell_type": "code",
      "metadata": {
        "cell_id": "00011-0d4f4e62-9e5b-40ad-9ec3-d97c1fd5c410",
        "deepnote_cell_type": "code"
      },
      "source": "b = np.zeros(150) ",
      "execution_count": null,
      "outputs": []
    },
    {
      "cell_type": "code",
      "metadata": {
        "cell_id": "00012-0a286edd-917b-4b90-bac2-5c24bc3bcb83",
        "deepnote_cell_type": "code"
      },
      "source": "  \n# take 1st column among 4 column of data set  ",
      "execution_count": null,
      "outputs": []
    },
    {
      "cell_type": "code",
      "metadata": {
        "cell_id": "00013-eb9a5b8d-7cbd-427f-8ed2-13fc70805590",
        "deepnote_cell_type": "code"
      },
      "source": "for i in range (150): \n    b[i]=a[i,1]    ",
      "execution_count": null,
      "outputs": []
    },
    {
      "cell_type": "code",
      "metadata": {
        "cell_id": "00014-92dc4431-e9f7-42ac-9c81-06bc847cfad4",
        "deepnote_cell_type": "code"
      },
      "source": "  ",
      "execution_count": null,
      "outputs": []
    },
    {
      "cell_type": "code",
      "metadata": {
        "cell_id": "00015-5cd9da13-bac7-477b-a410-6eab893acb7c",
        "deepnote_cell_type": "code"
      },
      "source": "b=np.sort(b)  #sort the array ",
      "execution_count": null,
      "outputs": []
    },
    {
      "cell_type": "code",
      "metadata": {
        "cell_id": "00016-f6d579d0-7d34-4d98-9fcb-f78597acccb6",
        "deepnote_cell_type": "code"
      },
      "source": "  \n# create bins ",
      "execution_count": null,
      "outputs": []
    },
    {
      "cell_type": "code",
      "metadata": {
        "cell_id": "00017-5f45ade7-0c0a-4d56-9932-44e36b810d9d",
        "deepnote_cell_type": "code"
      },
      "source": "bin1=np.zeros((30,5))  ",
      "execution_count": null,
      "outputs": []
    },
    {
      "cell_type": "code",
      "metadata": {
        "cell_id": "00018-eda756a0-a36d-4e32-95ce-8f9c08cd82c4",
        "deepnote_cell_type": "code"
      },
      "source": "bin2=np.zeros((30,5)) ",
      "execution_count": null,
      "outputs": []
    },
    {
      "cell_type": "code",
      "metadata": {
        "cell_id": "00019-9c6d62bc-42b4-4405-a384-2ff24be71c23",
        "deepnote_cell_type": "code"
      },
      "source": "bin3=np.zeros((30,5)) ",
      "execution_count": null,
      "outputs": []
    },
    {
      "cell_type": "code",
      "metadata": {
        "cell_id": "00020-a1338c1c-a593-460d-9568-2776a14952a6",
        "deepnote_cell_type": "code"
      },
      "source": "  \n# Bin mean ",
      "execution_count": null,
      "outputs": []
    },
    {
      "cell_type": "code",
      "metadata": {
        "cell_id": "00021-d7061a03-5f86-42aa-92aa-2f28053d8c7d",
        "deepnote_cell_type": "code"
      },
      "source": "for i in range (0,150,5): \n    k=int(i/5) \n    mean=(b[i] + b[i+1] + b[i+2] + b[i+3] + b[i+4])/5\n    for j in range(5): \n        bin1[k,j]=mean ",
      "execution_count": null,
      "outputs": []
    },
    {
      "cell_type": "code",
      "metadata": {
        "cell_id": "00022-1b49b599-7bb6-4bcc-950a-71ecc588d855",
        "deepnote_cell_type": "code"
      },
      "source": "print(\"Bin Mean: \\n\",bin1) \n     \n# Bin boundaries ",
      "execution_count": null,
      "outputs": []
    },
    {
      "cell_type": "code",
      "metadata": {
        "cell_id": "00023-fbf3d101-4e14-439f-ad6c-59560e1b18c9",
        "deepnote_cell_type": "code"
      },
      "source": "for i in range (0,150,5): \n    k=int(i/5) \n    for j in range (5): \n        if (b[i+j]-b[i]) < (b[i+4]-b[i+j]): \n            bin2[k,j]=b[i] \n        else: \n            bin2[k,j]=b[i+4]        ",
      "execution_count": null,
      "outputs": []
    },
    {
      "cell_type": "code",
      "metadata": {
        "cell_id": "00024-f56d8ba6-4a4b-4df1-8e24-3be52801af4c",
        "deepnote_cell_type": "code"
      },
      "source": "print(\"Bin Boundaries: \\n\",bin2) ",
      "execution_count": null,
      "outputs": []
    },
    {
      "cell_type": "code",
      "metadata": {
        "cell_id": "00025-b785bea4-6fbb-4556-a327-42aca4fa53d4",
        "deepnote_cell_type": "code"
      },
      "source": "  \n# Bin median ",
      "execution_count": null,
      "outputs": []
    },
    {
      "cell_type": "code",
      "metadata": {
        "cell_id": "00026-169cc0cb-dc80-4d98-a09c-701b482a7180",
        "deepnote_cell_type": "code"
      },
      "source": "for i in range (0,150,5): \n    k=int(i/5) \n    for j in range (5): \n        bin3[k,j]=b[i+2] ",
      "execution_count": null,
      "outputs": []
    },
    {
      "cell_type": "code",
      "metadata": {
        "cell_id": "00027-95fef0cb-fa70-4543-8d1f-18a86e2f09f8",
        "deepnote_cell_type": "code"
      },
      "source": "print(\"Bin Median: \\n\",bin3)",
      "execution_count": null,
      "outputs": []
    },
    {
      "cell_type": "markdown",
      "source": "<a style='text-decoration:none;line-height:16px;display:flex;color:#5B5B62;padding:10px;justify-content:end;' href='https://deepnote.com?utm_source=created-in-deepnote-cell&projectId=486c3042-68b8-438c-a156-48d94106b4cb' target=\"_blank\">\n<img alt='Created in deepnote.com' style='display:inline;max-height:16px;margin:0px;margin-right:7.5px;' src='data:image/svg+xml;base64,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' > </img>\nCreated in <span style='font-weight:600;margin-left:4px;'>Deepnote</span></a>",
      "metadata": {
        "tags": [],
        "created_in_deepnote_cell": true,
        "deepnote_cell_type": "markdown"
      }
    }
  ],
  "nbformat": 4,
  "nbformat_minor": 2,
  "metadata": {
    "kernelspec": {
      "display_name": "Python 3",
      "language": "python",
      "name": "python3"
    },
    "language_info": {
      "codemirror_mode": {
        "name": "ipython",
        "version": 3
      },
      "file_extension": ".py",
      "mimetype": "text/x-python",
      "name": "python",
      "nbconvert_exporter": "python",
      "pygments_lexer": "ipython3",
      "version": "3.7.3"
    },
    "deepnote_notebook_id": "e1167872-e113-44f1-b095-28a4fa141aa3",
    "deepnote": {},
    "deepnote_execution_queue": []
  }
}