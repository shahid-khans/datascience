{
  "cells": [
    {
      "cell_type": "code",
      "metadata": {
        "cell_id": "00000-dce55efa-6eb7-44e7-884e-e55503be3e0c",
        "deepnote_to_be_reexecuted": false,
        "source_hash": "cb2dbffa",
        "execution_start": 1619848456385,
        "execution_millis": 1298,
        "deepnote_cell_type": "code"
      },
      "source": "from sklearn import preprocessing\nimport numpy as np",
      "outputs": [],
      "execution_count": null
    },
    {
      "cell_type": "code",
      "metadata": {
        "cell_id": "00001-778b70bf-3061-40aa-8885-95074e036a5e",
        "deepnote_cell_type": "code"
      },
      "source": "X = np.array([[0., 0., 5., 13., 9., 1.],[0., 0., 13., 15., 10., 15.],[0., 3., 15., 2., 0., 11.]])",
      "outputs": [],
      "execution_count": null
    },
    {
      "cell_type": "code",
      "metadata": {
        "cell_id": "00002-ed62422a-e935-4afa-ba8f-90381c6fceac",
        "deepnote_cell_type": "code"
      },
      "source": "print (preprocessing.scale(X))",
      "outputs": [
        {
          "name": "stdout",
          "output_type": "stream",
          "text": "[[ 0.         -0.70710678 -1.38873015  0.52489066  0.59299945 -1.35873244]\n [ 0.         -0.70710678  0.46291005  0.87481777  0.81537425  1.01904933]\n [ 0.          1.41421356  0.9258201  -1.39970842 -1.4083737   0.33968311]]\n"
        }
      ],
      "execution_count": null
    },
    {
      "cell_type": "markdown",
      "source": "ompute the mean and standard deviation ",
      "metadata": {
        "cell_id": "00003-59823a73-d4e3-4f3d-9732-b706ccf21d88",
        "deepnote_cell_type": "markdown"
      }
    },
    {
      "cell_type": "code",
      "metadata": {
        "cell_id": "00004-cf0cdb3c-7339-4a04-a44e-523f7833c93b",
        "deepnote_cell_type": "code"
      },
      "source": "scaler = preprocessing.StandardScaler().fit(X)",
      "outputs": [],
      "execution_count": null
    },
    {
      "cell_type": "code",
      "metadata": {
        "cell_id": "00005-cf8417a2-4bf2-43c3-9be0-682207ba8a9e",
        "deepnote_cell_type": "code"
      },
      "source": "print(scaler.transform(X))",
      "outputs": [
        {
          "name": "stdout",
          "output_type": "stream",
          "text": "[[ 0.         -0.70710678 -1.38873015  0.52489066  0.59299945 -1.35873244]\n [ 0.         -0.70710678  0.46291005  0.87481777  0.81537425  1.01904933]\n [ 0.          1.41421356  0.9258201  -1.39970842 -1.4083737   0.33968311]]\n"
        }
      ],
      "execution_count": null
    },
    {
      "cell_type": "markdown",
      "source": "caling features to lie between a given minimum and maximum value, often between zero and one<br>\nr so that the maximum absolute value of each feature is scaled to unit size",
      "metadata": {
        "cell_id": "00006-df4e889e-5faa-4af0-8f23-a05ff98bdd6c",
        "deepnote_cell_type": "markdown"
      }
    },
    {
      "cell_type": "code",
      "metadata": {
        "cell_id": "00007-5718524c-121f-493e-a3b4-aa1b78528a16",
        "deepnote_cell_type": "code"
      },
      "source": "min_max_scaler = preprocessing.MinMaxScaler()\nX_minmax = min_max_scaler.fit_transform(X)\nprint(X_minmax)",
      "outputs": [
        {
          "name": "stdout",
          "output_type": "stream",
          "text": "[[0.         0.         0.         0.84615385 0.9        0.        ]\n [0.         0.         0.8        1.         1.         1.        ]\n [0.         1.         1.         0.         0.         0.71428571]]\n"
        }
      ],
      "execution_count": null
    },
    {
      "cell_type": "code",
      "metadata": {
        "cell_id": "00008-ddd5505b-044d-48ed-b4af-996e81a774c1",
        "deepnote_cell_type": "code"
      },
      "source": "max_abs_scaler = preprocessing.MaxAbsScaler()\nX_max = max_abs_scaler.fit_transform(X)\nprint(X_max)",
      "outputs": [
        {
          "name": "stdout",
          "output_type": "stream",
          "text": "[[0.         0.         0.33333333 0.86666667 0.9        0.06666667]\n [0.         0.         0.86666667 1.         1.         1.        ]\n [0.         1.         1.         0.13333333 0.         0.73333333]]\n"
        }
      ],
      "execution_count": null
    },
    {
      "cell_type": "code",
      "metadata": {
        "cell_id": "00009-393685c5-8bb4-4801-8f2e-4cc8d9fe8d6a",
        "deepnote_cell_type": "code"
      },
      "source": "",
      "execution_count": null,
      "outputs": []
    },
    {
      "cell_type": "markdown",
      "source": "<a style='text-decoration:none;line-height:16px;display:flex;color:#5B5B62;padding:10px;justify-content:end;' href='https://deepnote.com?utm_source=created-in-deepnote-cell&projectId=486c3042-68b8-438c-a156-48d94106b4cb' target=\"_blank\">\n<img alt='Created in deepnote.com' style='display:inline;max-height:16px;margin:0px;margin-right:7.5px;' src='data:image/svg+xml;base64,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' > </img>\nCreated in <span style='font-weight:600;margin-left:4px;'>Deepnote</span></a>",
      "metadata": {
        "tags": [],
        "created_in_deepnote_cell": true,
        "deepnote_cell_type": "markdown"
      }
    }
  ],
  "nbformat": 4,
  "nbformat_minor": 2,
  "metadata": {
    "kernelspec": {
      "display_name": "Python 3",
      "language": "python",
      "name": "python3"
    },
    "language_info": {
      "codemirror_mode": {
        "name": "ipython",
        "version": 3
      },
      "file_extension": ".py",
      "mimetype": "text/x-python",
      "name": "python",
      "nbconvert_exporter": "python",
      "pygments_lexer": "ipython3",
      "version": "3.7.3"
    },
    "deepnote_notebook_id": "06338a9f-1aee-4694-a270-24f0fc39022b",
    "deepnote": {},
    "deepnote_execution_queue": []
  }
}