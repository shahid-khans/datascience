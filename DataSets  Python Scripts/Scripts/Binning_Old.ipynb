{
 "cells": [
  {
   "cell_type": "code",
   "metadata": {
    "cell_id": "00000-d1772522-302e-42b6-9238-5097c92daad0",
    "deepnote_to_be_reexecuted": false,
    "source_hash": "9b82ee11",
    "execution_start": 1619847653501,
    "execution_millis": 1,
    "deepnote_cell_type": "code"
   },
   "source": "import pandas as pd",
   "execution_count": null,
   "outputs": []
  },
  {
   "cell_type": "code",
   "metadata": {
    "cell_id": "00001-77cdc2cb-c8b8-4273-8e16-5348956b3cc6",
    "deepnote_to_be_reexecuted": false,
    "source_hash": "6340ebd5",
    "execution_start": 1619847662595,
    "execution_millis": 0,
    "deepnote_cell_type": "code"
   },
   "source": "ages = [20, 22, 25, 27, 21, 23, 37, 31, 61, 45, 41, 32]",
   "execution_count": null,
   "outputs": []
  },
  {
   "cell_type": "code",
   "metadata": {
    "cell_id": "00002-46f3f0dd-92b9-4257-a45b-d195c8ac08ee",
    "deepnote_to_be_reexecuted": false,
    "source_hash": "73ff34f3",
    "execution_start": 1619847666265,
    "execution_millis": 2,
    "deepnote_cell_type": "code"
   },
   "source": "marks=[1,45,60,78,79,80,99,92]",
   "execution_count": null,
   "outputs": []
  },
  {
   "cell_type": "markdown",
   "source": "ins will decide equi depth or equi width",
   "metadata": {
    "cell_id": "00003-e8b1cabb-6f34-452c-9076-fbee3b73fc6f",
    "deepnote_cell_type": "markdown"
   }
  },
  {
   "cell_type": "code",
   "metadata": {
    "cell_id": "00004-c25fc0ac-82ea-4485-90e3-881d424bd2cd",
    "deepnote_to_be_reexecuted": false,
    "source_hash": "8ddef364",
    "execution_start": 1619847739298,
    "execution_millis": 8,
    "deepnote_cell_type": "code"
   },
   "source": "bins = [18, 25, 35, 60, 100]",
   "execution_count": null,
   "outputs": []
  },
  {
   "cell_type": "code",
   "metadata": {
    "cell_id": "00005-00d69abc-3e8f-4b57-a893-00f9202f0370",
    "deepnote_cell_type": "code"
   },
   "source": "binswidth=[0,20,40,60,80,100]",
   "execution_count": null,
   "outputs": []
  },
  {
   "cell_type": "code",
   "metadata": {
    "cell_id": "00006-f19ef5ec-e666-42d8-890b-52d344f50f80",
    "deepnote_to_be_reexecuted": false,
    "source_hash": "ca6423dd",
    "execution_start": 1619847744467,
    "execution_millis": 7,
    "deepnote_cell_type": "code"
   },
   "source": "cats2 = pd.cut(marks,binswidth)",
   "execution_count": null,
   "outputs": [
    {
     "output_type": "error",
     "ename": "NameError",
     "evalue": "name 'binswidth' is not defined",
     "traceback": [
      "\u001b[0;31m---------------------------------------------------------------------------\u001b[0m",
      "\u001b[0;31mNameError\u001b[0m                                 Traceback (most recent call last)",
      "\u001b[0;32m<ipython-input-6-b271030fc026>\u001b[0m in \u001b[0;36m<module>\u001b[0;34m\u001b[0m\n\u001b[0;32m----> 1\u001b[0;31m \u001b[0mcats2\u001b[0m \u001b[0;34m=\u001b[0m \u001b[0mpd\u001b[0m\u001b[0;34m.\u001b[0m\u001b[0mcut\u001b[0m\u001b[0;34m(\u001b[0m\u001b[0mmarks\u001b[0m\u001b[0;34m,\u001b[0m\u001b[0mbinswidth\u001b[0m\u001b[0;34m)\u001b[0m\u001b[0;34m\u001b[0m\u001b[0;34m\u001b[0m\u001b[0m\n\u001b[0m",
      "\u001b[0;31mNameError\u001b[0m: name 'binswidth' is not defined"
     ]
    }
   ]
  },
  {
   "cell_type": "code",
   "metadata": {
    "cell_id": "00007-5d46b909-27ae-410c-b29e-326a50712e74",
    "deepnote_to_be_reexecuted": false,
    "source_hash": "cab7a63a",
    "execution_start": 1619847752584,
    "execution_millis": 2,
    "deepnote_cell_type": "code"
   },
   "source": "cats = pd.cut(ages, bins)",
   "execution_count": null,
   "outputs": []
  },
  {
   "cell_type": "code",
   "metadata": {
    "cell_id": "00008-3191e697-3922-4ce8-ae70-fe59a55f17cc",
    "deepnote_cell_type": "code"
   },
   "source": "print(cats)",
   "execution_count": null,
   "outputs": [
    {
     "name": "stdout",
     "output_type": "stream",
     "text": "[(18, 25], (18, 25], (18, 25], (25, 35], (18, 25], ..., (25, 35], (60, 100], (35, 60], (35, 60], (25, 35]]\nLength: 12\nCategories (4, interval[int64]): [(18, 25] < (25, 35] < (35, 60] < (60, 100]]\n"
    }
   ]
  },
  {
   "cell_type": "code",
   "metadata": {
    "cell_id": "00009-682046dd-fc1b-4929-8e29-59f9076c5799",
    "deepnote_cell_type": "code"
   },
   "source": "print(cats.categories)",
   "execution_count": null,
   "outputs": [
    {
     "name": "stdout",
     "output_type": "stream",
     "text": "IntervalIndex([(18, 25], (25, 35], (35, 60], (60, 100]],\n              closed='right',\n              dtype='interval[int64]')\n"
    }
   ]
  },
  {
   "cell_type": "code",
   "metadata": {
    "cell_id": "00010-25dd8739-a246-4ab6-a8f6-defd21e3fe17",
    "deepnote_cell_type": "code"
   },
   "source": "print(pd.value_counts(cats))",
   "execution_count": null,
   "outputs": [
    {
     "name": "stdout",
     "output_type": "stream",
     "text": "(18, 25]     5\n(35, 60]     3\n(25, 35]     3\n(60, 100]    1\ndtype: int64\n"
    }
   ]
  },
  {
   "cell_type": "markdown",
   "source": " parenthesis means that the side is open while the square bracket means it is closed (inclusive).<br>\nhich side is closed can be changed by passing right=False :",
   "metadata": {
    "cell_id": "00011-936fe290-3a3f-446e-bdde-6b199db5be7e",
    "deepnote_cell_type": "markdown"
   }
  },
  {
   "cell_type": "code",
   "metadata": {
    "cell_id": "00012-282165a1-4753-478a-8cff-9c6f46d0dcb8",
    "deepnote_cell_type": "code"
   },
   "source": "cats1 =  pd.cut(ages, [18, 26, 36, 61, 100], right=False)",
   "execution_count": null,
   "outputs": []
  },
  {
   "cell_type": "code",
   "metadata": {
    "cell_id": "00013-1ec55701-8899-428e-ae89-17b95465d976",
    "deepnote_cell_type": "code"
   },
   "source": "print(cats1)",
   "execution_count": null,
   "outputs": [
    {
     "name": "stdout",
     "output_type": "stream",
     "text": "[[18, 26), [18, 26), [18, 26), [26, 36), [18, 26), ..., [26, 36), [61, 100), [36, 61), [36, 61), [26, 36)]\nLength: 12\nCategories (4, interval[int64]): [[18, 26) < [26, 36) < [36, 61) < [61, 100)]\n"
    }
   ]
  },
  {
   "cell_type": "markdown",
   "source": "pass your own bin names by passing a list or array to the labels option",
   "metadata": {
    "cell_id": "00014-04899527-b310-4ec3-a2be-38aa2aff912d",
    "deepnote_cell_type": "markdown"
   }
  },
  {
   "cell_type": "code",
   "metadata": {
    "cell_id": "00015-089015e5-fd45-48a0-8be2-6e6e25b62de8",
    "deepnote_to_be_reexecuted": false,
    "source_hash": "baeb3826",
    "execution_start": 1619847874122,
    "execution_millis": 0,
    "deepnote_cell_type": "code"
   },
   "source": "group_names = ['Youth', 'YoungAdult', 'MiddleAged', 'Senior']",
   "execution_count": null,
   "outputs": []
  },
  {
   "cell_type": "code",
   "metadata": {
    "cell_id": "00016-4f598155-00bb-4e22-b4a2-0a7fc591fbd4",
    "deepnote_to_be_reexecuted": false,
    "source_hash": "fcc699e2",
    "execution_start": 1619847893890,
    "execution_millis": 2,
    "deepnote_cell_type": "code"
   },
   "source": "cats3 = pd.cut(ages, bins, labels=group_names)",
   "execution_count": null,
   "outputs": []
  },
  {
   "cell_type": "code",
   "metadata": {
    "cell_id": "00017-682428ad-6821-430a-9c03-35bf9003e86e",
    "deepnote_cell_type": "code"
   },
   "source": "print(cats3)",
   "execution_count": null,
   "outputs": [
    {
     "name": "stdout",
     "output_type": "stream",
     "text": "[Youth, Youth, Youth, YoungAdult, Youth, ..., YoungAdult, Senior, MiddleAged, MiddleAged, YoungAdult]\nLength: 12\nCategories (4, object): [Youth < YoungAdult < MiddleAged < Senior]\n"
    }
   ]
  },
  {
   "cell_type": "markdown",
   "source": "ne hot encoding",
   "metadata": {
    "cell_id": "00018-799d33a8-8273-45f0-8d1a-83b3d2271323",
    "deepnote_cell_type": "markdown"
   }
  },
  {
   "cell_type": "code",
   "metadata": {
    "cell_id": "00019-b4105eea-fe67-4b73-98c7-0f2a500899d0",
    "deepnote_to_be_reexecuted": false,
    "source_hash": "21b0849a",
    "execution_start": 1619848784173,
    "execution_millis": 1,
    "deepnote_cell_type": "code"
   },
   "source": "gas = [\"deisel\", \"deisel\", \"gas\", \"petrol\" , \"gas\", \"deisel\"]\ndummies = pd.get_dummies(gas)",
   "execution_count": null,
   "outputs": []
  },
  {
   "cell_type": "code",
   "metadata": {
    "cell_id": "00020-448d437d-e5eb-42b3-9a03-df2b1b03d8f7",
    "deepnote_cell_type": "code"
   },
   "source": "print(dummies)",
   "execution_count": null,
   "outputs": [
    {
     "name": "stdout",
     "output_type": "stream",
     "text": "   deisel  gas  petrol\n0       1    0       0\n1       1    0       0\n2       0    1       0\n3       0    0       1\n4       0    1       0\n5       1    0       0\n"
    }
   ]
  },
  {
   "cell_type": "code",
   "metadata": {
    "cell_id": "00021-c11a7139-2314-4bcb-a4b2-7151e0bc2c4a",
    "deepnote_cell_type": "code"
   },
   "source": "from sklearn.feature_extraction import DictVectorizer\nfrom sklearn.feature_extraction.text import CountVectorizer",
   "execution_count": null,
   "outputs": []
  },
  {
   "cell_type": "code",
   "metadata": {
    "cell_id": "00022-38b273d3-83e2-4aa3-a592-ac9392be2844",
    "deepnote_cell_type": "code"
   },
   "source": "onehot_encoder = DictVectorizer()",
   "execution_count": null,
   "outputs": []
  },
  {
   "cell_type": "code",
   "metadata": {
    "cell_id": "00023-74fc6464-5532-4789-84eb-8a293da393dc",
    "deepnote_cell_type": "code"
   },
   "source": "instances = [{'city': 'New York'},{'city': 'San Francisco'},{'city': 'Chapel Hill'}]\nprint (onehot_encoder.fit_transform(instances).toarray())\nprint(onehot_encoder.vocabulary_)",
   "execution_count": null,
   "outputs": []
  },
  {
   "cell_type": "markdown",
   "source": "<a style='text-decoration:none;line-height:16px;display:flex;color:#5B5B62;padding:10px;justify-content:end;' href='https://deepnote.com?utm_source=created-in-deepnote-cell&projectId=486c3042-68b8-438c-a156-48d94106b4cb' target=\"_blank\">\n<img alt='Created in deepnote.com' style='display:inline;max-height:16px;margin:0px;margin-right:7.5px;' src='data:image/svg+xml;base64,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' > </img>\nCreated in <span style='font-weight:600;margin-left:4px;'>Deepnote</span></a>",
   "metadata": {
    "tags": [],
    "created_in_deepnote_cell": true,
    "deepnote_cell_type": "markdown"
   }
  }
 ],
 "nbformat": 4,
 "nbformat_minor": 2,
 "metadata": {
  "kernelspec": {
   "display_name": "Python 3",
   "language": "python",
   "name": "python3"
  },
  "language_info": {
   "codemirror_mode": {
    "name": "ipython",
    "version": 3
   },
   "file_extension": ".py",
   "mimetype": "text/x-python",
   "name": "python",
   "nbconvert_exporter": "python",
   "pygments_lexer": "ipython3",
   "version": "3.7.3"
  },
  "deepnote_notebook_id": "03833ed4-4744-4f72-b7e6-71f99315fe27",
  "deepnote": {},
  "deepnote_execution_queue": []
 }
}