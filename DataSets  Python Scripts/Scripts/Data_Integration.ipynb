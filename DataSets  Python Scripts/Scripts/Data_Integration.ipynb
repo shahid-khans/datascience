{
 "cells": [
  {
   "cell_type": "markdown",
   "source": "# Problem Statement\n\n\nThe datasets contains the box office collection and social media promotion information about the movies released in 2013 – 2015 period. \nFollowing is the information about the columns (names can vary):\n- Movie Id\n- Release date of movie\n- Name of the movie\n- Release time of movie like Long Weekend (3), Festive Season (1), Holiday Season (2), and Normal (4)\n- Genre of movie like Romance, Thriller, Action, comedy etc.\n- Budget of movie in crores\n- Box office collection of movie in crore\n- YouTube views of movies trailers\n- YouTube likes for the movie trailers\n- YouTube dislikes for the movie trailers\n- YouTube LikesDislikes",
   "metadata": {
    "cell_id": "00000-d791e3dc-eb14-44d0-9147-f4eb4fed0f52",
    "deepnote_cell_type": "markdown"
   }
  },
  {
   "cell_type": "code",
   "metadata": {
    "cell_id": "00001-c81d6f24-ca6f-4bf5-92a9-af28174e4452",
    "deepnote_to_be_reexecuted": false,
    "source_hash": "f5cba36e",
    "execution_start": 1619846721909,
    "execution_millis": 1,
    "deepnote_cell_type": "code"
   },
   "source": "import pandas as pd\ndf1 = pd.read_csv(\"/work/DataSets  Python Scripts/movies-1.csv\")\ndf2 = pd.read_csv(\"/work/DataSets  Python Scripts/movies-2.csv\")",
   "execution_count": null,
   "outputs": []
  },
  {
   "cell_type": "code",
   "metadata": {
    "cell_id": "00002-4c10d336-7539-40aa-b69b-a7a317e8ae68",
    "deepnote_cell_type": "code"
   },
   "source": "df1.head()",
   "execution_count": null,
   "outputs": [
    {
     "data": {
      "text/html": "<div>\n<style scoped>\n    .dataframe tbody tr th:only-of-type {\n        vertical-align: middle;\n    }\n\n    .dataframe tbody tr th {\n        vertical-align: top;\n    }\n\n    .dataframe thead th {\n        text-align: right;\n    }\n</style>\n<table border=\"1\" class=\"dataframe\">\n  <thead>\n    <tr style=\"text-align: right;\">\n      <th></th>\n      <th>No</th>\n      <th>RelDate</th>\n      <th>MovieName</th>\n      <th>ReleaseTime</th>\n      <th>Genre</th>\n      <th>Budget</th>\n      <th>BoxOfficeCollection</th>\n      <th>YoutubeViews</th>\n      <th>YoutubeLikes</th>\n      <th>YoutubeDislikes</th>\n      <th>YoutubeLikeDislikes</th>\n    </tr>\n  </thead>\n  <tbody>\n    <tr>\n      <th>0</th>\n      <td>1</td>\n      <td>Apr-18-2014</td>\n      <td>2 States</td>\n      <td>3</td>\n      <td>RomanceGenre</td>\n      <td>36Cr</td>\n      <td>104</td>\n      <td>8576361</td>\n      <td>26622.0</td>\n      <td>2527.0</td>\n      <td>29149</td>\n    </tr>\n    <tr>\n      <th>1</th>\n      <td>2</td>\n      <td>Jan-4-2013</td>\n      <td>Table No. 21</td>\n      <td>4</td>\n      <td>Thriller</td>\n      <td>Cr10</td>\n      <td>12</td>\n      <td>1087320</td>\n      <td>1129.0</td>\n      <td>137.0</td>\n      <td>1266</td>\n    </tr>\n    <tr>\n      <th>2</th>\n      <td>3</td>\n      <td>Jul-18-2014</td>\n      <td>Amit Sahni Ki List</td>\n      <td>4</td>\n      <td>ComedyGenre</td>\n      <td>10Cr</td>\n      <td>4</td>\n      <td>572336</td>\n      <td>586.0</td>\n      <td>54.0</td>\n      <td>640</td>\n    </tr>\n    <tr>\n      <th>3</th>\n      <td>4</td>\n      <td>Jan-4-2013</td>\n      <td>Rajdhani Express</td>\n      <td>4</td>\n      <td>DramaGenre</td>\n      <td>7Cr</td>\n      <td>383</td>\n      <td>42626</td>\n      <td>86.0</td>\n      <td>19.0</td>\n      <td>105</td>\n    </tr>\n    <tr>\n      <th>4</th>\n      <td>5</td>\n      <td>Jul-4-2014</td>\n      <td>Bobby Jasoos</td>\n      <td>44</td>\n      <td>ComedyGenre</td>\n      <td>18Cr</td>\n      <td>10.8</td>\n      <td>3113427</td>\n      <td>4512.0</td>\n      <td>1224.0</td>\n      <td>5736</td>\n    </tr>\n  </tbody>\n</table>\n</div>",
      "text/plain": "   No      RelDate           MovieName  ReleaseTime         Genre Budget  \\\n0   1  Apr-18-2014            2 States            3  RomanceGenre   36Cr   \n1   2   Jan-4-2013        Table No. 21            4     Thriller    Cr10   \n2   3  Jul-18-2014  Amit Sahni Ki List            4   ComedyGenre   10Cr   \n3   4   Jan-4-2013    Rajdhani Express            4    DramaGenre    7Cr   \n4   5   Jul-4-2014        Bobby Jasoos           44   ComedyGenre   18Cr   \n\n  BoxOfficeCollection  YoutubeViews  YoutubeLikes  YoutubeDislikes  \\\n0                 104       8576361       26622.0           2527.0   \n1                  12       1087320        1129.0            137.0   \n2                   4        572336         586.0             54.0   \n3                 383         42626          86.0             19.0   \n4                10.8       3113427        4512.0           1224.0   \n\n   YoutubeLikeDislikes  \n0                29149  \n1                 1266  \n2                  640  \n3                  105  \n4                 5736  "
     },
     "execution_count": 2,
     "metadata": {},
     "output_type": "execute_result"
    }
   ]
  },
  {
   "cell_type": "code",
   "metadata": {
    "cell_id": "00003-7734b220-cca0-43c0-aac1-5850407c7301",
    "deepnote_cell_type": "code"
   },
   "source": "df2.head()",
   "execution_count": null,
   "outputs": [
    {
     "data": {
      "text/html": "<div>\n<style scoped>\n    .dataframe tbody tr th:only-of-type {\n        vertical-align: middle;\n    }\n\n    .dataframe tbody tr th {\n        vertical-align: top;\n    }\n\n    .dataframe thead th {\n        text-align: right;\n    }\n</style>\n<table border=\"1\" class=\"dataframe\">\n  <thead>\n    <tr style=\"text-align: right;\">\n      <th></th>\n      <th>Movie_ID</th>\n      <th>Release_Date</th>\n      <th>Movie_Name</th>\n      <th>Release_Time</th>\n      <th>Genre</th>\n      <th>BudgetCr</th>\n      <th>BoxOfficeCollectionCr</th>\n      <th>Youtube_Views</th>\n      <th>Youtube_Likes</th>\n      <th>Youtube_Dislikes</th>\n    </tr>\n  </thead>\n  <tbody>\n    <tr>\n      <th>0</th>\n      <td>51</td>\n      <td>4-Jul-14</td>\n      <td>Lekar Hum Deewana Dil</td>\n      <td>N</td>\n      <td>Romance</td>\n      <td>16</td>\n      <td>2.50</td>\n      <td>3998331</td>\n      <td>2307</td>\n      <td>497</td>\n    </tr>\n    <tr>\n      <th>1</th>\n      <td>52</td>\n      <td>22-Mar-13</td>\n      <td>Aatma</td>\n      <td>N</td>\n      <td>Thriller</td>\n      <td>8</td>\n      <td>8.78</td>\n      <td>841891</td>\n      <td>997</td>\n      <td>306</td>\n    </tr>\n    <tr>\n      <th>2</th>\n      <td>53</td>\n      <td>4-Apr-14</td>\n      <td>Main Tera Hero</td>\n      <td>LW</td>\n      <td>Comedy</td>\n      <td>40</td>\n      <td>55.00</td>\n      <td>4903941</td>\n      <td>12657</td>\n      <td>2139</td>\n    </tr>\n    <tr>\n      <th>3</th>\n      <td>54</td>\n      <td>22-Mar-13</td>\n      <td>Sona Spa</td>\n      <td>N</td>\n      <td>Thriller</td>\n      <td>10</td>\n      <td>0.24</td>\n      <td>79430</td>\n      <td>61</td>\n      <td>112</td>\n    </tr>\n    <tr>\n      <th>4</th>\n      <td>55</td>\n      <td>29-Mar-13</td>\n      <td>Himmatwala</td>\n      <td>N</td>\n      <td>Action</td>\n      <td>50</td>\n      <td>100.00</td>\n      <td>2501277</td>\n      <td>1</td>\n      <td>1</td>\n    </tr>\n  </tbody>\n</table>\n</div>",
      "text/plain": "   Movie_ID Release_Date             Movie_Name Release_Time     Genre  \\\n0        51     4-Jul-14  Lekar Hum Deewana Dil            N   Romance   \n1        52    22-Mar-13                  Aatma            N  Thriller   \n2        53     4-Apr-14         Main Tera Hero           LW    Comedy   \n3        54    22-Mar-13               Sona Spa            N  Thriller   \n4        55    29-Mar-13             Himmatwala            N    Action   \n\n   BudgetCr  BoxOfficeCollectionCr  Youtube_Views  Youtube_Likes  \\\n0        16                   2.50        3998331           2307   \n1         8                   8.78         841891            997   \n2        40                  55.00        4903941          12657   \n3        10                   0.24          79430             61   \n4        50                 100.00        2501277              1   \n\n   Youtube_Dislikes  \n0               497  \n1               306  \n2              2139  \n3               112  \n4                 1  "
     },
     "execution_count": 10,
     "metadata": {},
     "output_type": "execute_result"
    }
   ]
  },
  {
   "cell_type": "markdown",
   "source": "**As the name of columns for both the datasets are different we need to make it similiar**",
   "metadata": {
    "cell_id": "00004-5a7987fa-3c47-4749-8651-fea5faf1854e",
    "deepnote_cell_type": "markdown"
   }
  },
  {
   "cell_type": "code",
   "metadata": {
    "cell_id": "00005-fa9e711b-047e-4997-8685-9c5ad11acc29",
    "deepnote_cell_type": "code"
   },
   "source": "df1.rename(columns={'No': 'Movie_ID',\n                    'RelDate': 'Release_Date',\n                    'MovieName': 'Movie_Name',\n                    'ReleaseTime': 'Release_Time',\n                    'Budget': 'BudgetCr',\n                    'BoxOfficeCollection': 'BoxOfficeCollectionCr',\n                    'YoutubeViews': 'Youtube_Views',\n                    'YoutubeLikes': 'Youtube_Likes',\n                    'YoutubeDislikes': 'Youtube_Dislikes'},inplace=True)",
   "execution_count": null,
   "outputs": []
  },
  {
   "cell_type": "code",
   "metadata": {
    "cell_id": "00006-1659f2d1-6657-4827-8dc2-1bc279ab16fa",
    "deepnote_cell_type": "code"
   },
   "source": "df1.head()",
   "execution_count": null,
   "outputs": [
    {
     "data": {
      "text/html": "<div>\n<style scoped>\n    .dataframe tbody tr th:only-of-type {\n        vertical-align: middle;\n    }\n\n    .dataframe tbody tr th {\n        vertical-align: top;\n    }\n\n    .dataframe thead th {\n        text-align: right;\n    }\n</style>\n<table border=\"1\" class=\"dataframe\">\n  <thead>\n    <tr style=\"text-align: right;\">\n      <th></th>\n      <th>Movie_ID</th>\n      <th>Release_Date</th>\n      <th>Movie_Name</th>\n      <th>Release_Time</th>\n      <th>Genre</th>\n      <th>BudgetCr</th>\n      <th>BoxOfficeCollectionCr</th>\n      <th>Youtube_Views</th>\n      <th>Youtube_Likes</th>\n      <th>Youtube_Dislikes</th>\n      <th>YoutubeLikeDislikes</th>\n    </tr>\n  </thead>\n  <tbody>\n    <tr>\n      <th>0</th>\n      <td>1</td>\n      <td>Apr-18-2014</td>\n      <td>2 States</td>\n      <td>3</td>\n      <td>RomanceGenre</td>\n      <td>36Cr</td>\n      <td>104</td>\n      <td>8576361</td>\n      <td>26622.0</td>\n      <td>2527.0</td>\n      <td>29149</td>\n    </tr>\n    <tr>\n      <th>1</th>\n      <td>2</td>\n      <td>Jan-4-2013</td>\n      <td>Table No. 21</td>\n      <td>4</td>\n      <td>Thriller</td>\n      <td>Cr10</td>\n      <td>12</td>\n      <td>1087320</td>\n      <td>1129.0</td>\n      <td>137.0</td>\n      <td>1266</td>\n    </tr>\n    <tr>\n      <th>2</th>\n      <td>3</td>\n      <td>Jul-18-2014</td>\n      <td>Amit Sahni Ki List</td>\n      <td>4</td>\n      <td>ComedyGenre</td>\n      <td>10Cr</td>\n      <td>4</td>\n      <td>572336</td>\n      <td>586.0</td>\n      <td>54.0</td>\n      <td>640</td>\n    </tr>\n    <tr>\n      <th>3</th>\n      <td>4</td>\n      <td>Jan-4-2013</td>\n      <td>Rajdhani Express</td>\n      <td>4</td>\n      <td>DramaGenre</td>\n      <td>7Cr</td>\n      <td>383</td>\n      <td>42626</td>\n      <td>86.0</td>\n      <td>19.0</td>\n      <td>105</td>\n    </tr>\n    <tr>\n      <th>4</th>\n      <td>5</td>\n      <td>Jul-4-2014</td>\n      <td>Bobby Jasoos</td>\n      <td>44</td>\n      <td>ComedyGenre</td>\n      <td>18Cr</td>\n      <td>10.8</td>\n      <td>3113427</td>\n      <td>4512.0</td>\n      <td>1224.0</td>\n      <td>5736</td>\n    </tr>\n  </tbody>\n</table>\n</div>",
      "text/plain": "   Movie_ID Release_Date          Movie_Name  Release_Time         Genre  \\\n0         1  Apr-18-2014            2 States             3  RomanceGenre   \n1         2   Jan-4-2013        Table No. 21             4     Thriller    \n2         3  Jul-18-2014  Amit Sahni Ki List             4   ComedyGenre   \n3         4   Jan-4-2013    Rajdhani Express             4    DramaGenre   \n4         5   Jul-4-2014        Bobby Jasoos            44   ComedyGenre   \n\n  BudgetCr BoxOfficeCollectionCr  Youtube_Views  Youtube_Likes  \\\n0     36Cr                   104        8576361        26622.0   \n1     Cr10                    12        1087320         1129.0   \n2     10Cr                     4         572336          586.0   \n3      7Cr                   383          42626           86.0   \n4     18Cr                  10.8        3113427         4512.0   \n\n   Youtube_Dislikes  YoutubeLikeDislikes  \n0            2527.0                29149  \n1             137.0                 1266  \n2              54.0                  640  \n3              19.0                  105  \n4            1224.0                 5736  "
     },
     "execution_count": 14,
     "metadata": {},
     "output_type": "execute_result"
    }
   ]
  },
  {
   "cell_type": "markdown",
   "source": "2. df2 has a missing column: YoutubeLikeDislikes\n   \n    * Create this missing columns otherwise the 2 datasets would be of different size and they would not merge\n    ",
   "metadata": {
    "cell_id": "00007-72e8167d-7cac-4b5b-8700-6a12a843a68f",
    "deepnote_cell_type": "markdown"
   }
  },
  {
   "cell_type": "code",
   "metadata": {
    "cell_id": "00008-bdd4a717-6eec-4238-a80b-ad1464c5964d",
    "deepnote_cell_type": "code"
   },
   "source": "df2['YoutubeLikeDislikes'] = df2['Youtube_Likes'] + df2['Youtube_Dislikes']\ndf2.head()",
   "execution_count": null,
   "outputs": [
    {
     "data": {
      "text/html": "<div>\n<style scoped>\n    .dataframe tbody tr th:only-of-type {\n        vertical-align: middle;\n    }\n\n    .dataframe tbody tr th {\n        vertical-align: top;\n    }\n\n    .dataframe thead th {\n        text-align: right;\n    }\n</style>\n<table border=\"1\" class=\"dataframe\">\n  <thead>\n    <tr style=\"text-align: right;\">\n      <th></th>\n      <th>Movie_ID</th>\n      <th>Release_Date</th>\n      <th>Movie_Name</th>\n      <th>Release_Time</th>\n      <th>Genre</th>\n      <th>BudgetCr</th>\n      <th>BoxOfficeCollectionCr</th>\n      <th>Youtube_Views</th>\n      <th>Youtube_Likes</th>\n      <th>Youtube_Dislikes</th>\n      <th>YoutubeLikeDislikes</th>\n    </tr>\n  </thead>\n  <tbody>\n    <tr>\n      <th>0</th>\n      <td>51</td>\n      <td>4-Jul-14</td>\n      <td>Lekar Hum Deewana Dil</td>\n      <td>N</td>\n      <td>Romance</td>\n      <td>16</td>\n      <td>2.50</td>\n      <td>3998331</td>\n      <td>2307</td>\n      <td>497</td>\n      <td>2804</td>\n    </tr>\n    <tr>\n      <th>1</th>\n      <td>52</td>\n      <td>22-Mar-13</td>\n      <td>Aatma</td>\n      <td>N</td>\n      <td>Thriller</td>\n      <td>8</td>\n      <td>8.78</td>\n      <td>841891</td>\n      <td>997</td>\n      <td>306</td>\n      <td>1303</td>\n    </tr>\n    <tr>\n      <th>2</th>\n      <td>53</td>\n      <td>4-Apr-14</td>\n      <td>Main Tera Hero</td>\n      <td>LW</td>\n      <td>Comedy</td>\n      <td>40</td>\n      <td>55.00</td>\n      <td>4903941</td>\n      <td>12657</td>\n      <td>2139</td>\n      <td>14796</td>\n    </tr>\n    <tr>\n      <th>3</th>\n      <td>54</td>\n      <td>22-Mar-13</td>\n      <td>Sona Spa</td>\n      <td>N</td>\n      <td>Thriller</td>\n      <td>10</td>\n      <td>0.24</td>\n      <td>79430</td>\n      <td>61</td>\n      <td>112</td>\n      <td>173</td>\n    </tr>\n    <tr>\n      <th>4</th>\n      <td>55</td>\n      <td>29-Mar-13</td>\n      <td>Himmatwala</td>\n      <td>N</td>\n      <td>Action</td>\n      <td>50</td>\n      <td>100.00</td>\n      <td>2501277</td>\n      <td>1</td>\n      <td>1</td>\n      <td>2</td>\n    </tr>\n  </tbody>\n</table>\n</div>",
      "text/plain": "   Movie_ID Release_Date             Movie_Name Release_Time     Genre  \\\n0        51     4-Jul-14  Lekar Hum Deewana Dil            N   Romance   \n1        52    22-Mar-13                  Aatma            N  Thriller   \n2        53     4-Apr-14         Main Tera Hero           LW    Comedy   \n3        54    22-Mar-13               Sona Spa            N  Thriller   \n4        55    29-Mar-13             Himmatwala            N    Action   \n\n   BudgetCr  BoxOfficeCollectionCr  Youtube_Views  Youtube_Likes  \\\n0        16                   2.50        3998331           2307   \n1         8                   8.78         841891            997   \n2        40                  55.00        4903941          12657   \n3        10                   0.24          79430             61   \n4        50                 100.00        2501277              1   \n\n   Youtube_Dislikes  YoutubeLikeDislikes  \n0               497                 2804  \n1               306                 1303  \n2              2139                14796  \n3               112                  173  \n4                 1                    2  "
     },
     "execution_count": 16,
     "metadata": {},
     "output_type": "execute_result"
    }
   ]
  },
  {
   "cell_type": "markdown",
   "source": "Checking for unique data values\n- Lets try to bring all the data values of the different columns into the same format. \n\n- A lot of preprocessing needs to be done in order to bring this commanality into the data values.",
   "metadata": {
    "cell_id": "00009-4aa5f0ce-0228-42c9-b09d-bbf65bcff398",
    "deepnote_cell_type": "markdown"
   }
  },
  {
   "cell_type": "code",
   "metadata": {
    "cell_id": "00010-be556985-355d-4974-ab6e-529024128730",
    "deepnote_cell_type": "code"
   },
   "source": "#For df1\n\ncols = ['Release_Date','Release_Time','Genre','BudgetCr', 'BoxOfficeCollectionCr']\n\nfor col in cols:\n    print(col, df1[col].unique())\n    print(\"------------------------------\")\n\n",
   "execution_count": null,
   "outputs": [
    {
     "name": "stdout",
     "output_type": "stream",
     "text": "Release_Date ['Apr-18-2014' 'Jan-4-2013' 'Jul-18-2014' 'Jul-4-2014' 'May-30-2014'\n 'Sqp-19-2014' 'Jan-11-2013' 'Jan-10-2014' 'Mar-28-2014' 'Jan-18-2013'\n 'Jum-27-2014' 'Aug-8-2014' 'Jan-25-2013' 'juu-6-2014' 'Sep-12-2014'\n 'Jun-13-2014' 'Feb-1-2013' 'Mar-7-2014' 'Feb-14-2014' 'Oct-2-2014'\n 'Nov-21-2014' 'Feb-8-2013' 'Oct-24-2014' 'May-9-2014' 'Feb-7-2014'\n 'Feb-15-2013' 'May-23-2014' 'Feb-22-2013' 'Feb-21-204' 'Jun-6-2014'\n 'Jul-11-2014' 'Mar-1-2013' 'Jun-20-2014' 'Mar-8-2013' 'Jan-24-2014'\n 'Sep-19-2014' 'Jul-25-2014' 'Mar-15-2013' 'Nov-14-2014' 'May-09-2014'\n 'May-2-2014' 'Jul-7-2014']\n------------------------------\nRelease_Time [ 3  4 44  2  1]\n------------------------------\nGenre ['RomanceGenre' 'Thriller ' 'ComedyGenre' ' DramaGenre' 'ActionGenre'\n 'Action ' 'Thriller' ' Drama ']\n------------------------------\nBudgetCr ['36Cr' 'Cr10' '10Cr' '7Cr' '18Cr' '30Cr' '33Cr' '31Cr' '2Cr' '28Cr' '5Cr'\n '35Cr' '4Cr' '60Cr' 'Cr60' '15Cr' '27Cr' '50Cr' '24Cr' '48Cr' '42Cr'\n '125Cr' '12Cr' '11Cr' '21Cr' '20Cr' 'Cr30' '75Cr' '120Cr' '100Cr' 'Cr5'\n '8Cr' '16Cr']\n------------------------------\nBoxOfficeCollectionCr ['104' '12' '4' '383' '10.8' '35' '24.6' '40' '27' 'Cr0.01' '6' '10.25'\n '105.5' '1.8' '163' 'Cr0.09' '162' '58.9' '12.6' '3.65' '14.3' '76.7'\n '69' '21.5' '103' '44' '27.16' '10' '1.5' '25' '65' '62.2' '27.25' '16'\n '129' '130' '32' '63.7' '22' '111' '39.4' '377' '5.82' '36' '11' '32.7'\n '2' 'Cr0.5' '2.5']\n------------------------------\n"
    }
   ]
  },
  {
   "cell_type": "code",
   "metadata": {
    "cell_id": "00011-c9c22937-a09b-4de8-8a79-2b8158f382bf",
    "deepnote_cell_type": "code"
   },
   "source": "#For df2\n\ncols = ['Release_Date','Release_Time','Genre','BudgetCr', 'BoxOfficeCollectionCr']\n\nfor col in cols:\n    print(col, df2[col].unique())\n    print(\"------------------------------\")\n\n",
   "execution_count": null,
   "outputs": [
    {
     "name": "stdout",
     "output_type": "stream",
     "text": "Release_Date ['4-Jul-14' '22-Mar-13' '4-Apr-14' '29-Mar-13' '9-May-14' '22-Aug-14'\n '5-Apr-13' '5-Sep-14' '12-Apr-13' '19-Apr-13' '17-Jan-14' '26-Apr-13'\n '28-Mar-14' '31-Jan-14' '2-May-14' '3-May-13' '7-Mar-14' '21-Mar-14'\n '10-May-13' '29-Aug-14' '25-Apr-14' '28-Feb-14' '17-May-13' '3-Jan-14'\n '15-Aug-14' '7-Nov-14' '24-May-13' '28-Nov-14' '31-May-13' '10-Jan-14'\n '7-Jun-13' '14-Jun-13' '19-Dec-14' '21-Jun-13' '5-Dec-14' '2-Oct-14'\n '12-Sep-14' '28-Jun-13' '2-Oct-13' '5-Jul-13' '18-Jul-14' '16-May-14'\n '12-Jul-13' '19-Jul-13' '14-Mar-14' '21-Feb-14' '26-Jul-13' '7-Feb-14'\n '11-Apr-14' '9-Aug-13' '15-Aug-13' '23-Aug-13' '30-Aug-13' '1-Nov-13'\n '8-Nov-13' '15-Nov-13' '22-Nov-13' '29-Nov-13' '11-Oct-13' '16-Oct-13'\n '18-Oct-13' '25-Oct-13' '6-Sep-13' '13-Sep-13' '20-Sep-13' '9-Jan-15'\n '16-Jan-15' '23-Jan-15' '30-Jan-15' '6-Feb-15' '13-Feb-15' '20-Feb-15'\n '27-Feb-15' '13-Mar-15' '20-Mar-15' '23-May-14']\n------------------------------\nRelease_Time ['N' 'LW' 'HS' 'FS']\n------------------------------\nGenre ['Romance' 'Thriller' 'Comedy' 'Action' ' Drama ']\n------------------------------\nBudgetCr [ 16   8  40  10  50   3  15  20   9   2  22  24   5  12  21  45  25   6\n  18  35  90  70  19  26  85 140  30  27  31   4  29  75 100 115  14  11\n  60  23  13  32 150]\n------------------------------\nBoxOfficeCollectionCr [2.500e+00 8.780e+00 5.500e+01 2.400e-01 1.000e+02 1.750e+00 3.600e+01\n 4.200e+01 1.040e+02 2.150e+01 3.000e+00 2.100e+01 4.500e+01 7.000e-01\n 1.100e+02 3.750e+00 1.100e+00 7.500e+01 6.100e+01 1.430e+01 5.000e+01\n 2.820e+01 2.960e+01 1.000e+01 3.780e+01 2.300e+01 1.100e+01 2.000e+02\n 3.250e+01 2.130e+00 1.380e+01 3.110e+02 4.000e+01 2.000e+00 6.750e+00\n 3.620e+01 1.405e+01 7.350e+02 5.745e+01 3.400e+02 2.580e+00 2.000e+01\n 3.800e+01 3.500e+01 2.800e+01 4.350e+00 2.900e+01 1.680e+01 1.640e+02\n 4.000e+00 5.900e+00 3.000e+01 1.400e+01 2.400e+01 4.500e+00 5.000e+00\n 3.550e+01 8.000e+00 5.300e+01 3.950e+02 8.000e+01 4.270e+01 6.000e+01\n 3.000e+02 1.200e+01 1.265e+01 7.500e+00 1.500e+00 6.000e+00 1.820e+01\n 2.980e+02 2.200e+01 3.400e+01 8.500e+01 5.600e+01 2.500e+01 1.250e+02\n 3.025e+01 1.402e+01 5.800e+01 7.700e+01 3.210e+01 1.189e+01 1.200e+02]\n------------------------------\n"
    }
   ]
  },
  {
   "cell_type": "code",
   "metadata": {
    "cell_id": "00012-6a089335-f349-4f6b-b52a-076b8868c4fe",
    "deepnote_cell_type": "code"
   },
   "source": "# Correct Spelling mistakes for month names in df1-Release_Date\n\ndf1['Release_Date'] = df1['Release_Date'].str.replace(r'Sqp', 'Sep')\ndf1['Release_Date'] = df1['Release_Date'].str.replace(r'Jum', 'Jun')\ndf1['Release_Date'] = df1['Release_Date'].str.replace(r'juu', 'Jun')\ndf1['Release_Date'] = df1['Release_Date'].str.replace(r'Feb-21-204', 'Feb-21-2014')",
   "execution_count": null,
   "outputs": []
  },
  {
   "cell_type": "code",
   "metadata": {
    "cell_id": "00013-19e12063-e949-4e16-aaa1-f5cbe341e345",
    "deepnote_cell_type": "code"
   },
   "source": "# Standardize the 'Release_Time' for both datasets\n\ndf1['Release_Time'].replace({44: 4},inplace=True)\ndf2['Release_Time'].replace({\"N\": 4, \"LW\": 3, \"HS\":2, \"FS\":1},inplace=True)",
   "execution_count": null,
   "outputs": []
  },
  {
   "cell_type": "code",
   "metadata": {
    "cell_id": "00014-8589e5be-6d68-4d8f-9dd1-18290c2cc9bc",
    "deepnote_cell_type": "code"
   },
   "source": "# Standardize Genre Column\n\ndf1['Genre'] = df1['Genre'].str.replace(r'Genre', '')\ndf1['Genre'] = df1['Genre'].str.replace(r'Thriller ', 'Thriller')\ndf1['Genre'] = df1['Genre'].str.replace(r' Drama', 'Drama')\ndf1['Genre'] = df1['Genre'].str.replace(r'Drama ', 'Drama')\ndf1['Genre'] = df1['Genre'].str.replace(r'Action ', 'Action')\n\ndf2['Genre'] = df2['Genre'].str.replace(r'Drama ', 'Drama')",
   "execution_count": null,
   "outputs": []
  },
  {
   "cell_type": "code",
   "metadata": {
    "cell_id": "00015-645b0e8d-1004-4b3d-b359-9c376421ac58",
    "deepnote_cell_type": "code"
   },
   "source": "# Budget and box office collection are numeric columns, Hence the value cr should be removed before converting it to integer\n\ndf1['BudgetCr'] = df1['BudgetCr'].str.strip('Cr')\n\ndf1['BoxOfficeCollectionCr'] = df1['BoxOfficeCollectionCr'].str.strip('Cr')\n",
   "execution_count": null,
   "outputs": []
  },
  {
   "cell_type": "code",
   "metadata": {
    "cell_id": "00016-1960c81f-b7eb-4c42-bf5a-99dd39e7b576",
    "deepnote_cell_type": "code"
   },
   "source": "#For df1\n\ncols = ['Release_Date','Release_Time','Genre','BudgetCr', 'BoxOfficeCollectionCr']\n\nfor col in cols:\n    print(col, df1[col].unique())\n    print(\"------------------------------\")\n\n",
   "execution_count": null,
   "outputs": [
    {
     "name": "stdout",
     "output_type": "stream",
     "text": "Release_Date ['Apr-18-2014' 'Jan-4-2013' 'Jul-18-2014' 'Jul-4-2014' 'May-30-2014'\n 'Sep-19-2014' 'Jan-11-2013' 'Jan-10-2014' 'Mar-28-2014' 'Jan-18-2013'\n 'Jun-27-2014' 'Aug-8-2014' 'Jan-25-2013' 'Jun-6-2014' 'Sep-12-2014'\n 'Jun-13-2014' 'Feb-1-2013' 'Mar-7-2014' 'Feb-14-2014' 'Oct-2-2014'\n 'Nov-21-2014' 'Feb-8-2013' 'Oct-24-2014' 'May-9-2014' 'Feb-7-2014'\n 'Feb-15-2013' 'May-23-2014' 'Feb-22-2013' 'Feb-21-2014' 'Jul-11-2014'\n 'Mar-1-2013' 'Jun-20-2014' 'Mar-8-2013' 'Jan-24-2014' 'Jul-25-2014'\n 'Mar-15-2013' 'Nov-14-2014' 'May-09-2014' 'May-2-2014' 'Jul-7-2014']\n------------------------------\nRelease_Time [3 4 2 1]\n------------------------------\nGenre ['Romance' 'Thriller' 'Comedy' 'Drama' 'Action']\n------------------------------\nBudgetCr ['36' '10' '7' '18' '30' '33' '31' '2' '28' '5' '35' '4' '60' '15' '27'\n '50' '24' '48' '42' '125' '12' '11' '21' '20' '75' '120' '100' '8' '16']\n------------------------------\nBoxOfficeCollectionCr ['104' '12' '4' '383' '10.8' '35' '24.6' '40' '27' '0.01' '6' '10.25'\n '105.5' '1.8' '163' '0.09' '162' '58.9' '12.6' '3.65' '14.3' '76.7' '69'\n '21.5' '103' '44' '27.16' '10' '1.5' '25' '65' '62.2' '27.25' '16' '129'\n '130' '32' '63.7' '22' '111' '39.4' '377' '5.82' '36' '11' '32.7' '2'\n '0.5' '2.5']\n------------------------------\n"
    }
   ]
  },
  {
   "cell_type": "code",
   "metadata": {
    "cell_id": "00017-58186b86-bcea-4dd7-816d-7c68edc01636",
    "deepnote_cell_type": "code"
   },
   "source": "#For df2\n\ncols = ['Release_Date','Release_Time','Genre','BudgetCr', 'BoxOfficeCollectionCr']\n\nfor col in cols:\n    print(col, df2[col].unique())\n    print(\"------------------------------\")\n\n",
   "execution_count": null,
   "outputs": [
    {
     "name": "stdout",
     "output_type": "stream",
     "text": "Release_Date ['4-Jul-14' '22-Mar-13' '4-Apr-14' '29-Mar-13' '9-May-14' '22-Aug-14'\n '5-Apr-13' '5-Sep-14' '12-Apr-13' '19-Apr-13' '17-Jan-14' '26-Apr-13'\n '28-Mar-14' '31-Jan-14' '2-May-14' '3-May-13' '7-Mar-14' '21-Mar-14'\n '10-May-13' '29-Aug-14' '25-Apr-14' '28-Feb-14' '17-May-13' '3-Jan-14'\n '15-Aug-14' '7-Nov-14' '24-May-13' '28-Nov-14' '31-May-13' '10-Jan-14'\n '7-Jun-13' '14-Jun-13' '19-Dec-14' '21-Jun-13' '5-Dec-14' '2-Oct-14'\n '12-Sep-14' '28-Jun-13' '2-Oct-13' '5-Jul-13' '18-Jul-14' '16-May-14'\n '12-Jul-13' '19-Jul-13' '14-Mar-14' '21-Feb-14' '26-Jul-13' '7-Feb-14'\n '11-Apr-14' '9-Aug-13' '15-Aug-13' '23-Aug-13' '30-Aug-13' '1-Nov-13'\n '8-Nov-13' '15-Nov-13' '22-Nov-13' '29-Nov-13' '11-Oct-13' '16-Oct-13'\n '18-Oct-13' '25-Oct-13' '6-Sep-13' '13-Sep-13' '20-Sep-13' '9-Jan-15'\n '16-Jan-15' '23-Jan-15' '30-Jan-15' '6-Feb-15' '13-Feb-15' '20-Feb-15'\n '27-Feb-15' '13-Mar-15' '20-Mar-15' '23-May-14']\n------------------------------\nRelease_Time [4 3 2 1]\n------------------------------\nGenre ['Romance' 'Thriller' 'Comedy' 'Action' ' Drama']\n------------------------------\nBudgetCr [ 16   8  40  10  50   3  15  20   9   2  22  24   5  12  21  45  25   6\n  18  35  90  70  19  26  85 140  30  27  31   4  29  75 100 115  14  11\n  60  23  13  32 150]\n------------------------------\nBoxOfficeCollectionCr [2.500e+00 8.780e+00 5.500e+01 2.400e-01 1.000e+02 1.750e+00 3.600e+01\n 4.200e+01 1.040e+02 2.150e+01 3.000e+00 2.100e+01 4.500e+01 7.000e-01\n 1.100e+02 3.750e+00 1.100e+00 7.500e+01 6.100e+01 1.430e+01 5.000e+01\n 2.820e+01 2.960e+01 1.000e+01 3.780e+01 2.300e+01 1.100e+01 2.000e+02\n 3.250e+01 2.130e+00 1.380e+01 3.110e+02 4.000e+01 2.000e+00 6.750e+00\n 3.620e+01 1.405e+01 7.350e+02 5.745e+01 3.400e+02 2.580e+00 2.000e+01\n 3.800e+01 3.500e+01 2.800e+01 4.350e+00 2.900e+01 1.680e+01 1.640e+02\n 4.000e+00 5.900e+00 3.000e+01 1.400e+01 2.400e+01 4.500e+00 5.000e+00\n 3.550e+01 8.000e+00 5.300e+01 3.950e+02 8.000e+01 4.270e+01 6.000e+01\n 3.000e+02 1.200e+01 1.265e+01 7.500e+00 1.500e+00 6.000e+00 1.820e+01\n 2.980e+02 2.200e+01 3.400e+01 8.500e+01 5.600e+01 2.500e+01 1.250e+02\n 3.025e+01 1.402e+01 5.800e+01 7.700e+01 3.210e+01 1.189e+01 1.200e+02]\n------------------------------\n"
    }
   ]
  },
  {
   "cell_type": "markdown",
   "source": "Merge two datasets for further analysis",
   "metadata": {
    "cell_id": "00018-f4ba0875-7bf8-4bdd-bb3e-8a086466221e",
    "deepnote_cell_type": "markdown"
   }
  },
  {
   "cell_type": "code",
   "metadata": {
    "cell_id": "00019-04b40820-45f3-4db1-b8c5-948993b1b9c6",
    "deepnote_cell_type": "code"
   },
   "source": "df = pd.concat([df1,df2])\ndf.head()",
   "execution_count": null,
   "outputs": [
    {
     "data": {
      "text/html": "<div>\n<style scoped>\n    .dataframe tbody tr th:only-of-type {\n        vertical-align: middle;\n    }\n\n    .dataframe tbody tr th {\n        vertical-align: top;\n    }\n\n    .dataframe thead th {\n        text-align: right;\n    }\n</style>\n<table border=\"1\" class=\"dataframe\">\n  <thead>\n    <tr style=\"text-align: right;\">\n      <th></th>\n      <th>Movie_ID</th>\n      <th>Release_Date</th>\n      <th>Movie_Name</th>\n      <th>Release_Time</th>\n      <th>Genre</th>\n      <th>BudgetCr</th>\n      <th>BoxOfficeCollectionCr</th>\n      <th>Youtube_Views</th>\n      <th>Youtube_Likes</th>\n      <th>Youtube_Dislikes</th>\n      <th>YoutubeLikeDislikes</th>\n    </tr>\n  </thead>\n  <tbody>\n    <tr>\n      <th>0</th>\n      <td>1</td>\n      <td>Apr-18-2014</td>\n      <td>2 States</td>\n      <td>3</td>\n      <td>Romance</td>\n      <td>36</td>\n      <td>104</td>\n      <td>8576361</td>\n      <td>26622.0</td>\n      <td>2527.0</td>\n      <td>29149</td>\n    </tr>\n    <tr>\n      <th>1</th>\n      <td>2</td>\n      <td>Jan-4-2013</td>\n      <td>Table No. 21</td>\n      <td>4</td>\n      <td>Thriller</td>\n      <td>10</td>\n      <td>12</td>\n      <td>1087320</td>\n      <td>1129.0</td>\n      <td>137.0</td>\n      <td>1266</td>\n    </tr>\n    <tr>\n      <th>2</th>\n      <td>3</td>\n      <td>Jul-18-2014</td>\n      <td>Amit Sahni Ki List</td>\n      <td>4</td>\n      <td>Comedy</td>\n      <td>10</td>\n      <td>4</td>\n      <td>572336</td>\n      <td>586.0</td>\n      <td>54.0</td>\n      <td>640</td>\n    </tr>\n    <tr>\n      <th>3</th>\n      <td>4</td>\n      <td>Jan-4-2013</td>\n      <td>Rajdhani Express</td>\n      <td>4</td>\n      <td>Drama</td>\n      <td>7</td>\n      <td>383</td>\n      <td>42626</td>\n      <td>86.0</td>\n      <td>19.0</td>\n      <td>105</td>\n    </tr>\n    <tr>\n      <th>4</th>\n      <td>5</td>\n      <td>Jul-4-2014</td>\n      <td>Bobby Jasoos</td>\n      <td>4</td>\n      <td>Comedy</td>\n      <td>18</td>\n      <td>10.8</td>\n      <td>3113427</td>\n      <td>4512.0</td>\n      <td>1224.0</td>\n      <td>5736</td>\n    </tr>\n  </tbody>\n</table>\n</div>",
      "text/plain": "   Movie_ID Release_Date          Movie_Name  Release_Time     Genre BudgetCr  \\\n0         1  Apr-18-2014            2 States             3   Romance       36   \n1         2   Jan-4-2013        Table No. 21             4  Thriller       10   \n2         3  Jul-18-2014  Amit Sahni Ki List             4    Comedy       10   \n3         4   Jan-4-2013    Rajdhani Express             4     Drama        7   \n4         5   Jul-4-2014        Bobby Jasoos             4    Comedy       18   \n\n  BoxOfficeCollectionCr  Youtube_Views  Youtube_Likes  Youtube_Dislikes  \\\n0                   104        8576361        26622.0            2527.0   \n1                    12        1087320         1129.0             137.0   \n2                     4         572336          586.0              54.0   \n3                   383          42626           86.0              19.0   \n4                  10.8        3113427         4512.0            1224.0   \n\n   YoutubeLikeDislikes  \n0                29149  \n1                 1266  \n2                  640  \n3                  105  \n4                 5736  "
     },
     "execution_count": 26,
     "metadata": {},
     "output_type": "execute_result"
    }
   ]
  },
  {
   "cell_type": "markdown",
   "source": "**Get unique date format for both datasets**",
   "metadata": {
    "cell_id": "00020-cfbeb10d-558f-4327-8c71-fc78cd3d3ae5",
    "deepnote_cell_type": "markdown"
   }
  },
  {
   "cell_type": "code",
   "metadata": {
    "cell_id": "00021-aafcbd86-a80b-4051-b85f-b1b66d2b2b0f",
    "deepnote_cell_type": "code"
   },
   "source": "df1.Release_Date.head()",
   "execution_count": null,
   "outputs": [
    {
     "data": {
      "text/plain": "0    Apr-18-2014\n1     Jan-4-2013\n2    Jul-18-2014\n3     Jan-4-2013\n4     Jul-4-2014\nName: Release_Date, dtype: object"
     },
     "execution_count": 27,
     "metadata": {},
     "output_type": "execute_result"
    }
   ]
  },
  {
   "cell_type": "code",
   "metadata": {
    "cell_id": "00022-cfdef610-cf7f-406b-81c3-7aa0d4ddf016",
    "deepnote_cell_type": "code"
   },
   "source": "df2.Release_Date.head()",
   "execution_count": null,
   "outputs": [
    {
     "data": {
      "text/plain": "0     4-Jul-14\n1    22-Mar-13\n2     4-Apr-14\n3    22-Mar-13\n4    29-Mar-13\nName: Release_Date, dtype: object"
     },
     "execution_count": 28,
     "metadata": {},
     "output_type": "execute_result"
    }
   ]
  },
  {
   "cell_type": "code",
   "metadata": {
    "cell_id": "00023-7080f1a0-de9a-43d9-8407-96c86803715a",
    "deepnote_cell_type": "code"
   },
   "source": "df1['Release_Date'] = pd.to_datetime(df1['Release_Date'], dayfirst=True, errors='coerce')\ndf1['Release_Date'] = df1['Release_Date'].dt.strftime(\"%d-%b-%y\")",
   "execution_count": null,
   "outputs": []
  },
  {
   "cell_type": "code",
   "metadata": {
    "cell_id": "00024-8e3e0d26-9eb8-4ea0-8a7b-4c679fc8bd93",
    "deepnote_cell_type": "code"
   },
   "source": "df1.Release_Date.head()",
   "execution_count": null,
   "outputs": [
    {
     "data": {
      "text/plain": "0    18-Apr-14\n1    04-Jan-13\n2    18-Jul-14\n3    04-Jan-13\n4    04-Jul-14\nName: Release_Date, dtype: object"
     },
     "execution_count": 30,
     "metadata": {},
     "output_type": "execute_result"
    }
   ]
  },
  {
   "cell_type": "markdown",
   "source": "#### **Thank you**",
   "metadata": {
    "cell_id": "00025-696c852b-80c8-4a59-bd87-768439161d56",
    "deepnote_cell_type": "markdown"
   }
  },
  {
   "cell_type": "code",
   "metadata": {
    "cell_id": "00026-d3dcff1b-4308-487c-9da9-78bd08be4705",
    "deepnote_cell_type": "code"
   },
   "source": "",
   "execution_count": null,
   "outputs": []
  },
  {
   "cell_type": "markdown",
   "source": "<a style='text-decoration:none;line-height:16px;display:flex;color:#5B5B62;padding:10px;justify-content:end;' href='https://deepnote.com?utm_source=created-in-deepnote-cell&projectId=486c3042-68b8-438c-a156-48d94106b4cb' target=\"_blank\">\n<img alt='Created in deepnote.com' style='display:inline;max-height:16px;margin:0px;margin-right:7.5px;' src='data:image/svg+xml;base64,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' > </img>\nCreated in <span style='font-weight:600;margin-left:4px;'>Deepnote</span></a>",
   "metadata": {
    "tags": [],
    "created_in_deepnote_cell": true,
    "deepnote_cell_type": "markdown"
   }
  }
 ],
 "nbformat": 4,
 "nbformat_minor": 4,
 "metadata": {
  "kernelspec": {
   "display_name": "Python 3",
   "language": "python",
   "name": "python3"
  },
  "language_info": {
   "codemirror_mode": {
    "name": "ipython",
    "version": 3
   },
   "file_extension": ".py",
   "mimetype": "text/x-python",
   "name": "python",
   "nbconvert_exporter": "python",
   "pygments_lexer": "ipython3",
   "version": "3.7.3"
  },
  "deepnote_notebook_id": "5ffed973-b791-482d-93a0-417873a537f7",
  "deepnote": {},
  "deepnote_execution_queue": []
 }
}