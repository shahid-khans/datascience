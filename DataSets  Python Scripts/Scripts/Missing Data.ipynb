{
 "cells": [
  {
   "cell_type": "markdown",
   "source": "Importing libraries",
   "metadata": {
    "cell_id": "00000-fbdd59f4-0151-4d94-87d5-7ae426daa94f",
    "deepnote_cell_type": "markdown"
   }
  },
  {
   "cell_type": "code",
   "metadata": {
    "cell_id": "00001-ab46beaf-23c8-42a4-9e3c-6a813acaa594",
    "deepnote_to_be_reexecuted": false,
    "source_hash": "6bfeb933",
    "execution_start": 1619845021219,
    "execution_millis": 11,
    "deepnote_cell_type": "code"
   },
   "source": "import pandas as pd\nimport numpy as np\nfrom statistics import median",
   "execution_count": null,
   "outputs": []
  },
  {
   "cell_type": "markdown",
   "source": "Read csv file into a pandas dataframe",
   "metadata": {
    "cell_id": "00002-11ee392e-f9db-4e8d-b220-610ada2e1d95",
    "deepnote_cell_type": "markdown"
   }
  },
  {
   "cell_type": "code",
   "metadata": {
    "cell_id": "00003-fd56e97e-3afb-43a6-90c6-e52b0aeaee26",
    "deepnote_to_be_reexecuted": false,
    "source_hash": "b1674733",
    "execution_start": 1619845230100,
    "execution_millis": 6,
    "deepnote_cell_type": "code"
   },
   "source": "data = pd.read_csv(\"/work/DataSets  Python Scripts/propertydata.csv\")",
   "execution_count": null,
   "outputs": []
  },
  {
   "cell_type": "code",
   "metadata": {
    "cell_id": "00004-dfa9c377-b068-4d78-8d04-10ee80a335ee",
    "deepnote_cell_type": "code"
   },
   "source": "print(data)",
   "execution_count": null,
   "outputs": [
    {
     "name": "stdout",
     "output_type": "stream",
     "text": "           PID  ST_NUM     ST_NAME OWN_OCCUPIED NUM_BEDROOMS NUM_BATH SQ_FT\n0  100001000.0   104.0      PUTNAM            Y            3        1  1000\n1  100002000.0   197.0   LEXINGTON            N            3      1.5    --\n2  100003000.0     NaN   LEXINGTON            N          NaN        1   850\n3  100004000.0   201.0    BERKELEY           12            1      NaN   700\n4          NaN   203.0    BERKELEY            Y            3        2  1600\n5  100006000.0   207.0    BERKELEY            Y          NaN        1   800\n6  100007000.0     NaN  WASHINGTON          NaN            2        ?   950\n7  100008000.0   213.0     TREMONT            Y            1        1   NaN\n8  100009000.0   215.0     TREMONT            Y           na        2  1800\n9  100009000.0   215.0     TREMONT            Y            ?        2  1800\n"
    }
   ]
  },
  {
   "cell_type": "markdown",
   "source": "Take a look at the first few rows",
   "metadata": {
    "cell_id": "00005-a03e423d-fd8a-4e92-8ecb-9bd76e50fe93",
    "deepnote_cell_type": "markdown"
   }
  },
  {
   "cell_type": "code",
   "metadata": {
    "cell_id": "00006-20d6eb0a-137c-426b-858d-f6429bf71048",
    "deepnote_to_be_reexecuted": false,
    "source_hash": "d61b98dd",
    "execution_start": 1619845156163,
    "execution_millis": 13,
    "deepnote_cell_type": "code"
   },
   "source": "print (data.head())",
   "execution_count": null,
   "outputs": [
    {
     "name": "stdout",
     "text": "           PID  ST_NUM    ST_NAME OWN_OCCUPIED NUM_BEDROOMS NUM_BATH SQ_FT\n0  100001000.0   104.0     PUTNAM            Y            3        1  1000\n1  100002000.0   197.0  LEXINGTON            N            3      1.5    --\n2  100003000.0     NaN  LEXINGTON            N          NaN        1   850\n3  100004000.0   201.0   BERKELEY           12            1      NaN   700\n4          NaN   203.0   BERKELEY            Y            3        2  1600\n",
     "output_type": "stream"
    }
   ]
  },
  {
   "cell_type": "code",
   "metadata": {
    "cell_id": "00007-12555b03-7683-4461-bcd3-abd07257f3bb",
    "deepnote_to_be_reexecuted": false,
    "source_hash": "d786443f",
    "execution_start": 1619845162068,
    "execution_millis": 26,
    "deepnote_cell_type": "code"
   },
   "source": "data.describe()",
   "execution_count": null,
   "outputs": [
    {
     "output_type": "execute_result",
     "execution_count": 8,
     "data": {
      "application/vnd.deepnote.dataframe.v2+json": {
       "row_count": 8,
       "column_count": 2,
       "columns": [
        {
         "name": "PID",
         "dtype": "float64",
         "stats": {
          "unique_count": 8,
          "nan_count": 0,
          "min": "9.0",
          "max": "100009000.0",
          "histogram": [
           {
            "bin_start": 9,
            "bin_end": 10000908.1,
            "count": 2
           },
           {
            "bin_start": 10000908.1,
            "bin_end": 20001807.2,
            "count": 0
           },
           {
            "bin_start": 20001807.2,
            "bin_end": 30002706.299999997,
            "count": 0
           },
           {
            "bin_start": 30002706.299999997,
            "bin_end": 40003605.4,
            "count": 0
           },
           {
            "bin_start": 40003605.4,
            "bin_end": 50004504.5,
            "count": 0
           },
           {
            "bin_start": 50004504.5,
            "bin_end": 60005403.599999994,
            "count": 0
           },
           {
            "bin_start": 60005403.599999994,
            "bin_end": 70006302.7,
            "count": 0
           },
           {
            "bin_start": 70006302.7,
            "bin_end": 80007201.8,
            "count": 0
           },
           {
            "bin_start": 80007201.8,
            "bin_end": 90008100.89999999,
            "count": 0
           },
           {
            "bin_start": 90008100.89999999,
            "bin_end": 100009000,
            "count": 6
           }
          ]
         }
        },
        {
         "name": "ST_NUM",
         "dtype": "float64",
         "stats": {
          "unique_count": 8,
          "nan_count": 0,
          "min": "8.0",
          "max": "215.0",
          "histogram": [
           {
            "bin_start": 8,
            "bin_end": 28.7,
            "count": 1
           },
           {
            "bin_start": 28.7,
            "bin_end": 49.4,
            "count": 1
           },
           {
            "bin_start": 49.4,
            "bin_end": 70.1,
            "count": 0
           },
           {
            "bin_start": 70.1,
            "bin_end": 90.8,
            "count": 0
           },
           {
            "bin_start": 90.8,
            "bin_end": 111.5,
            "count": 1
           },
           {
            "bin_start": 111.5,
            "bin_end": 132.2,
            "count": 0
           },
           {
            "bin_start": 132.2,
            "bin_end": 152.9,
            "count": 0
           },
           {
            "bin_start": 152.9,
            "bin_end": 173.6,
            "count": 0
           },
           {
            "bin_start": 173.6,
            "bin_end": 194.29999999999998,
            "count": 0
           },
           {
            "bin_start": 194.29999999999998,
            "bin_end": 215,
            "count": 5
           }
          ]
         }
        },
        {
         "name": "_deepnote_index_column",
         "dtype": "object"
        }
       ],
       "rows_top": [
        {
         "PID": 9,
         "ST_NUM": 8,
         "_deepnote_index_column": "count"
        },
        {
         "PID": 100005444.44444445,
         "ST_NUM": 194.375,
         "_deepnote_index_column": "mean"
        },
        {
         "PID": 3045.9444804161776,
         "ST_NUM": 37.128877863848395,
         "_deepnote_index_column": "std"
        },
        {
         "PID": 100001000,
         "ST_NUM": 104,
         "_deepnote_index_column": "min"
        },
        {
         "PID": 100003000,
         "ST_NUM": 200,
         "_deepnote_index_column": "25%"
        },
        {
         "PID": 100006000,
         "ST_NUM": 205,
         "_deepnote_index_column": "50%"
        },
        {
         "PID": 100008000,
         "ST_NUM": 213.5,
         "_deepnote_index_column": "75%"
        },
        {
         "PID": 100009000,
         "ST_NUM": 215,
         "_deepnote_index_column": "max"
        }
       ],
       "rows_bottom": null
      },
      "text/plain": "                PID      ST_NUM\ncount  9.000000e+00    8.000000\nmean   1.000054e+08  194.375000\nstd    3.045944e+03   37.128878\nmin    1.000010e+08  104.000000\n25%    1.000030e+08  200.000000\n50%    1.000060e+08  205.000000\n75%    1.000080e+08  213.500000\nmax    1.000090e+08  215.000000",
      "text/html": "<div>\n<style scoped>\n    .dataframe tbody tr th:only-of-type {\n        vertical-align: middle;\n    }\n\n    .dataframe tbody tr th {\n        vertical-align: top;\n    }\n\n    .dataframe thead th {\n        text-align: right;\n    }\n</style>\n<table border=\"1\" class=\"dataframe\">\n  <thead>\n    <tr style=\"text-align: right;\">\n      <th></th>\n      <th>PID</th>\n      <th>ST_NUM</th>\n    </tr>\n  </thead>\n  <tbody>\n    <tr>\n      <th>count</th>\n      <td>9.000000e+00</td>\n      <td>8.000000</td>\n    </tr>\n    <tr>\n      <th>mean</th>\n      <td>1.000054e+08</td>\n      <td>194.375000</td>\n    </tr>\n    <tr>\n      <th>std</th>\n      <td>3.045944e+03</td>\n      <td>37.128878</td>\n    </tr>\n    <tr>\n      <th>min</th>\n      <td>1.000010e+08</td>\n      <td>104.000000</td>\n    </tr>\n    <tr>\n      <th>25%</th>\n      <td>1.000030e+08</td>\n      <td>200.000000</td>\n    </tr>\n    <tr>\n      <th>50%</th>\n      <td>1.000060e+08</td>\n      <td>205.000000</td>\n    </tr>\n    <tr>\n      <th>75%</th>\n      <td>1.000080e+08</td>\n      <td>213.500000</td>\n    </tr>\n    <tr>\n      <th>max</th>\n      <td>1.000090e+08</td>\n      <td>215.000000</td>\n    </tr>\n  </tbody>\n</table>\n</div>"
     },
     "metadata": {}
    }
   ]
  },
  {
   "cell_type": "code",
   "metadata": {
    "cell_id": "00008-4fbe53a0-3531-4886-9957-8ada2f3992d8",
    "deepnote_cell_type": "code"
   },
   "source": "data.columns\ndata.values",
   "execution_count": null,
   "outputs": [
    {
     "data": {
      "text/plain": "array([[100001000.0, 104.0, 'PUTNAM', 'Y', '3', '1', '1000'],\n       [100002000.0, 197.0, 'LEXINGTON', 'N', '3', '1.5', '--'],\n       [100003000.0, nan, 'LEXINGTON', 'N', nan, '1', '850'],\n       [100004000.0, 201.0, 'BERKELEY', '12', '1', nan, '700'],\n       [nan, 203.0, 'BERKELEY', 'Y', '3', '2', '1600'],\n       [100006000.0, 207.0, 'BERKELEY', 'Y', nan, '1', '800'],\n       [100007000.0, nan, 'WASHINGTON', nan, '2', '?', '950'],\n       [100008000.0, 213.0, 'TREMONT', 'Y', '1', '1', nan],\n       [100009000.0, 215.0, 'TREMONT', 'Y', 'na', '2', '1800'],\n       [100009000.0, 215.0, 'TREMONT', 'Y', '?', '2', '1800']],\n      dtype=object)"
     },
     "execution_count": 6,
     "metadata": {},
     "output_type": "execute_result"
    }
   ]
  },
  {
   "cell_type": "markdown",
   "source": "Looking at the ST_NUM column<br>\ntandard Missing Values : missing values pandas can detect",
   "metadata": {
    "cell_id": "00009-c5acb685-7d17-4908-8bd9-59ab8d01d85d",
    "deepnote_cell_type": "markdown"
   }
  },
  {
   "cell_type": "code",
   "metadata": {
    "cell_id": "00010-bbfcb05e-4c3a-4b5a-8386-7ef2dc1a8740",
    "deepnote_cell_type": "code"
   },
   "source": "print (data['ST_NUM'])",
   "execution_count": null,
   "outputs": [
    {
     "name": "stdout",
     "output_type": "stream",
     "text": "0    104.0\n1    197.0\n2      NaN\n3    201.0\n4    203.0\n5    207.0\n6      NaN\n7    213.0\n8    215.0\n9    215.0\nName: ST_NUM, dtype: float64\n"
    }
   ]
  },
  {
   "cell_type": "code",
   "metadata": {
    "cell_id": "00011-31a4d961-ebc0-403e-8a13-24b964db6092",
    "deepnote_to_be_reexecuted": false,
    "source_hash": "ae221148",
    "execution_start": 1619845271540,
    "execution_millis": 7,
    "deepnote_cell_type": "code"
   },
   "source": "print(data['ST_NUM'].isnull())",
   "execution_count": null,
   "outputs": [
    {
     "name": "stdout",
     "text": "0    False\n1    False\n2     True\n3    False\n4    False\n5    False\n6     True\n7    False\n8    False\n9    False\nName: ST_NUM, dtype: bool\n",
     "output_type": "stream"
    }
   ]
  },
  {
   "cell_type": "code",
   "metadata": {
    "cell_id": "00012-b90ac921-7d0e-46a4-8ef5-281661938e89",
    "deepnote_to_be_reexecuted": false,
    "source_hash": "3beb1b79",
    "execution_start": 1619845288700,
    "execution_millis": 8,
    "deepnote_cell_type": "code"
   },
   "source": "print(data['ST_NUM'].notnull())",
   "execution_count": null,
   "outputs": [
    {
     "name": "stdout",
     "text": "0     True\n1     True\n2    False\n3     True\n4     True\n5     True\n6    False\n7     True\n8     True\n9     True\nName: ST_NUM, dtype: bool\n",
     "output_type": "stream"
    }
   ]
  },
  {
   "cell_type": "markdown",
   "source": "on-standard missing values",
   "metadata": {
    "cell_id": "00013-5fc69629-6fdd-4325-9615-ad52782d9edd",
    "deepnote_cell_type": "markdown"
   }
  },
  {
   "cell_type": "code",
   "metadata": {
    "cell_id": "00014-0aab997e-4af6-4085-94f1-6dd15c6fcd6a",
    "deepnote_to_be_reexecuted": false,
    "source_hash": "a7951db9",
    "execution_start": 1619845318765,
    "execution_millis": 5,
    "deepnote_cell_type": "code"
   },
   "source": "print(data['NUM_BEDROOMS'])\nprint(data['NUM_BEDROOMS'].isnull())",
   "execution_count": null,
   "outputs": [
    {
     "name": "stdout",
     "text": "0      3\n1      3\n2    NaN\n3      1\n4      3\n5    NaN\n6      2\n7      1\n8     na\n9      ?\nName: NUM_BEDROOMS, dtype: object\n0    False\n1    False\n2     True\n3    False\n4    False\n5     True\n6    False\n7    False\n8    False\n9    False\nName: NUM_BEDROOMS, dtype: bool\n",
     "output_type": "stream"
    }
   ]
  },
  {
   "cell_type": "markdown",
   "source": "Making a list of missing value types",
   "metadata": {
    "cell_id": "00015-ce13e054-c4e7-4ab6-98c7-0bbc32cabfea",
    "deepnote_cell_type": "markdown"
   }
  },
  {
   "cell_type": "code",
   "metadata": {
    "cell_id": "00016-7882c1b9-bc7c-417b-a1fe-b497b18834e6",
    "deepnote_to_be_reexecuted": false,
    "source_hash": "8b683cb9",
    "execution_start": 1619845433597,
    "execution_millis": 1,
    "deepnote_cell_type": "code"
   },
   "source": "missing_values = [\"n/a\", \"na\", \"--\",\"?\"]\ndata = pd.read_csv(\"/work/DataSets  Python Scripts/propertydata.csv\", na_values = missing_values)",
   "execution_count": null,
   "outputs": []
  },
  {
   "cell_type": "code",
   "metadata": {
    "cell_id": "00017-473ad466-62d6-4341-bdaf-dca798441785",
    "deepnote_to_be_reexecuted": false,
    "source_hash": "8e915570",
    "execution_start": 1619845438466,
    "execution_millis": 6,
    "deepnote_cell_type": "code"
   },
   "source": "print(data['NUM_BEDROOMS'].isnull())",
   "execution_count": null,
   "outputs": [
    {
     "name": "stdout",
     "text": "0    False\n1    False\n2     True\n3    False\n4    False\n5     True\n6    False\n7    False\n8     True\n9     True\nName: NUM_BEDROOMS, dtype: bool\n",
     "output_type": "stream"
    }
   ]
  },
  {
   "cell_type": "markdown",
   "source": "Total missing values for each feature",
   "metadata": {
    "cell_id": "00018-495e9e07-0c3a-404e-9504-48fd32725f05",
    "deepnote_cell_type": "markdown"
   }
  },
  {
   "cell_type": "code",
   "metadata": {
    "cell_id": "00019-369fdffc-c284-4dfb-a8c1-277d59994049",
    "deepnote_to_be_reexecuted": false,
    "source_hash": "f72cee6",
    "execution_start": 1619845581681,
    "execution_millis": 5,
    "deepnote_cell_type": "code"
   },
   "source": "print(data.isnull().sum())",
   "execution_count": null,
   "outputs": [
    {
     "name": "stdout",
     "text": "PID             1\nST_NUM          2\nST_NAME         0\nOWN_OCCUPIED    1\nNUM_BEDROOMS    4\nNUM_BATH        2\nSQ_FT           2\ndtype: int64\n",
     "output_type": "stream"
    }
   ]
  },
  {
   "cell_type": "markdown",
   "source": "Any missing values?",
   "metadata": {
    "cell_id": "00020-27385077-83e4-4d6e-a198-74d95d04d66a",
    "deepnote_cell_type": "markdown"
   }
  },
  {
   "cell_type": "code",
   "metadata": {
    "cell_id": "00021-3e68e55f-a56e-4aca-9a3f-6887b4e2e693",
    "deepnote_cell_type": "code"
   },
   "source": "print(data.isnull().values.any())",
   "execution_count": null,
   "outputs": [
    {
     "name": "stdout",
     "output_type": "stream",
     "text": "True\n"
    }
   ]
  },
  {
   "cell_type": "markdown",
   "source": "Total number of missing values",
   "metadata": {
    "cell_id": "00022-6425fbd1-2002-481c-99c7-6030249a9e2d",
    "deepnote_cell_type": "markdown"
   }
  },
  {
   "cell_type": "code",
   "metadata": {
    "cell_id": "00023-67d8ade1-58ab-4e46-991d-c684fc271c99",
    "deepnote_cell_type": "code"
   },
   "source": "print(data.isnull().sum().sum())",
   "execution_count": null,
   "outputs": [
    {
     "name": "stdout",
     "output_type": "stream",
     "text": "10\n"
    }
   ]
  },
  {
   "cell_type": "markdown",
   "source": "checking the percentage of missing values in each variable",
   "metadata": {
    "cell_id": "00024-78be2547-c03b-430a-9542-6f24b621aa73",
    "deepnote_cell_type": "markdown"
   }
  },
  {
   "cell_type": "code",
   "metadata": {
    "cell_id": "00025-af459698-c012-4ae3-a214-378ae0eea4b6",
    "deepnote_cell_type": "code"
   },
   "source": "print(data.isnull().sum()/len(data)*100)",
   "execution_count": null,
   "outputs": [
    {
     "name": "stdout",
     "output_type": "stream",
     "text": "PID             11.111111\nST_NUM          22.222222\nST_NAME          0.000000\nOWN_OCCUPIED    11.111111\nNUM_BEDROOMS    33.333333\nNUM_BATH        11.111111\nSQ_FT           22.222222\ndtype: float64\n"
    }
   ]
  },
  {
   "cell_type": "markdown",
   "source": "ow we drop rows with at least one Nan value (Null value)",
   "metadata": {
    "cell_id": "00026-c4411f39-bb3b-4113-a3c2-da31546fab09",
    "deepnote_cell_type": "markdown"
   }
  },
  {
   "cell_type": "code",
   "metadata": {
    "cell_id": "00027-4ce0efd5-7d44-4581-86ed-f6576cd4d86b",
    "deepnote_to_be_reexecuted": false,
    "source_hash": "b3c5f983",
    "execution_start": 1619845718309,
    "execution_millis": 5,
    "deepnote_cell_type": "code"
   },
   "source": "print(data.dropna())",
   "execution_count": null,
   "outputs": [
    {
     "name": "stdout",
     "text": "           PID  ST_NUM ST_NAME OWN_OCCUPIED  NUM_BEDROOMS  NUM_BATH   SQ_FT\n0  100001000.0   104.0  PUTNAM            Y           3.0       1.0  1000.0\n",
     "output_type": "stream"
    }
   ]
  },
  {
   "cell_type": "markdown",
   "source": "ow we drop a rows whose all data is missing or contain null values(NaN)",
   "metadata": {
    "cell_id": "00028-780f0e0c-9d0f-4f93-b204-f252ebe03570",
    "deepnote_cell_type": "markdown"
   }
  },
  {
   "cell_type": "code",
   "metadata": {
    "cell_id": "00029-f89b4c41-cd03-419e-b9a1-ec632890eecf",
    "deepnote_cell_type": "code"
   },
   "source": "print(data.dropna(how = 'all'))",
   "execution_count": null,
   "outputs": [
    {
     "name": "stdout",
     "output_type": "stream",
     "text": "           PID  ST_NUM     ST_NAME OWN_OCCUPIED  NUM_BEDROOMS NUM_BATH   SQ_FT\n0  100001000.0   104.0      PUTNAM            Y           3.0        1  1000.0\n1  100002000.0   197.0   LEXINGTON            N           3.0      1.5     NaN\n2  100003000.0     NaN   LEXINGTON            N           NaN        1   850.0\n3  100004000.0   201.0    BERKELEY           12           1.0      NaN   700.0\n4          NaN   203.0    BERKELEY            Y           3.0        2  1600.0\n5  100006000.0   207.0    BERKELEY            Y           NaN        1   800.0\n6  100007000.0     NaN  WASHINGTON          NaN           2.0   HURLEY   950.0\n7  100008000.0   213.0     TREMONT            Y           1.0        1     NaN\n8  100009000.0   215.0     TREMONT            Y           NaN        2  1800.0\n"
    }
   ]
  },
  {
   "cell_type": "markdown",
   "source": "ow we drop a columns which have at least 1 missing values",
   "metadata": {
    "cell_id": "00030-7c4c9720-2d99-4398-b724-ee4267de9418",
    "deepnote_cell_type": "markdown"
   }
  },
  {
   "cell_type": "code",
   "metadata": {
    "scrolled": true,
    "cell_id": "00031-3d38131b-0af4-4c1b-abc3-ac0676a3fe98",
    "deepnote_cell_type": "code"
   },
   "source": "print(data.dropna(axis=1))",
   "execution_count": null,
   "outputs": [
    {
     "name": "stdout",
     "output_type": "stream",
     "text": "      ST_NAME\n0      PUTNAM\n1   LEXINGTON\n2   LEXINGTON\n3    BERKELEY\n4    BERKELEY\n5    BERKELEY\n6  WASHINGTON\n7     TREMONT\n8     TREMONT\n"
    }
   ]
  },
  {
   "cell_type": "markdown",
   "source": "ow we drop a ro which have at least 1 missing values",
   "metadata": {
    "cell_id": "00032-8a986fc0-ecb1-4a3a-9702-e91dc4d58f33",
    "deepnote_cell_type": "markdown"
   }
  },
  {
   "cell_type": "code",
   "metadata": {
    "cell_id": "00033-a43e0c63-24c1-4db3-af0e-0cd4e356dcdc",
    "deepnote_cell_type": "code"
   },
   "source": "print(data.dropna(axis=0))",
   "execution_count": null,
   "outputs": [
    {
     "name": "stdout",
     "output_type": "stream",
     "text": "           PID  ST_NUM ST_NAME OWN_OCCUPIED  NUM_BEDROOMS NUM_BATH   SQ_FT\n0  100001000.0   104.0  PUTNAM            Y           3.0        1  1000.0\n"
    }
   ]
  },
  {
   "cell_type": "markdown",
   "source": "ill in missing values with zero",
   "metadata": {
    "cell_id": "00034-9cf7d754-623c-4265-9809-f99a1a6eebbb",
    "deepnote_cell_type": "markdown"
   }
  },
  {
   "cell_type": "code",
   "metadata": {
    "cell_id": "00035-b5e8cecf-f2cc-4641-83f3-4826d8b1dbe8",
    "deepnote_to_be_reexecuted": false,
    "source_hash": "196a22ca",
    "execution_start": 1619845958066,
    "execution_millis": 10,
    "deepnote_cell_type": "code"
   },
   "source": "print(data.fillna(0))\nprint(data)",
   "execution_count": null,
   "outputs": [
    {
     "name": "stdout",
     "text": "           PID  ST_NUM     ST_NAME OWN_OCCUPIED  NUM_BEDROOMS  NUM_BATH  \\\n0  100001000.0   104.0      PUTNAM            Y           3.0       1.0   \n1  100002000.0   197.0   LEXINGTON            N           3.0       1.5   \n2  100003000.0     0.0   LEXINGTON            N           0.0       1.0   \n3  100004000.0   201.0    BERKELEY           12           1.0       0.0   \n4          0.0   203.0    BERKELEY            Y           3.0       2.0   \n5  100006000.0   207.0    BERKELEY            Y           0.0       1.0   \n6  100007000.0     0.0  WASHINGTON            0           2.0       0.0   \n7  100008000.0   213.0     TREMONT            Y           1.0       1.0   \n8  100009000.0   215.0     TREMONT            Y           0.0       2.0   \n9  100009000.0   215.0     TREMONT            Y           0.0       2.0   \n\n    SQ_FT  \n0  1000.0  \n1     0.0  \n2   850.0  \n3   700.0  \n4  1600.0  \n5   800.0  \n6   950.0  \n7     0.0  \n8  1800.0  \n9  1800.0  \n           PID  ST_NUM     ST_NAME OWN_OCCUPIED  NUM_BEDROOMS  NUM_BATH  \\\n0  100001000.0   104.0      PUTNAM            Y           3.0       1.0   \n1  100002000.0   197.0   LEXINGTON            N           3.0       1.5   \n2  100003000.0     NaN   LEXINGTON            N           NaN       1.0   \n3  100004000.0   201.0    BERKELEY           12           1.0       NaN   \n4          NaN   203.0    BERKELEY            Y           3.0       2.0   \n5  100006000.0   207.0    BERKELEY            Y           NaN       1.0   \n6  100007000.0     NaN  WASHINGTON          NaN           2.0       NaN   \n7  100008000.0   213.0     TREMONT            Y           1.0       1.0   \n8  100009000.0   215.0     TREMONT            Y           NaN       2.0   \n9  100009000.0   215.0     TREMONT            Y           NaN       2.0   \n\n    SQ_FT  \n0  1000.0  \n1     NaN  \n2   850.0  \n3   700.0  \n4  1600.0  \n5   800.0  \n6   950.0  \n7     NaN  \n8  1800.0  \n9  1800.0  \n",
     "output_type": "stream"
    }
   ]
  },
  {
   "cell_type": "markdown",
   "source": "Replace using mean",
   "metadata": {
    "cell_id": "00036-adff8e75-4582-4467-be04-4e6bcba35887",
    "deepnote_cell_type": "markdown"
   }
  },
  {
   "cell_type": "code",
   "metadata": {
    "cell_id": "00037-be2afe77-013b-41b5-8583-ad6c06b2b673",
    "deepnote_to_be_reexecuted": false,
    "source_hash": "37d900fa",
    "execution_start": 1619845914461,
    "execution_millis": 5,
    "deepnote_cell_type": "code"
   },
   "source": "m = data[\"ST_NUM\"].mean()\nprint(m)\n# fill missing values with mean column values\nprint(data['ST_NUM'].replace(np.nan, m))",
   "execution_count": null,
   "outputs": [
    {
     "name": "stdout",
     "text": "194.375\n0    104.000\n1    197.000\n2    194.375\n3    201.000\n4    203.000\n5    207.000\n6    194.375\n7    213.000\n8    215.000\n9    215.000\nName: ST_NUM, dtype: float64\n",
     "output_type": "stream"
    }
   ]
  },
  {
   "cell_type": "markdown",
   "source": "Replace using median ; inplace=True means that the changes are saved to the df right away",
   "metadata": {
    "cell_id": "00038-11602d47-89c9-432f-9d98-0e538a1be114",
    "deepnote_cell_type": "markdown"
   }
  },
  {
   "cell_type": "code",
   "metadata": {
    "cell_id": "00039-886507b6-757e-4a30-af18-4d4685e34169",
    "deepnote_cell_type": "code"
   },
   "source": "median = data['NUM_BEDROOMS'].median()\nm1 = data['NUM_BEDROOMS'].fillna(median, inplace=True)\nprint(data['NUM_BEDROOMS'])",
   "execution_count": null,
   "outputs": [
    {
     "name": "stdout",
     "output_type": "stream",
     "text": "0    3.0\n1    3.0\n2    2.5\n3    1.0\n4    3.0\n5    2.5\n6    2.0\n7    1.0\n8    2.5\nName: NUM_BEDROOMS, dtype: float64\n"
    }
   ]
  },
  {
   "cell_type": "markdown",
   "source": "ropping the outlier rows with standard deviation",
   "metadata": {
    "cell_id": "00040-41db4a59-f3b7-4abe-b2eb-cc65def44fb6",
    "deepnote_cell_type": "markdown"
   }
  },
  {
   "cell_type": "code",
   "metadata": {
    "cell_id": "00041-ebe08a34-3bdc-4e13-802b-38d9aa454649",
    "deepnote_cell_type": "code"
   },
   "source": "factor = 3\nupper_lim = data['NUM_BEDROOMS'].mean () + data['NUM_BEDROOMS'].std () * factor\nlower_lim = data['NUM_BEDROOMS'].mean () - data['NUM_BEDROOMS'].std () * factor",
   "execution_count": null,
   "outputs": []
  },
  {
   "cell_type": "code",
   "metadata": {
    "cell_id": "00042-d905468c-e877-4c0b-851b-00b3e9009607",
    "deepnote_cell_type": "code"
   },
   "source": "data = data[(data['NUM_BEDROOMS'] < upper_lim) & (data['NUM_BEDROOMS'] > lower_lim)]",
   "execution_count": null,
   "outputs": []
  },
  {
   "cell_type": "markdown",
   "source": "ropping the outlier rows with Percentiles",
   "metadata": {
    "cell_id": "00043-887b46ab-6ecc-4800-b435-52e9e5656f3d",
    "deepnote_cell_type": "markdown"
   }
  },
  {
   "cell_type": "code",
   "metadata": {
    "cell_id": "00044-febb67a8-34b4-4d8f-a08f-10e42fd2a2c8",
    "deepnote_cell_type": "code"
   },
   "source": "upper_lim = data['NUM_BEDROOMS'].quantile(.95)\nlower_lim = data['NUM_BEDROOMS'].quantile(.05)",
   "execution_count": null,
   "outputs": []
  },
  {
   "cell_type": "code",
   "metadata": {
    "cell_id": "00045-9ca8835e-7ab6-43cc-a891-5bd98150cdd5",
    "deepnote_cell_type": "code"
   },
   "source": "data = data[(data['NUM_BEDROOMS'] < upper_lim) & (data['NUM_BEDROOMS'] > lower_lim)]",
   "execution_count": null,
   "outputs": []
  },
  {
   "cell_type": "markdown",
   "source": "<a style='text-decoration:none;line-height:16px;display:flex;color:#5B5B62;padding:10px;justify-content:end;' href='https://deepnote.com?utm_source=created-in-deepnote-cell&projectId=486c3042-68b8-438c-a156-48d94106b4cb' target=\"_blank\">\n<img alt='Created in deepnote.com' style='display:inline;max-height:16px;margin:0px;margin-right:7.5px;' src='data:image/svg+xml;base64,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' > </img>\nCreated in <span style='font-weight:600;margin-left:4px;'>Deepnote</span></a>",
   "metadata": {
    "tags": [],
    "created_in_deepnote_cell": true,
    "deepnote_cell_type": "markdown"
   }
  }
 ],
 "nbformat": 4,
 "nbformat_minor": 2,
 "metadata": {
  "kernelspec": {
   "display_name": "Python 3",
   "language": "python",
   "name": "python3"
  },
  "language_info": {
   "codemirror_mode": {
    "name": "ipython",
    "version": 3
   },
   "file_extension": ".py",
   "mimetype": "text/x-python",
   "name": "python",
   "nbconvert_exporter": "python",
   "pygments_lexer": "ipython3",
   "version": "3.7.3"
  },
  "deepnote_notebook_id": "31263565-9285-4ecd-9fdd-d305e2749594",
  "deepnote": {},
  "deepnote_execution_queue": []
 }
}