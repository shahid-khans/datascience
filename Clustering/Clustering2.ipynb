{
 "cells": [
  {
   "cell_type": "code",
   "metadata": {
    "cell_id": "00000-e5c996fc-ac20-4c28-ba70-c92d9630b612",
    "deepnote_to_be_reexecuted": false,
    "source_hash": "d6f0a408",
    "execution_start": 1646320257948,
    "execution_millis": 6039,
    "deepnote_cell_type": "code"
   },
   "source": "import pandas as pd\nimport numpy as np\nimport matplotlib.pyplot as plt\nfrom sklearn.cluster import AgglomerativeClustering \nfrom sklearn.cluster import KMeans\nfrom sklearn.preprocessing import StandardScaler, normalize\nfrom sklearn.decomposition import PCA\nfrom sklearn.metrics import silhouette_score\nimport scipy.cluster.hierarchy as shc",
   "outputs": [],
   "execution_count": null
  },
  {
   "cell_type": "code",
   "metadata": {
    "tags": [],
    "cell_id": "00001-b4565c97-6758-483f-8cd1-5b45e1657335",
    "deepnote_to_be_reexecuted": false,
    "source_hash": "5b7070d8",
    "execution_start": 1646320319662,
    "execution_millis": 0,
    "deepnote_cell_type": "code"
   },
   "source": "raw_df = pd.read_csv('credit_card.csv')\n",
   "outputs": [],
   "execution_count": null
  },
  {
   "cell_type": "code",
   "metadata": {
    "tags": [],
    "cell_id": "00002-c5631763-d6c8-43fe-a0c5-b9f416a87eb8",
    "output_cleared": false,
    "deepnote_to_be_reexecuted": false,
    "source_hash": "13bf2f5b",
    "execution_start": 1646317324037,
    "execution_millis": 25,
    "deepnote_cell_type": "code"
   },
   "source": "print(raw_df)",
   "outputs": [
    {
     "name": "stdout",
     "text": "     CUST_ID      BALANCE  BALANCE_FREQUENCY  PURCHASES  ONEOFF_PURCHASES  \\\n0     C10001    40.900749           0.818182      95.40              0.00   \n1     C10002  3202.467416           0.909091       0.00              0.00   \n2     C10003  2495.148862           1.000000     773.17            773.17   \n3     C10004  1666.670542           0.636364    1499.00           1499.00   \n4     C10005   817.714335           1.000000      16.00             16.00   \n...      ...          ...                ...        ...               ...   \n8945  C19186    28.493517           1.000000     291.12              0.00   \n8946  C19187    19.183215           1.000000     300.00              0.00   \n8947  C19188    23.398673           0.833333     144.40              0.00   \n8948  C19189    13.457564           0.833333       0.00              0.00   \n8949  C19190   372.708075           0.666667    1093.25           1093.25   \n\n      INSTALLMENTS_PURCHASES  CASH_ADVANCE  PURCHASES_FREQUENCY  \\\n0                      95.40      0.000000             0.166667   \n1                       0.00   6442.945483             0.000000   \n2                       0.00      0.000000             1.000000   \n3                       0.00    205.788017             0.083333   \n4                       0.00      0.000000             0.083333   \n...                      ...           ...                  ...   \n8945                  291.12      0.000000             1.000000   \n8946                  300.00      0.000000             1.000000   \n8947                  144.40      0.000000             0.833333   \n8948                    0.00     36.558778             0.000000   \n8949                    0.00    127.040008             0.666667   \n\n      ONEOFF_PURCHASES_FREQUENCY  PURCHASES_INSTALLMENTS_FREQUENCY  \\\n0                       0.000000                          0.083333   \n1                       0.000000                          0.000000   \n2                       1.000000                          0.000000   \n3                       0.083333                          0.000000   \n4                       0.083333                          0.000000   \n...                          ...                               ...   \n8945                    0.000000                          0.833333   \n8946                    0.000000                          0.833333   \n8947                    0.000000                          0.666667   \n8948                    0.000000                          0.000000   \n8949                    0.666667                          0.000000   \n\n      CASH_ADVANCE_FREQUENCY  CASH_ADVANCE_TRX  PURCHASES_TRX  CREDIT_LIMIT  \\\n0                   0.000000                 0              2        1000.0   \n1                   0.250000                 4              0        7000.0   \n2                   0.000000                 0             12        7500.0   \n3                   0.083333                 1              1        7500.0   \n4                   0.000000                 0              1        1200.0   \n...                      ...               ...            ...           ...   \n8945                0.000000                 0              6        1000.0   \n8946                0.000000                 0              6        1000.0   \n8947                0.000000                 0              5        1000.0   \n8948                0.166667                 2              0         500.0   \n8949                0.333333                 2             23        1200.0   \n\n         PAYMENTS  MINIMUM_PAYMENTS  PRC_FULL_PAYMENT  TENURE  \n0      201.802084        139.509787          0.000000      12  \n1     4103.032597       1072.340217          0.222222      12  \n2      622.066742        627.284787          0.000000      12  \n3        0.000000               NaN          0.000000      12  \n4      678.334763        244.791237          0.000000      12  \n...           ...               ...               ...     ...  \n8945   325.594462         48.886365          0.500000       6  \n8946   275.861322               NaN          0.000000       6  \n8947    81.270775         82.418369          0.250000       6  \n8948    52.549959         55.755628          0.250000       6  \n8949    63.165404         88.288956          0.000000       6  \n\n[8950 rows x 18 columns]\n",
     "output_type": "stream"
    }
   ],
   "execution_count": null
  },
  {
   "cell_type": "code",
   "metadata": {
    "tags": [],
    "cell_id": "00003-1d254a1d-4ec1-40bd-90a6-abd5dcac09f1",
    "deepnote_to_be_reexecuted": false,
    "source_hash": "98d67e1e",
    "execution_start": 1646320379599,
    "execution_millis": 1,
    "deepnote_cell_type": "code"
   },
   "source": "raw_df = raw_df.drop('CUST_ID', axis = 1) \n",
   "outputs": [],
   "execution_count": null
  },
  {
   "cell_type": "code",
   "metadata": {
    "tags": [],
    "cell_id": "00004-909ef67b-ebb6-46aa-83ea-876c522b4678",
    "deepnote_to_be_reexecuted": false,
    "source_hash": "13bf2f5b",
    "execution_start": 1646320384170,
    "execution_millis": 96,
    "deepnote_cell_type": "code"
   },
   "source": "print(raw_df)",
   "outputs": [
    {
     "name": "stdout",
     "text": "          BALANCE  BALANCE_FREQUENCY  PURCHASES  ONEOFF_PURCHASES  \\\n0       40.900749           0.818182      95.40              0.00   \n1     3202.467416           0.909091       0.00              0.00   \n2     2495.148862           1.000000     773.17            773.17   \n3     1666.670542           0.636364    1499.00           1499.00   \n4      817.714335           1.000000      16.00             16.00   \n...           ...                ...        ...               ...   \n8945    28.493517           1.000000     291.12              0.00   \n8946    19.183215           1.000000     300.00              0.00   \n8947    23.398673           0.833333     144.40              0.00   \n8948    13.457564           0.833333       0.00              0.00   \n8949   372.708075           0.666667    1093.25           1093.25   \n\n      INSTALLMENTS_PURCHASES  CASH_ADVANCE  PURCHASES_FREQUENCY  \\\n0                      95.40      0.000000             0.166667   \n1                       0.00   6442.945483             0.000000   \n2                       0.00      0.000000             1.000000   \n3                       0.00    205.788017             0.083333   \n4                       0.00      0.000000             0.083333   \n...                      ...           ...                  ...   \n8945                  291.12      0.000000             1.000000   \n8946                  300.00      0.000000             1.000000   \n8947                  144.40      0.000000             0.833333   \n8948                    0.00     36.558778             0.000000   \n8949                    0.00    127.040008             0.666667   \n\n      ONEOFF_PURCHASES_FREQUENCY  PURCHASES_INSTALLMENTS_FREQUENCY  \\\n0                       0.000000                          0.083333   \n1                       0.000000                          0.000000   \n2                       1.000000                          0.000000   \n3                       0.083333                          0.000000   \n4                       0.083333                          0.000000   \n...                          ...                               ...   \n8945                    0.000000                          0.833333   \n8946                    0.000000                          0.833333   \n8947                    0.000000                          0.666667   \n8948                    0.000000                          0.000000   \n8949                    0.666667                          0.000000   \n\n      CASH_ADVANCE_FREQUENCY  CASH_ADVANCE_TRX  PURCHASES_TRX  CREDIT_LIMIT  \\\n0                   0.000000                 0              2        1000.0   \n1                   0.250000                 4              0        7000.0   \n2                   0.000000                 0             12        7500.0   \n3                   0.083333                 1              1        7500.0   \n4                   0.000000                 0              1        1200.0   \n...                      ...               ...            ...           ...   \n8945                0.000000                 0              6        1000.0   \n8946                0.000000                 0              6        1000.0   \n8947                0.000000                 0              5        1000.0   \n8948                0.166667                 2              0         500.0   \n8949                0.333333                 2             23        1200.0   \n\n         PAYMENTS  MINIMUM_PAYMENTS  PRC_FULL_PAYMENT  TENURE  \n0      201.802084        139.509787          0.000000      12  \n1     4103.032597       1072.340217          0.222222      12  \n2      622.066742        627.284787          0.000000      12  \n3        0.000000               NaN          0.000000      12  \n4      678.334763        244.791237          0.000000      12  \n...           ...               ...               ...     ...  \n8945   325.594462         48.886365          0.500000       6  \n8946   275.861322               NaN          0.000000       6  \n8947    81.270775         82.418369          0.250000       6  \n8948    52.549959         55.755628          0.250000       6  \n8949    63.165404         88.288956          0.000000       6  \n\n[8950 rows x 17 columns]\n",
     "output_type": "stream"
    }
   ],
   "execution_count": null
  },
  {
   "cell_type": "code",
   "metadata": {
    "cell_id": "00001-4cd1d434-dab1-4dfe-83a6-b54529a28a23",
    "deepnote_to_be_reexecuted": false,
    "source_hash": "2c27c464",
    "execution_start": 1646320532044,
    "execution_millis": 320,
    "deepnote_cell_type": "code"
   },
   "source": "raw_df = pd.read_csv('credit_card.csv')\nraw_df = raw_df.drop('CUST_ID', axis = 1) \nraw_df.fillna(method ='ffill', inplace = True) \nraw_df.head(2)",
   "outputs": [
    {
     "output_type": "execute_result",
     "execution_count": 5,
     "data": {
      "application/vnd.deepnote.dataframe.v3+json": {
       "column_count": 17,
       "row_count": 2,
       "columns": [
        {
         "name": "BALANCE",
         "dtype": "float64",
         "stats": {
          "unique_count": 2,
          "nan_count": 0,
          "min": "40.900749",
          "max": "3202.467416",
          "histogram": [
           {
            "bin_start": 40.900749,
            "bin_end": 357.05741570000004,
            "count": 1
           },
           {
            "bin_start": 357.05741570000004,
            "bin_end": 673.2140824,
            "count": 0
           },
           {
            "bin_start": 673.2140824,
            "bin_end": 989.3707491000001,
            "count": 0
           },
           {
            "bin_start": 989.3707491000001,
            "bin_end": 1305.5274158,
            "count": 0
           },
           {
            "bin_start": 1305.5274158,
            "bin_end": 1621.6840825,
            "count": 0
           },
           {
            "bin_start": 1621.6840825,
            "bin_end": 1937.8407492000001,
            "count": 0
           },
           {
            "bin_start": 1937.8407492000001,
            "bin_end": 2253.9974159,
            "count": 0
           },
           {
            "bin_start": 2253.9974159,
            "bin_end": 2570.1540826,
            "count": 0
           },
           {
            "bin_start": 2570.1540826,
            "bin_end": 2886.3107493,
            "count": 0
           },
           {
            "bin_start": 2886.3107493,
            "bin_end": 3202.467416,
            "count": 1
           }
          ]
         }
        },
        {
         "name": "BALANCE_FREQUENCY",
         "dtype": "float64",
         "stats": {
          "unique_count": 2,
          "nan_count": 0,
          "min": "0.818182",
          "max": "0.909091",
          "histogram": [
           {
            "bin_start": 0.818182,
            "bin_end": 0.8272729,
            "count": 1
           },
           {
            "bin_start": 0.8272729,
            "bin_end": 0.8363638,
            "count": 0
           },
           {
            "bin_start": 0.8363638,
            "bin_end": 0.8454547,
            "count": 0
           },
           {
            "bin_start": 0.8454547,
            "bin_end": 0.8545456,
            "count": 0
           },
           {
            "bin_start": 0.8545456,
            "bin_end": 0.8636364999999999,
            "count": 0
           },
           {
            "bin_start": 0.8636364999999999,
            "bin_end": 0.8727273999999999,
            "count": 0
           },
           {
            "bin_start": 0.8727273999999999,
            "bin_end": 0.8818182999999999,
            "count": 0
           },
           {
            "bin_start": 0.8818182999999999,
            "bin_end": 0.8909092,
            "count": 0
           },
           {
            "bin_start": 0.8909092,
            "bin_end": 0.9000001,
            "count": 0
           },
           {
            "bin_start": 0.9000001,
            "bin_end": 0.909091,
            "count": 1
           }
          ]
         }
        },
        {
         "name": "PURCHASES",
         "dtype": "float64",
         "stats": {
          "unique_count": 2,
          "nan_count": 0,
          "min": "0.0",
          "max": "95.4",
          "histogram": [
           {
            "bin_start": 0,
            "bin_end": 9.540000000000001,
            "count": 1
           },
           {
            "bin_start": 9.540000000000001,
            "bin_end": 19.080000000000002,
            "count": 0
           },
           {
            "bin_start": 19.080000000000002,
            "bin_end": 28.620000000000005,
            "count": 0
           },
           {
            "bin_start": 28.620000000000005,
            "bin_end": 38.160000000000004,
            "count": 0
           },
           {
            "bin_start": 38.160000000000004,
            "bin_end": 47.7,
            "count": 0
           },
           {
            "bin_start": 47.7,
            "bin_end": 57.24000000000001,
            "count": 0
           },
           {
            "bin_start": 57.24000000000001,
            "bin_end": 66.78,
            "count": 0
           },
           {
            "bin_start": 66.78,
            "bin_end": 76.32000000000001,
            "count": 0
           },
           {
            "bin_start": 76.32000000000001,
            "bin_end": 85.86000000000001,
            "count": 0
           },
           {
            "bin_start": 85.86000000000001,
            "bin_end": 95.4,
            "count": 1
           }
          ]
         }
        },
        {
         "name": "ONEOFF_PURCHASES",
         "dtype": "float64",
         "stats": {
          "unique_count": 1,
          "nan_count": 0,
          "min": "0.0",
          "max": "0.0",
          "histogram": [
           {
            "bin_start": -0.5,
            "bin_end": -0.4,
            "count": 0
           },
           {
            "bin_start": -0.4,
            "bin_end": -0.3,
            "count": 0
           },
           {
            "bin_start": -0.3,
            "bin_end": -0.19999999999999996,
            "count": 0
           },
           {
            "bin_start": -0.19999999999999996,
            "bin_end": -0.09999999999999998,
            "count": 0
           },
           {
            "bin_start": -0.09999999999999998,
            "bin_end": 0,
            "count": 0
           },
           {
            "bin_start": 0,
            "bin_end": 0.10000000000000009,
            "count": 2
           },
           {
            "bin_start": 0.10000000000000009,
            "bin_end": 0.20000000000000007,
            "count": 0
           },
           {
            "bin_start": 0.20000000000000007,
            "bin_end": 0.30000000000000004,
            "count": 0
           },
           {
            "bin_start": 0.30000000000000004,
            "bin_end": 0.4,
            "count": 0
           },
           {
            "bin_start": 0.4,
            "bin_end": 0.5,
            "count": 0
           }
          ]
         }
        },
        {
         "name": "INSTALLMENTS_PURCHASES",
         "dtype": "float64",
         "stats": {
          "unique_count": 2,
          "nan_count": 0,
          "min": "0.0",
          "max": "95.4",
          "histogram": [
           {
            "bin_start": 0,
            "bin_end": 9.540000000000001,
            "count": 1
           },
           {
            "bin_start": 9.540000000000001,
            "bin_end": 19.080000000000002,
            "count": 0
           },
           {
            "bin_start": 19.080000000000002,
            "bin_end": 28.620000000000005,
            "count": 0
           },
           {
            "bin_start": 28.620000000000005,
            "bin_end": 38.160000000000004,
            "count": 0
           },
           {
            "bin_start": 38.160000000000004,
            "bin_end": 47.7,
            "count": 0
           },
           {
            "bin_start": 47.7,
            "bin_end": 57.24000000000001,
            "count": 0
           },
           {
            "bin_start": 57.24000000000001,
            "bin_end": 66.78,
            "count": 0
           },
           {
            "bin_start": 66.78,
            "bin_end": 76.32000000000001,
            "count": 0
           },
           {
            "bin_start": 76.32000000000001,
            "bin_end": 85.86000000000001,
            "count": 0
           },
           {
            "bin_start": 85.86000000000001,
            "bin_end": 95.4,
            "count": 1
           }
          ]
         }
        },
        {
         "name": "CASH_ADVANCE",
         "dtype": "float64",
         "stats": {
          "unique_count": 2,
          "nan_count": 0,
          "min": "0.0",
          "max": "6442.945483",
          "histogram": [
           {
            "bin_start": 0,
            "bin_end": 644.2945483000001,
            "count": 1
           },
           {
            "bin_start": 644.2945483000001,
            "bin_end": 1288.5890966000002,
            "count": 0
           },
           {
            "bin_start": 1288.5890966000002,
            "bin_end": 1932.8836449000003,
            "count": 0
           },
           {
            "bin_start": 1932.8836449000003,
            "bin_end": 2577.1781932000004,
            "count": 0
           },
           {
            "bin_start": 2577.1781932000004,
            "bin_end": 3221.4727415000007,
            "count": 0
           },
           {
            "bin_start": 3221.4727415000007,
            "bin_end": 3865.7672898000005,
            "count": 0
           },
           {
            "bin_start": 3865.7672898000005,
            "bin_end": 4510.0618381,
            "count": 0
           },
           {
            "bin_start": 4510.0618381,
            "bin_end": 5154.356386400001,
            "count": 0
           },
           {
            "bin_start": 5154.356386400001,
            "bin_end": 5798.650934700001,
            "count": 0
           },
           {
            "bin_start": 5798.650934700001,
            "bin_end": 6442.945483,
            "count": 1
           }
          ]
         }
        },
        {
         "name": "PURCHASES_FREQUENCY",
         "dtype": "float64",
         "stats": {
          "unique_count": 2,
          "nan_count": 0,
          "min": "0.0",
          "max": "0.166667",
          "histogram": [
           {
            "bin_start": 0,
            "bin_end": 0.0166667,
            "count": 1
           },
           {
            "bin_start": 0.0166667,
            "bin_end": 0.0333334,
            "count": 0
           },
           {
            "bin_start": 0.0333334,
            "bin_end": 0.0500001,
            "count": 0
           },
           {
            "bin_start": 0.0500001,
            "bin_end": 0.0666668,
            "count": 0
           },
           {
            "bin_start": 0.0666668,
            "bin_end": 0.0833335,
            "count": 0
           },
           {
            "bin_start": 0.0833335,
            "bin_end": 0.1000002,
            "count": 0
           },
           {
            "bin_start": 0.1000002,
            "bin_end": 0.11666689999999999,
            "count": 0
           },
           {
            "bin_start": 0.11666689999999999,
            "bin_end": 0.1333336,
            "count": 0
           },
           {
            "bin_start": 0.1333336,
            "bin_end": 0.1500003,
            "count": 0
           },
           {
            "bin_start": 0.1500003,
            "bin_end": 0.166667,
            "count": 1
           }
          ]
         }
        },
        {
         "name": "ONEOFF_PURCHASES_FREQUENCY",
         "dtype": "float64",
         "stats": {
          "unique_count": 1,
          "nan_count": 0,
          "min": "0.0",
          "max": "0.0",
          "histogram": [
           {
            "bin_start": -0.5,
            "bin_end": -0.4,
            "count": 0
           },
           {
            "bin_start": -0.4,
            "bin_end": -0.3,
            "count": 0
           },
           {
            "bin_start": -0.3,
            "bin_end": -0.19999999999999996,
            "count": 0
           },
           {
            "bin_start": -0.19999999999999996,
            "bin_end": -0.09999999999999998,
            "count": 0
           },
           {
            "bin_start": -0.09999999999999998,
            "bin_end": 0,
            "count": 0
           },
           {
            "bin_start": 0,
            "bin_end": 0.10000000000000009,
            "count": 2
           },
           {
            "bin_start": 0.10000000000000009,
            "bin_end": 0.20000000000000007,
            "count": 0
           },
           {
            "bin_start": 0.20000000000000007,
            "bin_end": 0.30000000000000004,
            "count": 0
           },
           {
            "bin_start": 0.30000000000000004,
            "bin_end": 0.4,
            "count": 0
           },
           {
            "bin_start": 0.4,
            "bin_end": 0.5,
            "count": 0
           }
          ]
         }
        },
        {
         "name": "PURCHASES_INSTALLMENTS_FREQUENCY",
         "dtype": "float64",
         "stats": {
          "unique_count": 2,
          "nan_count": 0,
          "min": "0.0",
          "max": "0.083333",
          "histogram": [
           {
            "bin_start": 0,
            "bin_end": 0.0083333,
            "count": 1
           },
           {
            "bin_start": 0.0083333,
            "bin_end": 0.0166666,
            "count": 0
           },
           {
            "bin_start": 0.0166666,
            "bin_end": 0.0249999,
            "count": 0
           },
           {
            "bin_start": 0.0249999,
            "bin_end": 0.0333332,
            "count": 0
           },
           {
            "bin_start": 0.0333332,
            "bin_end": 0.0416665,
            "count": 0
           },
           {
            "bin_start": 0.0416665,
            "bin_end": 0.0499998,
            "count": 0
           },
           {
            "bin_start": 0.0499998,
            "bin_end": 0.0583331,
            "count": 0
           },
           {
            "bin_start": 0.0583331,
            "bin_end": 0.0666664,
            "count": 0
           },
           {
            "bin_start": 0.0666664,
            "bin_end": 0.0749997,
            "count": 0
           },
           {
            "bin_start": 0.0749997,
            "bin_end": 0.083333,
            "count": 1
           }
          ]
         }
        },
        {
         "name": "CASH_ADVANCE_FREQUENCY",
         "dtype": "float64",
         "stats": {
          "unique_count": 2,
          "nan_count": 0,
          "min": "0.0",
          "max": "0.25",
          "histogram": [
           {
            "bin_start": 0,
            "bin_end": 0.025,
            "count": 1
           },
           {
            "bin_start": 0.025,
            "bin_end": 0.05,
            "count": 0
           },
           {
            "bin_start": 0.05,
            "bin_end": 0.07500000000000001,
            "count": 0
           },
           {
            "bin_start": 0.07500000000000001,
            "bin_end": 0.1,
            "count": 0
           },
           {
            "bin_start": 0.1,
            "bin_end": 0.125,
            "count": 0
           },
           {
            "bin_start": 0.125,
            "bin_end": 0.15000000000000002,
            "count": 0
           },
           {
            "bin_start": 0.15000000000000002,
            "bin_end": 0.17500000000000002,
            "count": 0
           },
           {
            "bin_start": 0.17500000000000002,
            "bin_end": 0.2,
            "count": 0
           },
           {
            "bin_start": 0.2,
            "bin_end": 0.225,
            "count": 0
           },
           {
            "bin_start": 0.225,
            "bin_end": 0.25,
            "count": 1
           }
          ]
         }
        },
        {
         "name": "CASH_ADVANCE_TRX",
         "dtype": "int64",
         "stats": {
          "unique_count": 2,
          "nan_count": 0,
          "min": "0",
          "max": "4",
          "histogram": [
           {
            "bin_start": 0,
            "bin_end": 0.4,
            "count": 1
           },
           {
            "bin_start": 0.4,
            "bin_end": 0.8,
            "count": 0
           },
           {
            "bin_start": 0.8,
            "bin_end": 1.2000000000000002,
            "count": 0
           },
           {
            "bin_start": 1.2000000000000002,
            "bin_end": 1.6,
            "count": 0
           },
           {
            "bin_start": 1.6,
            "bin_end": 2,
            "count": 0
           },
           {
            "bin_start": 2,
            "bin_end": 2.4000000000000004,
            "count": 0
           },
           {
            "bin_start": 2.4000000000000004,
            "bin_end": 2.8000000000000003,
            "count": 0
           },
           {
            "bin_start": 2.8000000000000003,
            "bin_end": 3.2,
            "count": 0
           },
           {
            "bin_start": 3.2,
            "bin_end": 3.6,
            "count": 0
           },
           {
            "bin_start": 3.6,
            "bin_end": 4,
            "count": 1
           }
          ]
         }
        },
        {
         "name": "PURCHASES_TRX",
         "dtype": "int64",
         "stats": {
          "unique_count": 2,
          "nan_count": 0,
          "min": "0",
          "max": "2",
          "histogram": [
           {
            "bin_start": 0,
            "bin_end": 0.2,
            "count": 1
           },
           {
            "bin_start": 0.2,
            "bin_end": 0.4,
            "count": 0
           },
           {
            "bin_start": 0.4,
            "bin_end": 0.6000000000000001,
            "count": 0
           },
           {
            "bin_start": 0.6000000000000001,
            "bin_end": 0.8,
            "count": 0
           },
           {
            "bin_start": 0.8,
            "bin_end": 1,
            "count": 0
           },
           {
            "bin_start": 1,
            "bin_end": 1.2000000000000002,
            "count": 0
           },
           {
            "bin_start": 1.2000000000000002,
            "bin_end": 1.4000000000000001,
            "count": 0
           },
           {
            "bin_start": 1.4000000000000001,
            "bin_end": 1.6,
            "count": 0
           },
           {
            "bin_start": 1.6,
            "bin_end": 1.8,
            "count": 0
           },
           {
            "bin_start": 1.8,
            "bin_end": 2,
            "count": 1
           }
          ]
         }
        },
        {
         "name": "CREDIT_LIMIT",
         "dtype": "float64",
         "stats": {
          "unique_count": 2,
          "nan_count": 0,
          "min": "1000.0",
          "max": "7000.0",
          "histogram": [
           {
            "bin_start": 1000,
            "bin_end": 1600,
            "count": 1
           },
           {
            "bin_start": 1600,
            "bin_end": 2200,
            "count": 0
           },
           {
            "bin_start": 2200,
            "bin_end": 2800,
            "count": 0
           },
           {
            "bin_start": 2800,
            "bin_end": 3400,
            "count": 0
           },
           {
            "bin_start": 3400,
            "bin_end": 4000,
            "count": 0
           },
           {
            "bin_start": 4000,
            "bin_end": 4600,
            "count": 0
           },
           {
            "bin_start": 4600,
            "bin_end": 5200,
            "count": 0
           },
           {
            "bin_start": 5200,
            "bin_end": 5800,
            "count": 0
           },
           {
            "bin_start": 5800,
            "bin_end": 6400,
            "count": 0
           },
           {
            "bin_start": 6400,
            "bin_end": 7000,
            "count": 1
           }
          ]
         }
        },
        {
         "name": "PAYMENTS",
         "dtype": "float64",
         "stats": {
          "unique_count": 2,
          "nan_count": 0,
          "min": "201.802084",
          "max": "4103.032597",
          "histogram": [
           {
            "bin_start": 201.802084,
            "bin_end": 591.9251353000001,
            "count": 1
           },
           {
            "bin_start": 591.9251353000001,
            "bin_end": 982.0481866000001,
            "count": 0
           },
           {
            "bin_start": 982.0481866000001,
            "bin_end": 1372.1712379,
            "count": 0
           },
           {
            "bin_start": 1372.1712379,
            "bin_end": 1762.2942892,
            "count": 0
           },
           {
            "bin_start": 1762.2942892,
            "bin_end": 2152.4173405,
            "count": 0
           },
           {
            "bin_start": 2152.4173405,
            "bin_end": 2542.5403918,
            "count": 0
           },
           {
            "bin_start": 2542.5403918,
            "bin_end": 2932.6634431,
            "count": 0
           },
           {
            "bin_start": 2932.6634431,
            "bin_end": 3322.7864944000003,
            "count": 0
           },
           {
            "bin_start": 3322.7864944000003,
            "bin_end": 3712.9095457000003,
            "count": 0
           },
           {
            "bin_start": 3712.9095457000003,
            "bin_end": 4103.032597,
            "count": 1
           }
          ]
         }
        },
        {
         "name": "MINIMUM_PAYMENTS",
         "dtype": "float64",
         "stats": {
          "unique_count": 2,
          "nan_count": 0,
          "min": "139.509787",
          "max": "1072.340217",
          "histogram": [
           {
            "bin_start": 139.509787,
            "bin_end": 232.79282999999998,
            "count": 1
           },
           {
            "bin_start": 232.79282999999998,
            "bin_end": 326.075873,
            "count": 0
           },
           {
            "bin_start": 326.075873,
            "bin_end": 419.3589159999999,
            "count": 0
           },
           {
            "bin_start": 419.3589159999999,
            "bin_end": 512.6419589999999,
            "count": 0
           },
           {
            "bin_start": 512.6419589999999,
            "bin_end": 605.925002,
            "count": 0
           },
           {
            "bin_start": 605.925002,
            "bin_end": 699.2080449999999,
            "count": 0
           },
           {
            "bin_start": 699.2080449999999,
            "bin_end": 792.4910879999999,
            "count": 0
           },
           {
            "bin_start": 792.4910879999999,
            "bin_end": 885.7741309999999,
            "count": 0
           },
           {
            "bin_start": 885.7741309999999,
            "bin_end": 979.0571739999999,
            "count": 0
           },
           {
            "bin_start": 979.0571739999999,
            "bin_end": 1072.340217,
            "count": 1
           }
          ]
         }
        },
        {
         "name": "PRC_FULL_PAYMENT",
         "dtype": "float64",
         "stats": {
          "unique_count": 2,
          "nan_count": 0,
          "min": "0.0",
          "max": "0.222222",
          "histogram": [
           {
            "bin_start": 0,
            "bin_end": 0.0222222,
            "count": 1
           },
           {
            "bin_start": 0.0222222,
            "bin_end": 0.0444444,
            "count": 0
           },
           {
            "bin_start": 0.0444444,
            "bin_end": 0.0666666,
            "count": 0
           },
           {
            "bin_start": 0.0666666,
            "bin_end": 0.0888888,
            "count": 0
           },
           {
            "bin_start": 0.0888888,
            "bin_end": 0.111111,
            "count": 0
           },
           {
            "bin_start": 0.111111,
            "bin_end": 0.1333332,
            "count": 0
           },
           {
            "bin_start": 0.1333332,
            "bin_end": 0.1555554,
            "count": 0
           },
           {
            "bin_start": 0.1555554,
            "bin_end": 0.1777776,
            "count": 0
           },
           {
            "bin_start": 0.1777776,
            "bin_end": 0.1999998,
            "count": 0
           },
           {
            "bin_start": 0.1999998,
            "bin_end": 0.222222,
            "count": 1
           }
          ]
         }
        },
        {
         "name": "TENURE",
         "dtype": "int64",
         "stats": {
          "unique_count": 1,
          "nan_count": 0,
          "min": "12",
          "max": "12",
          "histogram": [
           {
            "bin_start": 11.5,
            "bin_end": 11.6,
            "count": 0
           },
           {
            "bin_start": 11.6,
            "bin_end": 11.7,
            "count": 0
           },
           {
            "bin_start": 11.7,
            "bin_end": 11.8,
            "count": 0
           },
           {
            "bin_start": 11.8,
            "bin_end": 11.9,
            "count": 0
           },
           {
            "bin_start": 11.9,
            "bin_end": 12,
            "count": 0
           },
           {
            "bin_start": 12,
            "bin_end": 12.1,
            "count": 2
           },
           {
            "bin_start": 12.1,
            "bin_end": 12.2,
            "count": 0
           },
           {
            "bin_start": 12.2,
            "bin_end": 12.3,
            "count": 0
           },
           {
            "bin_start": 12.3,
            "bin_end": 12.4,
            "count": 0
           },
           {
            "bin_start": 12.4,
            "bin_end": 12.5,
            "count": 0
           }
          ]
         }
        },
        {
         "name": "_deepnote_index_column",
         "dtype": "int64"
        }
       ],
       "rows": [
        {
         "BALANCE": 40.900749,
         "BALANCE_FREQUENCY": 0.818182,
         "PURCHASES": 95.4,
         "ONEOFF_PURCHASES": 0,
         "INSTALLMENTS_PURCHASES": 95.4,
         "CASH_ADVANCE": 0,
         "PURCHASES_FREQUENCY": 0.166667,
         "ONEOFF_PURCHASES_FREQUENCY": 0,
         "PURCHASES_INSTALLMENTS_FREQUENCY": 0.083333,
         "CASH_ADVANCE_FREQUENCY": 0,
         "CASH_ADVANCE_TRX": 0,
         "PURCHASES_TRX": 2,
         "CREDIT_LIMIT": 1000,
         "PAYMENTS": 201.802084,
         "MINIMUM_PAYMENTS": 139.509787,
         "PRC_FULL_PAYMENT": 0,
         "TENURE": 12,
         "_deepnote_index_column": 0
        },
        {
         "BALANCE": 3202.467416,
         "BALANCE_FREQUENCY": 0.909091,
         "PURCHASES": 0,
         "ONEOFF_PURCHASES": 0,
         "INSTALLMENTS_PURCHASES": 0,
         "CASH_ADVANCE": 6442.945483,
         "PURCHASES_FREQUENCY": 0,
         "ONEOFF_PURCHASES_FREQUENCY": 0,
         "PURCHASES_INSTALLMENTS_FREQUENCY": 0,
         "CASH_ADVANCE_FREQUENCY": 0.25,
         "CASH_ADVANCE_TRX": 4,
         "PURCHASES_TRX": 0,
         "CREDIT_LIMIT": 7000,
         "PAYMENTS": 4103.032597,
         "MINIMUM_PAYMENTS": 1072.340217,
         "PRC_FULL_PAYMENT": 0.222222,
         "TENURE": 12,
         "_deepnote_index_column": 1
        }
       ]
      },
      "text/plain": "       BALANCE  BALANCE_FREQUENCY  PURCHASES  ONEOFF_PURCHASES  \\\n0    40.900749           0.818182       95.4               0.0   \n1  3202.467416           0.909091        0.0               0.0   \n\n   INSTALLMENTS_PURCHASES  CASH_ADVANCE  PURCHASES_FREQUENCY  \\\n0                    95.4      0.000000             0.166667   \n1                     0.0   6442.945483             0.000000   \n\n   ONEOFF_PURCHASES_FREQUENCY  PURCHASES_INSTALLMENTS_FREQUENCY  \\\n0                         0.0                          0.083333   \n1                         0.0                          0.000000   \n\n   CASH_ADVANCE_FREQUENCY  CASH_ADVANCE_TRX  PURCHASES_TRX  CREDIT_LIMIT  \\\n0                    0.00                 0              2        1000.0   \n1                    0.25                 4              0        7000.0   \n\n      PAYMENTS  MINIMUM_PAYMENTS  PRC_FULL_PAYMENT  TENURE  \n0   201.802084        139.509787          0.000000      12  \n1  4103.032597       1072.340217          0.222222      12  ",
      "text/html": "<div>\n<style scoped>\n    .dataframe tbody tr th:only-of-type {\n        vertical-align: middle;\n    }\n\n    .dataframe tbody tr th {\n        vertical-align: top;\n    }\n\n    .dataframe thead th {\n        text-align: right;\n    }\n</style>\n<table border=\"1\" class=\"dataframe\">\n  <thead>\n    <tr style=\"text-align: right;\">\n      <th></th>\n      <th>BALANCE</th>\n      <th>BALANCE_FREQUENCY</th>\n      <th>PURCHASES</th>\n      <th>ONEOFF_PURCHASES</th>\n      <th>INSTALLMENTS_PURCHASES</th>\n      <th>CASH_ADVANCE</th>\n      <th>PURCHASES_FREQUENCY</th>\n      <th>ONEOFF_PURCHASES_FREQUENCY</th>\n      <th>PURCHASES_INSTALLMENTS_FREQUENCY</th>\n      <th>CASH_ADVANCE_FREQUENCY</th>\n      <th>CASH_ADVANCE_TRX</th>\n      <th>PURCHASES_TRX</th>\n      <th>CREDIT_LIMIT</th>\n      <th>PAYMENTS</th>\n      <th>MINIMUM_PAYMENTS</th>\n      <th>PRC_FULL_PAYMENT</th>\n      <th>TENURE</th>\n    </tr>\n  </thead>\n  <tbody>\n    <tr>\n      <th>0</th>\n      <td>40.900749</td>\n      <td>0.818182</td>\n      <td>95.4</td>\n      <td>0.0</td>\n      <td>95.4</td>\n      <td>0.000000</td>\n      <td>0.166667</td>\n      <td>0.0</td>\n      <td>0.083333</td>\n      <td>0.00</td>\n      <td>0</td>\n      <td>2</td>\n      <td>1000.0</td>\n      <td>201.802084</td>\n      <td>139.509787</td>\n      <td>0.000000</td>\n      <td>12</td>\n    </tr>\n    <tr>\n      <th>1</th>\n      <td>3202.467416</td>\n      <td>0.909091</td>\n      <td>0.0</td>\n      <td>0.0</td>\n      <td>0.0</td>\n      <td>6442.945483</td>\n      <td>0.000000</td>\n      <td>0.0</td>\n      <td>0.000000</td>\n      <td>0.25</td>\n      <td>4</td>\n      <td>0</td>\n      <td>7000.0</td>\n      <td>4103.032597</td>\n      <td>1072.340217</td>\n      <td>0.222222</td>\n      <td>12</td>\n    </tr>\n  </tbody>\n</table>\n</div>"
     },
     "metadata": {}
    }
   ],
   "execution_count": null
  },
  {
   "cell_type": "code",
   "metadata": {
    "cell_id": "00002-252a083e-4921-4a78-a8a3-901b64ba1f16",
    "deepnote_to_be_reexecuted": false,
    "source_hash": "9fbc3437",
    "execution_start": 1646320536782,
    "execution_millis": 31,
    "deepnote_cell_type": "code"
   },
   "source": "# Standardize data\nscaler = StandardScaler() \nscaled_df = scaler.fit_transform(raw_df) ",
   "outputs": [],
   "execution_count": null
  },
  {
   "cell_type": "code",
   "metadata": {
    "cell_id": "00003-dce7fcfe-1054-4ba6-abc9-3cf784e797f6",
    "deepnote_to_be_reexecuted": false,
    "source_hash": "a6a397c4",
    "execution_start": 1646320540942,
    "execution_millis": 31,
    "deepnote_cell_type": "code"
   },
   "source": "# Normalizing the Data \nnormalized_df = normalize(scaled_df) \n# Converting the numpy array into a pandas DataFrame \nnormalized_df = pd.DataFrame(normalized_df) ",
   "outputs": [],
   "execution_count": null
  },
  {
   "cell_type": "code",
   "metadata": {
    "cell_id": "00004-d22ca90f-eb4e-438d-b534-7a907ee94c52",
    "deepnote_to_be_reexecuted": false,
    "source_hash": "5a888713",
    "execution_start": 1646317324347,
    "execution_millis": 17,
    "deepnote_cell_type": "code"
   },
   "source": "normalized_df.head(2)",
   "outputs": [
    {
     "output_type": "execute_result",
     "execution_count": 9,
     "data": {
      "application/vnd.deepnote.dataframe.v3+json": {
       "column_count": 17,
       "row_count": 2,
       "columns": [
        {
         "name": 0,
         "dtype": "float64",
         "stats": {
          "unique_count": 2,
          "nan_count": 0,
          "min": "-0.3120375396866887",
          "max": "0.21992844283131896",
          "histogram": [
           {
            "bin_start": -0.3120375396866887,
            "bin_end": -0.2588409414348879,
            "count": 1
           },
           {
            "bin_start": -0.2588409414348879,
            "bin_end": -0.20564434318308716,
            "count": 0
           },
           {
            "bin_start": -0.20564434318308716,
            "bin_end": -0.15244774493128638,
            "count": 0
           },
           {
            "bin_start": -0.15244774493128638,
            "bin_end": -0.09925114667948562,
            "count": 0
           },
           {
            "bin_start": -0.09925114667948562,
            "bin_end": -0.04605454842768486,
            "count": 0
           },
           {
            "bin_start": -0.04605454842768486,
            "bin_end": 0.007142049824115926,
            "count": 0
           },
           {
            "bin_start": 0.007142049824115926,
            "bin_end": 0.06033864807591666,
            "count": 0
           },
           {
            "bin_start": 0.06033864807591666,
            "bin_end": 0.11353524632771744,
            "count": 0
           },
           {
            "bin_start": 0.11353524632771744,
            "bin_end": 0.16673184457951823,
            "count": 0
           },
           {
            "bin_start": 0.16673184457951823,
            "bin_end": 0.21992844283131896,
            "count": 1
           }
          ]
         }
        },
        {
         "name": 1,
         "dtype": "float64",
         "stats": {
          "unique_count": 2,
          "nan_count": 0,
          "min": "-0.10633067264354511",
          "max": "0.03753911724520576",
          "histogram": [
           {
            "bin_start": -0.10633067264354511,
            "bin_end": -0.09194369365467002,
            "count": 1
           },
           {
            "bin_start": -0.09194369365467002,
            "bin_end": -0.07755671466579493,
            "count": 0
           },
           {
            "bin_start": -0.07755671466579493,
            "bin_end": -0.06316973567691984,
            "count": 0
           },
           {
            "bin_start": -0.06316973567691984,
            "bin_end": -0.04878275668804476,
            "count": 0
           },
           {
            "bin_start": -0.04878275668804476,
            "bin_end": -0.03439577769916967,
            "count": 0
           },
           {
            "bin_start": -0.03439577769916967,
            "bin_end": -0.02000879871029458,
            "count": 0
           },
           {
            "bin_start": -0.02000879871029458,
            "bin_end": -0.005621819721419494,
            "count": 0
           },
           {
            "bin_start": -0.005621819721419494,
            "bin_end": 0.008765159267455594,
            "count": 0
           },
           {
            "bin_start": 0.008765159267455594,
            "bin_end": 0.02315213825633068,
            "count": 0
           },
           {
            "bin_start": 0.02315213825633068,
            "bin_end": 0.03753911724520576,
            "count": 1
           }
          ]
         }
        },
        {
         "name": 2,
         "dtype": "float64",
         "stats": {
          "unique_count": 2,
          "nan_count": 0,
          "min": "-0.18112922683786917",
          "max": "-0.13122357208654944",
          "histogram": [
           {
            "bin_start": -0.18112922683786917,
            "bin_end": -0.1761386613627372,
            "count": 1
           },
           {
            "bin_start": -0.1761386613627372,
            "bin_end": -0.1711480958876052,
            "count": 0
           },
           {
            "bin_start": -0.1711480958876052,
            "bin_end": -0.16615753041247325,
            "count": 0
           },
           {
            "bin_start": -0.16615753041247325,
            "bin_end": -0.16116696493734128,
            "count": 0
           },
           {
            "bin_start": -0.16116696493734128,
            "bin_end": -0.1561763994622093,
            "count": 0
           },
           {
            "bin_start": -0.1561763994622093,
            "bin_end": -0.15118583398707733,
            "count": 0
           },
           {
            "bin_start": -0.15118583398707733,
            "bin_end": -0.14619526851194536,
            "count": 0
           },
           {
            "bin_start": -0.14619526851194536,
            "bin_end": -0.14120470303681337,
            "count": 0
           },
           {
            "bin_start": -0.14120470303681337,
            "bin_end": -0.1362141375616814,
            "count": 0
           },
           {
            "bin_start": -0.1362141375616814,
            "bin_end": -0.13122357208654944,
            "count": 1
           }
          ]
         }
        },
        {
         "name": 3,
         "dtype": "float64",
         "stats": {
          "unique_count": 2,
          "nan_count": 0,
          "min": "-0.1521563279812636",
          "max": "-0.09975076062764943",
          "histogram": [
           {
            "bin_start": -0.1521563279812636,
            "bin_end": -0.1469157712459022,
            "count": 1
           },
           {
            "bin_start": -0.1469157712459022,
            "bin_end": -0.14167521451054077,
            "count": 0
           },
           {
            "bin_start": -0.14167521451054077,
            "bin_end": -0.13643465777517935,
            "count": 0
           },
           {
            "bin_start": -0.13643465777517935,
            "bin_end": -0.13119410103981793,
            "count": 0
           },
           {
            "bin_start": -0.13119410103981793,
            "bin_end": -0.12595354430445652,
            "count": 0
           },
           {
            "bin_start": -0.12595354430445652,
            "bin_end": -0.1207129875690951,
            "count": 0
           },
           {
            "bin_start": -0.1207129875690951,
            "bin_end": -0.11547243083373368,
            "count": 0
           },
           {
            "bin_start": -0.11547243083373368,
            "bin_end": -0.11023187409837226,
            "count": 0
           },
           {
            "bin_start": -0.11023187409837226,
            "bin_end": -0.10499131736301084,
            "count": 0
           },
           {
            "bin_start": -0.10499131736301084,
            "bin_end": -0.09975076062764943,
            "count": 1
           }
          ]
         }
        },
        {
         "name": 4,
         "dtype": "float64",
         "stats": {
          "unique_count": 2,
          "nan_count": 0,
          "min": "-0.14880775709979807",
          "max": "-0.12703839340623307",
          "histogram": [
           {
            "bin_start": -0.14880775709979807,
            "bin_end": -0.14663082073044156,
            "count": 1
           },
           {
            "bin_start": -0.14663082073044156,
            "bin_end": -0.14445388436108508,
            "count": 0
           },
           {
            "bin_start": -0.14445388436108508,
            "bin_end": -0.14227694799172858,
            "count": 0
           },
           {
            "bin_start": -0.14227694799172858,
            "bin_end": -0.14010001162237207,
            "count": 0
           },
           {
            "bin_start": -0.14010001162237207,
            "bin_end": -0.13792307525301556,
            "count": 0
           },
           {
            "bin_start": -0.13792307525301556,
            "bin_end": -0.13574613888365908,
            "count": 0
           },
           {
            "bin_start": -0.13574613888365908,
            "bin_end": -0.13356920251430257,
            "count": 0
           },
           {
            "bin_start": -0.13356920251430257,
            "bin_end": -0.13139226614494606,
            "count": 0
           },
           {
            "bin_start": -0.13139226614494606,
            "bin_end": -0.12921532977558958,
            "count": 0
           },
           {
            "bin_start": -0.12921532977558958,
            "bin_end": -0.12703839340623307,
            "count": 1
           }
          ]
         }
        },
        {
         "name": 5,
         "dtype": "float64",
         "stats": {
          "unique_count": 2,
          "nan_count": 0,
          "min": "-0.19898460633038514",
          "max": "0.7281766809254083",
          "histogram": [
           {
            "bin_start": -0.19898460633038514,
            "bin_end": -0.10626847760480579,
            "count": 1
           },
           {
            "bin_start": -0.10626847760480579,
            "bin_end": -0.013552348879226433,
            "count": 0
           },
           {
            "bin_start": -0.013552348879226433,
            "bin_end": 0.07916377984635295,
            "count": 0
           },
           {
            "bin_start": 0.07916377984635295,
            "bin_end": 0.17187990857193228,
            "count": 0
           },
           {
            "bin_start": 0.17187990857193228,
            "bin_end": 0.2645960372975116,
            "count": 0
           },
           {
            "bin_start": 0.2645960372975116,
            "bin_end": 0.357312166023091,
            "count": 0
           },
           {
            "bin_start": 0.357312166023091,
            "bin_end": 0.45002829474867034,
            "count": 0
           },
           {
            "bin_start": 0.45002829474867034,
            "bin_end": 0.5427444234742497,
            "count": 0
           },
           {
            "bin_start": 0.5427444234742497,
            "bin_end": 0.635460552199829,
            "count": 0
           },
           {
            "bin_start": 0.635460552199829,
            "bin_end": 0.7281766809254083,
            "count": 1
           }
          ]
         }
        },
        {
         "name": 6,
         "dtype": "float64",
         "stats": {
          "unique_count": 2,
          "nan_count": 0,
          "min": "-0.34379633744682697",
          "max": "-0.3414392799117376",
          "histogram": [
           {
            "bin_start": -0.34379633744682697,
            "bin_end": -0.343560631693318,
            "count": 1
           },
           {
            "bin_start": -0.343560631693318,
            "bin_end": -0.3433249259398091,
            "count": 0
           },
           {
            "bin_start": -0.3433249259398091,
            "bin_end": -0.34308922018630017,
            "count": 0
           },
           {
            "bin_start": -0.34308922018630017,
            "bin_end": -0.3428535144327912,
            "count": 0
           },
           {
            "bin_start": -0.3428535144327912,
            "bin_end": -0.34261780867928227,
            "count": 0
           },
           {
            "bin_start": -0.34261780867928227,
            "bin_end": -0.34238210292577337,
            "count": 0
           },
           {
            "bin_start": -0.34238210292577337,
            "bin_end": -0.3421463971722644,
            "count": 0
           },
           {
            "bin_start": -0.3421463971722644,
            "bin_end": -0.34191069141875546,
            "count": 0
           },
           {
            "bin_start": -0.34191069141875546,
            "bin_end": -0.34167498566524657,
            "count": 0
           },
           {
            "bin_start": -0.34167498566524657,
            "bin_end": -0.3414392799117376,
            "count": 1
           }
          ]
         }
        },
        {
         "name": 7,
         "dtype": "float64",
         "stats": {
          "unique_count": 2,
          "nan_count": 0,
          "min": "-0.2893042692555383",
          "max": "-0.1896623117417754",
          "histogram": [
           {
            "bin_start": -0.2893042692555383,
            "bin_end": -0.279340073504162,
            "count": 1
           },
           {
            "bin_start": -0.279340073504162,
            "bin_end": -0.2693758777527857,
            "count": 0
           },
           {
            "bin_start": -0.2693758777527857,
            "bin_end": -0.25941168200140946,
            "count": 0
           },
           {
            "bin_start": -0.25941168200140946,
            "bin_end": -0.24944748625003316,
            "count": 0
           },
           {
            "bin_start": -0.24944748625003316,
            "bin_end": -0.23948329049865685,
            "count": 0
           },
           {
            "bin_start": -0.23948329049865685,
            "bin_end": -0.22951909474728055,
            "count": 0
           },
           {
            "bin_start": -0.22951909474728055,
            "bin_end": -0.21955489899590425,
            "count": 0
           },
           {
            "bin_start": -0.21955489899590425,
            "bin_end": -0.20959070324452797,
            "count": 0
           },
           {
            "bin_start": -0.20959070324452797,
            "bin_end": -0.1996265074931517,
            "count": 0
           },
           {
            "bin_start": -0.1996265074931517,
            "bin_end": -0.1896623117417754,
            "count": 1
           }
          ]
         }
        },
        {
         "name": 8,
         "dtype": "float64",
         "stats": {
          "unique_count": 2,
          "nan_count": 0,
          "min": "-0.3015183962048501",
          "max": "-0.2562685598824022",
          "histogram": [
           {
            "bin_start": -0.3015183962048501,
            "bin_end": -0.2969934125726053,
            "count": 1
           },
           {
            "bin_start": -0.2969934125726053,
            "bin_end": -0.2924684289403605,
            "count": 0
           },
           {
            "bin_start": -0.2924684289403605,
            "bin_end": -0.2879434453081157,
            "count": 0
           },
           {
            "bin_start": -0.2879434453081157,
            "bin_end": -0.2834184616758709,
            "count": 0
           },
           {
            "bin_start": -0.2834184616758709,
            "bin_end": -0.2788934780436262,
            "count": 0
           },
           {
            "bin_start": -0.2788934780436262,
            "bin_end": -0.2743684944113814,
            "count": 0
           },
           {
            "bin_start": -0.2743684944113814,
            "bin_end": -0.2698435107791366,
            "count": 0
           },
           {
            "bin_start": -0.2698435107791366,
            "bin_end": -0.2653185271468918,
            "count": 0
           },
           {
            "bin_start": -0.2653185271468918,
            "bin_end": -0.260793543514647,
            "count": 0
           },
           {
            "bin_start": -0.260793543514647,
            "bin_end": -0.2562685598824022,
            "count": 1
           }
          ]
         }
        },
        {
         "name": 9,
         "dtype": "float64",
         "stats": {
          "unique_count": 2,
          "nan_count": 0,
          "min": "-0.28789242809203647",
          "max": "0.16040280432062548",
          "histogram": [
           {
            "bin_start": -0.28789242809203647,
            "bin_end": -0.24306290485077026,
            "count": 1
           },
           {
            "bin_start": -0.24306290485077026,
            "bin_end": -0.19823338160950407,
            "count": 0
           },
           {
            "bin_start": -0.19823338160950407,
            "bin_end": -0.1534038583682379,
            "count": 0
           },
           {
            "bin_start": -0.1534038583682379,
            "bin_end": -0.10857433512697168,
            "count": 0
           },
           {
            "bin_start": -0.10857433512697168,
            "bin_end": -0.06374481188570547,
            "count": 0
           },
           {
            "bin_start": -0.06374481188570547,
            "bin_end": -0.01891528864443931,
            "count": 0
           },
           {
            "bin_start": -0.01891528864443931,
            "bin_end": 0.0259142345968269,
            "count": 0
           },
           {
            "bin_start": 0.0259142345968269,
            "bin_end": 0.07074375783809311,
            "count": 0
           },
           {
            "bin_start": 0.07074375783809311,
            "bin_end": 0.11557328107935932,
            "count": 0
           },
           {
            "bin_start": 0.11557328107935932,
            "bin_end": 0.16040280432062548,
            "count": 1
           }
          ]
         }
        },
        {
         "name": 10,
         "dtype": "float64",
         "stats": {
          "unique_count": 2,
          "nan_count": 0,
          "min": "-0.20294236687189465",
          "max": "0.03076184879553609",
          "histogram": [
           {
            "bin_start": -0.20294236687189465,
            "bin_end": -0.17957194530515158,
            "count": 1
           },
           {
            "bin_start": -0.17957194530515158,
            "bin_end": -0.1562015237384085,
            "count": 0
           },
           {
            "bin_start": -0.1562015237384085,
            "bin_end": -0.13283110217166544,
            "count": 0
           },
           {
            "bin_start": -0.13283110217166544,
            "bin_end": -0.10946068060492235,
            "count": 0
           },
           {
            "bin_start": -0.10946068060492235,
            "bin_end": -0.08609025903817928,
            "count": 0
           },
           {
            "bin_start": -0.08609025903817928,
            "bin_end": -0.0627198374714362,
            "count": 0
           },
           {
            "bin_start": -0.0627198374714362,
            "bin_end": -0.039349415904693125,
            "count": 0
           },
           {
            "bin_start": -0.039349415904693125,
            "bin_end": -0.015978994337950053,
            "count": 0
           },
           {
            "bin_start": -0.015978994337950053,
            "bin_end": 0.007391427228793018,
            "count": 0
           },
           {
            "bin_start": 0.007391427228793018,
            "bin_end": 0.03076184879553609,
            "count": 1
           }
          ]
         }
        },
        {
         "name": 11,
         "dtype": "float64",
         "stats": {
          "unique_count": 2,
          "nan_count": 0,
          "min": "-0.21797470922799375",
          "max": "-0.16538655653857018",
          "histogram": [
           {
            "bin_start": -0.21797470922799375,
            "bin_end": -0.21271589395905138,
            "count": 1
           },
           {
            "bin_start": -0.21271589395905138,
            "bin_end": -0.20745707869010904,
            "count": 0
           },
           {
            "bin_start": -0.20745707869010904,
            "bin_end": -0.20219826342116667,
            "count": 0
           },
           {
            "bin_start": -0.20219826342116667,
            "bin_end": -0.19693944815222433,
            "count": 0
           },
           {
            "bin_start": -0.19693944815222433,
            "bin_end": -0.19168063288328197,
            "count": 0
           },
           {
            "bin_start": -0.19168063288328197,
            "bin_end": -0.18642181761433962,
            "count": 0
           },
           {
            "bin_start": -0.18642181761433962,
            "bin_end": -0.18116300234539726,
            "count": 0
           },
           {
            "bin_start": -0.18116300234539726,
            "bin_end": -0.1759041870764549,
            "count": 0
           },
           {
            "bin_start": -0.1759041870764549,
            "bin_end": -0.17064537180751255,
            "count": 0
           },
           {
            "bin_start": -0.17064537180751255,
            "bin_end": -0.16538655653857018,
            "count": 1
           }
          ]
         }
        },
        {
         "name": 12,
         "dtype": "float64",
         "stats": {
          "unique_count": 2,
          "nan_count": 0,
          "min": "-0.4094133390752553",
          "max": "0.19245492703371936",
          "histogram": [
           {
            "bin_start": -0.4094133390752553,
            "bin_end": -0.3492265124643578,
            "count": 1
           },
           {
            "bin_start": -0.3492265124643578,
            "bin_end": -0.28903968585346035,
            "count": 0
           },
           {
            "bin_start": -0.28903968585346035,
            "bin_end": -0.22885285924256288,
            "count": 0
           },
           {
            "bin_start": -0.22885285924256288,
            "bin_end": -0.1686660326316654,
            "count": 0
           },
           {
            "bin_start": -0.1686660326316654,
            "bin_end": -0.10847920602076794,
            "count": 0
           },
           {
            "bin_start": -0.10847920602076794,
            "bin_end": -0.04829237940987047,
            "count": 0
           },
           {
            "bin_start": -0.04829237940987047,
            "bin_end": 0.011894447201027003,
            "count": 0
           },
           {
            "bin_start": 0.011894447201027003,
            "bin_end": 0.07208127381192447,
            "count": 0
           },
           {
            "bin_start": 0.07208127381192447,
            "bin_end": 0.13226810042282194,
            "count": 0
           },
           {
            "bin_start": 0.13226810042282194,
            "bin_end": 0.19245492703371936,
            "count": 1
           }
          ]
         }
        },
        {
         "name": 13,
         "dtype": "float64",
         "stats": {
          "unique_count": 2,
          "nan_count": 0,
          "min": "-0.2254967735195287",
          "max": "0.22878226725729486",
          "histogram": [
           {
            "bin_start": -0.2254967735195287,
            "bin_end": -0.18006886944184636,
            "count": 1
           },
           {
            "bin_start": -0.18006886944184636,
            "bin_end": -0.13464096536416398,
            "count": 0
           },
           {
            "bin_start": -0.13464096536416398,
            "bin_end": -0.08921306128648163,
            "count": 0
           },
           {
            "bin_start": -0.08921306128648163,
            "bin_end": -0.043785157208799275,
            "count": 0
           },
           {
            "bin_start": -0.043785157208799275,
            "bin_end": 0.001642746868883077,
            "count": 0
           },
           {
            "bin_start": 0.001642746868883077,
            "bin_end": 0.04707065094656546,
            "count": 0
           },
           {
            "bin_start": 0.04707065094656546,
            "bin_end": 0.09249855502424778,
            "count": 0
           },
           {
            "bin_start": 0.09249855502424778,
            "bin_end": 0.13792645910193016,
            "count": 0
           },
           {
            "bin_start": 0.13792645910193016,
            "bin_end": 0.18335436317961254,
            "count": 0
           },
           {
            "bin_start": 0.18335436317961254,
            "bin_end": 0.22878226725729486,
            "count": 1
           }
          ]
         }
        },
        {
         "name": 14,
         "dtype": "float64",
         "stats": {
          "unique_count": 2,
          "nan_count": 0,
          "min": "-0.13015974104205072",
          "max": "0.024352666768836965",
          "histogram": [
           {
            "bin_start": -0.13015974104205072,
            "bin_end": -0.11470850026096195,
            "count": 1
           },
           {
            "bin_start": -0.11470850026096195,
            "bin_end": -0.09925725947987318,
            "count": 0
           },
           {
            "bin_start": -0.09925725947987318,
            "bin_end": -0.08380601869878442,
            "count": 0
           },
           {
            "bin_start": -0.08380601869878442,
            "bin_end": -0.06835477791769565,
            "count": 0
           },
           {
            "bin_start": -0.06835477791769565,
            "bin_end": -0.05290353713660688,
            "count": 0
           },
           {
            "bin_start": -0.05290353713660688,
            "bin_end": -0.03745229635551811,
            "count": 0
           },
           {
            "bin_start": -0.03745229635551811,
            "bin_end": -0.022001055574429343,
            "count": 0
           },
           {
            "bin_start": -0.022001055574429343,
            "bin_end": -0.006549814793340575,
            "count": 0
           },
           {
            "bin_start": -0.006549814793340575,
            "bin_end": 0.008901425987748207,
            "count": 0
           },
           {
            "bin_start": 0.008901425987748207,
            "bin_end": 0.024352666768836965,
            "count": 1
           }
          ]
         }
        },
        {
         "name": 15,
         "dtype": "float64",
         "stats": {
          "unique_count": 2,
          "nan_count": 0,
          "min": "-0.22403553864848855",
          "max": "0.06545834709886593",
          "histogram": [
           {
            "bin_start": -0.22403553864848855,
            "bin_end": -0.1950861500737531,
            "count": 1
           },
           {
            "bin_start": -0.1950861500737531,
            "bin_end": -0.16613676149901765,
            "count": 0
           },
           {
            "bin_start": -0.16613676149901765,
            "bin_end": -0.1371873729242822,
            "count": 0
           },
           {
            "bin_start": -0.1371873729242822,
            "bin_end": -0.10823798434954676,
            "count": 0
           },
           {
            "bin_start": -0.10823798434954676,
            "bin_end": -0.07928859577481132,
            "count": 0
           },
           {
            "bin_start": -0.07928859577481132,
            "bin_end": -0.05033920720007587,
            "count": 0
           },
           {
            "bin_start": -0.05033920720007587,
            "bin_end": -0.021389818625340423,
            "count": 0
           },
           {
            "bin_start": -0.021389818625340423,
            "bin_end": 0.007559569949395023,
            "count": 0
           },
           {
            "bin_start": 0.007559569949395023,
            "bin_end": 0.03650895852413047,
            "count": 0
           },
           {
            "bin_start": 0.03650895852413047,
            "bin_end": 0.06545834709886593,
            "count": 1
           }
          ]
         }
        },
        {
         "name": 16,
         "dtype": "float64",
         "stats": {
          "unique_count": 2,
          "nan_count": 0,
          "min": "0.10079750498347767",
          "max": "0.1537529952799969",
          "histogram": [
           {
            "bin_start": 0.10079750498347767,
            "bin_end": 0.10609305401312959,
            "count": 1
           },
           {
            "bin_start": 0.10609305401312959,
            "bin_end": 0.11138860304278152,
            "count": 0
           },
           {
            "bin_start": 0.11138860304278152,
            "bin_end": 0.11668415207243343,
            "count": 0
           },
           {
            "bin_start": 0.11668415207243343,
            "bin_end": 0.12197970110208536,
            "count": 0
           },
           {
            "bin_start": 0.12197970110208536,
            "bin_end": 0.1272752501317373,
            "count": 0
           },
           {
            "bin_start": 0.1272752501317373,
            "bin_end": 0.1325707991613892,
            "count": 0
           },
           {
            "bin_start": 0.1325707991613892,
            "bin_end": 0.13786634819104113,
            "count": 0
           },
           {
            "bin_start": 0.13786634819104113,
            "bin_end": 0.14316189722069306,
            "count": 0
           },
           {
            "bin_start": 0.14316189722069306,
            "bin_end": 0.14845744625034496,
            "count": 0
           },
           {
            "bin_start": 0.14845744625034496,
            "bin_end": 0.1537529952799969,
            "count": 1
           }
          ]
         }
        },
        {
         "name": "_deepnote_index_column",
         "dtype": "int64"
        }
       ],
       "rows": [
        {
         "0": -0.3120375396866887,
         "1": -0.10633067264354511,
         "2": -0.18112922683786917,
         "3": -0.1521563279812636,
         "4": -0.14880775709979807,
         "5": -0.19898460633038514,
         "6": -0.34379633744682697,
         "7": -0.2893042692555383,
         "8": -0.3015183962048501,
         "9": -0.28789242809203647,
         "10": -0.20294236687189465,
         "11": -0.21797470922799375,
         "12": -0.4094133390752553,
         "13": -0.2254967735195287,
         "14": -0.13015974104205072,
         "15": -0.22403553864848855,
         "16": 0.1537529952799969,
         "_deepnote_index_column": 0
        },
        {
         "0": 0.21992844283131896,
         "1": 0.03753911724520576,
         "2": -0.13122357208654944,
         "3": -0.09975076062764943,
         "4": -0.12703839340623307,
         "5": 0.7281766809254083,
         "6": -0.3414392799117376,
         "7": -0.1896623117417754,
         "8": -0.2562685598824022,
         "9": 0.16040280432062548,
         "10": 0.03076184879553609,
         "11": -0.16538655653857018,
         "12": 0.19245492703371936,
         "13": 0.22878226725729486,
         "14": 0.024352666768836965,
         "15": 0.06545834709886593,
         "16": 0.10079750498347767,
         "_deepnote_index_column": 1
        }
       ]
      },
      "text/plain": "         0         1         2         3         4         5         6   \\\n0 -0.312038 -0.106331 -0.181129 -0.152156 -0.148808 -0.198985 -0.343796   \n1  0.219928  0.037539 -0.131224 -0.099751 -0.127038  0.728177 -0.341439   \n\n         7         8         9         10        11        12        13  \\\n0 -0.289304 -0.301518 -0.287892 -0.202942 -0.217975 -0.409413 -0.225497   \n1 -0.189662 -0.256269  0.160403  0.030762 -0.165387  0.192455  0.228782   \n\n         14        15        16  \n0 -0.130160 -0.224036  0.153753  \n1  0.024353  0.065458  0.100798  ",
      "text/html": "<div>\n<style scoped>\n    .dataframe tbody tr th:only-of-type {\n        vertical-align: middle;\n    }\n\n    .dataframe tbody tr th {\n        vertical-align: top;\n    }\n\n    .dataframe thead th {\n        text-align: right;\n    }\n</style>\n<table border=\"1\" class=\"dataframe\">\n  <thead>\n    <tr style=\"text-align: right;\">\n      <th></th>\n      <th>0</th>\n      <th>1</th>\n      <th>2</th>\n      <th>3</th>\n      <th>4</th>\n      <th>5</th>\n      <th>6</th>\n      <th>7</th>\n      <th>8</th>\n      <th>9</th>\n      <th>10</th>\n      <th>11</th>\n      <th>12</th>\n      <th>13</th>\n      <th>14</th>\n      <th>15</th>\n      <th>16</th>\n    </tr>\n  </thead>\n  <tbody>\n    <tr>\n      <th>0</th>\n      <td>-0.312038</td>\n      <td>-0.106331</td>\n      <td>-0.181129</td>\n      <td>-0.152156</td>\n      <td>-0.148808</td>\n      <td>-0.198985</td>\n      <td>-0.343796</td>\n      <td>-0.289304</td>\n      <td>-0.301518</td>\n      <td>-0.287892</td>\n      <td>-0.202942</td>\n      <td>-0.217975</td>\n      <td>-0.409413</td>\n      <td>-0.225497</td>\n      <td>-0.130160</td>\n      <td>-0.224036</td>\n      <td>0.153753</td>\n    </tr>\n    <tr>\n      <th>1</th>\n      <td>0.219928</td>\n      <td>0.037539</td>\n      <td>-0.131224</td>\n      <td>-0.099751</td>\n      <td>-0.127038</td>\n      <td>0.728177</td>\n      <td>-0.341439</td>\n      <td>-0.189662</td>\n      <td>-0.256269</td>\n      <td>0.160403</td>\n      <td>0.030762</td>\n      <td>-0.165387</td>\n      <td>0.192455</td>\n      <td>0.228782</td>\n      <td>0.024353</td>\n      <td>0.065458</td>\n      <td>0.100798</td>\n    </tr>\n  </tbody>\n</table>\n</div>"
     },
     "metadata": {}
    }
   ],
   "execution_count": null
  },
  {
   "cell_type": "code",
   "metadata": {
    "cell_id": "00005-e0cabae1-ca72-4969-a78a-65bba6286ac9",
    "deepnote_to_be_reexecuted": false,
    "source_hash": "1ce18810",
    "execution_start": 1646317324420,
    "execution_millis": 481,
    "deepnote_cell_type": "code"
   },
   "source": "# Reducing the dimensions of the data \npca = PCA(n_components = 2) \npca = pca.fit(normalized_df) \nX_principal = pca.transform(normalized_df)\nX_principal = pd.DataFrame(X_principal) \nX_principal.columns = ['P1', 'P2'] \n  \nX_principal.head(10)",
   "outputs": [
    {
     "output_type": "execute_result",
     "execution_count": 10,
     "data": {
      "application/vnd.deepnote.dataframe.v3+json": {
       "column_count": 2,
       "row_count": 10,
       "columns": [
        {
         "name": "P1",
         "dtype": "float64",
         "stats": {
          "unique_count": 10,
          "nan_count": 0,
          "min": "-0.5635116186444397",
          "max": "0.7561778115773161",
          "histogram": [
           {
            "bin_start": -0.5635116186444397,
            "bin_end": -0.43154267562226406,
            "count": 4
           },
           {
            "bin_start": -0.43154267562226406,
            "bin_end": -0.29957373260008846,
            "count": 0
           },
           {
            "bin_start": -0.29957373260008846,
            "bin_end": -0.16760478957791286,
            "count": 2
           },
           {
            "bin_start": -0.16760478957791286,
            "bin_end": -0.03563584655573726,
            "count": 0
           },
           {
            "bin_start": -0.03563584655573726,
            "bin_end": 0.09633309646643828,
            "count": 0
           },
           {
            "bin_start": 0.09633309646643828,
            "bin_end": 0.22830203948861394,
            "count": 0
           },
           {
            "bin_start": 0.22830203948861394,
            "bin_end": 0.3602709825107896,
            "count": 2
           },
           {
            "bin_start": 0.3602709825107896,
            "bin_end": 0.49223992553296514,
            "count": 0
           },
           {
            "bin_start": 0.49223992553296514,
            "bin_end": 0.6242088685551407,
            "count": 1
           },
           {
            "bin_start": 0.6242088685551407,
            "bin_end": 0.7561778115773161,
            "count": 1
           }
          ]
         }
        },
        {
         "name": "P2",
         "dtype": "float64",
         "stats": {
          "unique_count": 10,
          "nan_count": 0,
          "min": "-0.6799761880038332",
          "max": "0.5448270208045504",
          "histogram": [
           {
            "bin_start": -0.6799761880038332,
            "bin_end": -0.5574958671229948,
            "count": 1
           },
           {
            "bin_start": -0.5574958671229948,
            "bin_end": -0.4350155462421565,
            "count": 1
           },
           {
            "bin_start": -0.4350155462421565,
            "bin_end": -0.31253522536131817,
            "count": 0
           },
           {
            "bin_start": -0.31253522536131817,
            "bin_end": -0.1900549044804798,
            "count": 3
           },
           {
            "bin_start": -0.1900549044804798,
            "bin_end": -0.06757458359964141,
            "count": 2
           },
           {
            "bin_start": -0.06757458359964141,
            "bin_end": 0.054905737281196854,
            "count": 0
           },
           {
            "bin_start": 0.054905737281196854,
            "bin_end": 0.17738605816203523,
            "count": 0
           },
           {
            "bin_start": 0.17738605816203523,
            "bin_end": 0.2998663790428736,
            "count": 1
           },
           {
            "bin_start": 0.2998663790428736,
            "bin_end": 0.4223466999237119,
            "count": 1
           },
           {
            "bin_start": 0.4223466999237119,
            "bin_end": 0.5448270208045504,
            "count": 1
           }
          ]
         }
        },
        {
         "name": "_deepnote_index_column",
         "dtype": "int64"
        }
       ],
       "rows": [
        {
         "P1": -0.4899491361415902,
         "P2": -0.6799761880038332,
         "_deepnote_index_column": 0
        },
        {
         "P1": -0.5190989086350543,
         "P2": 0.5448270208045504,
         "_deepnote_index_column": 1
        },
        {
         "P1": 0.33063322537216483,
         "P2": 0.2688793367356125,
         "_deepnote_index_column": 2
        },
        {
         "P1": -0.4816564396426303,
         "P2": -0.09761060965583737,
         "_deepnote_index_column": 3
        },
        {
         "P1": -0.5635116186444397,
         "P2": -0.4825056288794305,
         "_deepnote_index_column": 4
        },
        {
         "P1": 0.336075828579337,
         "P2": -0.2350978061488445,
         "_deepnote_index_column": 5
        },
        {
         "P1": 0.7561778115773161,
         "P2": 0.3888802434876358,
         "_deepnote_index_column": 6
        },
        {
         "P1": 0.5764727441155655,
         "P2": -0.2619460443906283,
         "_deepnote_index_column": 7
        },
        {
         "P1": -0.18503143621272214,
         "P2": -0.2544025195250259,
         "_deepnote_index_column": 8
        },
        {
         "P1": -0.2173627017354837,
         "P2": -0.1243875337517989,
         "_deepnote_index_column": 9
        }
       ]
      },
      "text/plain": "         P1        P2\n0 -0.489949 -0.679976\n1 -0.519099  0.544827\n2  0.330633  0.268879\n3 -0.481656 -0.097611\n4 -0.563512 -0.482506\n5  0.336076 -0.235098\n6  0.756178  0.388880\n7  0.576473 -0.261946\n8 -0.185031 -0.254403\n9 -0.217363 -0.124388",
      "text/html": "<div>\n<style scoped>\n    .dataframe tbody tr th:only-of-type {\n        vertical-align: middle;\n    }\n\n    .dataframe tbody tr th {\n        vertical-align: top;\n    }\n\n    .dataframe thead th {\n        text-align: right;\n    }\n</style>\n<table border=\"1\" class=\"dataframe\">\n  <thead>\n    <tr style=\"text-align: right;\">\n      <th></th>\n      <th>P1</th>\n      <th>P2</th>\n    </tr>\n  </thead>\n  <tbody>\n    <tr>\n      <th>0</th>\n      <td>-0.489949</td>\n      <td>-0.679976</td>\n    </tr>\n    <tr>\n      <th>1</th>\n      <td>-0.519099</td>\n      <td>0.544827</td>\n    </tr>\n    <tr>\n      <th>2</th>\n      <td>0.330633</td>\n      <td>0.268879</td>\n    </tr>\n    <tr>\n      <th>3</th>\n      <td>-0.481656</td>\n      <td>-0.097611</td>\n    </tr>\n    <tr>\n      <th>4</th>\n      <td>-0.563512</td>\n      <td>-0.482506</td>\n    </tr>\n    <tr>\n      <th>5</th>\n      <td>0.336076</td>\n      <td>-0.235098</td>\n    </tr>\n    <tr>\n      <th>6</th>\n      <td>0.756178</td>\n      <td>0.388880</td>\n    </tr>\n    <tr>\n      <th>7</th>\n      <td>0.576473</td>\n      <td>-0.261946</td>\n    </tr>\n    <tr>\n      <th>8</th>\n      <td>-0.185031</td>\n      <td>-0.254403</td>\n    </tr>\n    <tr>\n      <th>9</th>\n      <td>-0.217363</td>\n      <td>-0.124388</td>\n    </tr>\n  </tbody>\n</table>\n</div>"
     },
     "metadata": {}
    }
   ],
   "execution_count": null
  },
  {
   "cell_type": "code",
   "metadata": {
    "cell_id": "00006-aaf09471-6fce-4846-ab69-56783dab745d",
    "deepnote_to_be_reexecuted": false,
    "source_hash": "ea6f9471",
    "execution_start": 1646317324624,
    "execution_millis": 318,
    "deepnote_cell_type": "code"
   },
   "source": "plt.scatter(X_principal['P1'], X_principal['P2'])",
   "outputs": [
    {
     "output_type": "execute_result",
     "execution_count": 11,
     "data": {
      "text/plain": "<matplotlib.collections.PathCollection at 0x7f46e256a8d0>"
     },
     "metadata": {}
    },
    {
     "data": {
      "text/plain": "<Figure size 432x288 with 1 Axes>",
      "image/png": "[encoded data removed]"
     },
     "metadata": {
      "needs_background": "light",
      "image/png": {
       "width": 386,
       "height": 248
      }
     },
     "output_type": "display_data"
    }
   ],
   "execution_count": null
  },
  {
   "cell_type": "markdown",
   "source": "## Hierarchical Clustering",
   "metadata": {
    "cell_id": "00007-32d8aeb5-78ea-4e24-bc52-9882bf52ad47",
    "deepnote_cell_type": "markdown"
   }
  },
  {
   "cell_type": "code",
   "metadata": {
    "cell_id": "00008-63fc3fc6-d6b8-4eb4-ad7c-952e25472304",
    "deepnote_to_be_reexecuted": false,
    "source_hash": "53c98c83",
    "execution_start": 1646317324952,
    "execution_millis": 367920,
    "deepnote_cell_type": "code"
   },
   "source": "plt.figure(figsize =(6, 6)) \nplt.title('Visualising the data') \nDendrogram = shc.dendrogram((shc.linkage(X_principal, method ='ward'))) ",
   "outputs": [
    {
     "data": {
      "text/plain": "<Figure size 432x432 with 1 Axes>",
      "image/png": "[encoded data removed]"
     },
     "metadata": {
      "needs_background": "light",
      "image/png": {
       "width": 371,
       "height": 376
      }
     },
     "output_type": "display_data"
    }
   ],
   "execution_count": null
  },
  {
   "cell_type": "code",
   "metadata": {
    "cell_id": "00009-51b1251f-e767-4bb8-b1c4-0fdc90d87eb7",
    "deepnote_to_be_reexecuted": false,
    "source_hash": "79486c2f",
    "execution_start": 1646317692869,
    "execution_millis": 26880,
    "deepnote_cell_type": "code"
   },
   "source": "silhouette_scores = [] \n\nfor n_cluster in range(2, 8):\n    silhouette_scores.append( \n        silhouette_score(X_principal, AgglomerativeClustering(n_clusters = n_cluster).fit_predict(X_principal))) \n    \n# Plotting a bar graph to compare the results \nk = [2, 3, 4, 5, 6,7] \nplt.bar(k, silhouette_scores) \nplt.xlabel('Number of clusters', fontsize = 10) \nplt.ylabel('Silhouette Score', fontsize = 10) \nplt.show() ",
   "outputs": [
    {
     "data": {
      "text/plain": "<Figure size 432x288 with 1 Axes>",
      "image/png": "[encoded data removed]"
     },
     "metadata": {
      "needs_background": "light",
      "image/png": {
       "width": 386,
       "height": 262
      }
     },
     "output_type": "display_data"
    }
   ],
   "execution_count": null
  },
  {
   "cell_type": "code",
   "metadata": {
    "cell_id": "00010-9073789d-8238-4a98-b0a1-10c918116dc6",
    "deepnote_to_be_reexecuted": false,
    "source_hash": "9a61778a",
    "execution_start": 1646317719326,
    "execution_millis": 3028,
    "deepnote_cell_type": "code"
   },
   "source": "agg = AgglomerativeClustering(n_clusters=3)\nagg.fit(X_principal)",
   "outputs": [
    {
     "output_type": "execute_result",
     "execution_count": 14,
     "data": {
      "text/plain": "AgglomerativeClustering(n_clusters=3)"
     },
     "metadata": {}
    }
   ],
   "execution_count": null
  },
  {
   "cell_type": "code",
   "metadata": {
    "cell_id": "00011-d994f22c-fa8a-4c2c-ae67-7c1935f46dc7",
    "deepnote_to_be_reexecuted": false,
    "source_hash": "2fe62561",
    "execution_start": 1646317722124,
    "execution_millis": 3129,
    "deepnote_cell_type": "code"
   },
   "source": "# Visualizing the clustering \nplt.scatter(X_principal['P1'], X_principal['P2'],  \n           c = AgglomerativeClustering(n_clusters = 3).fit_predict(X_principal), cmap =plt.cm.winter) \nplt.show() ",
   "outputs": [
    {
     "data": {
      "text/plain": "<Figure size 432x288 with 1 Axes>",
      "image/png": "[encoded data removed]"
     },
     "metadata": {
      "needs_background": "light",
      "image/png": {
       "width": 386,
       "height": 248
      }
     },
     "output_type": "display_data"
    }
   ],
   "execution_count": null
  },
  {
   "cell_type": "markdown",
   "source": "## K-Means Clustering",
   "metadata": {
    "cell_id": "00012-eae1567f-ff6a-47f2-ace7-bbe5c7c845b3",
    "deepnote_cell_type": "markdown"
   }
  },
  {
   "cell_type": "code",
   "metadata": {
    "cell_id": "00013-3dea9f43-9fa9-41d2-ac99-941ae8f878c9",
    "deepnote_to_be_reexecuted": false,
    "source_hash": "f3df90f6",
    "execution_start": 1646317725270,
    "execution_millis": 7746,
    "deepnote_cell_type": "code"
   },
   "source": "sse = {}\nfor k in range(1, 10):\n    kmeans = KMeans(n_clusters=k, max_iter=1000).fit(X_principal)\n    sse[k] = kmeans.inertia_ # Inertia: Sum of distances of samples to their closest cluster center\nplt.figure()\nplt.plot(list(sse.keys()), list(sse.values()))\nplt.xlabel(\"Number of cluster\")\nplt.ylabel(\"SSE\")\nplt.show()",
   "outputs": [
    {
     "data": {
      "text/plain": "<Figure size 432x288 with 1 Axes>",
      "image/png": "[encoded data removed]"
     },
     "metadata": {
      "needs_background": "light",
      "image/png": {
       "width": 395,
       "height": 262
      }
     },
     "output_type": "display_data"
    }
   ],
   "execution_count": null
  },
  {
   "cell_type": "code",
   "metadata": {
    "cell_id": "00014-711c092d-0567-44b3-bad2-7fca7462db42",
    "deepnote_to_be_reexecuted": false,
    "source_hash": "32db86fe",
    "execution_start": 1646317733027,
    "execution_millis": 1231,
    "deepnote_cell_type": "code"
   },
   "source": "kmeans = KMeans(n_clusters=6)\nkmeans.fit(X_principal)",
   "outputs": [
    {
     "output_type": "execute_result",
     "execution_count": 17,
     "data": {
      "text/plain": "KMeans(n_clusters=6)"
     },
     "metadata": {}
    }
   ],
   "execution_count": null
  },
  {
   "cell_type": "code",
   "metadata": {
    "cell_id": "00015-a0c9546f-4e41-4272-9efc-8ceae4691065",
    "deepnote_to_be_reexecuted": false,
    "source_hash": "4d590368",
    "execution_start": 1646317734277,
    "execution_millis": 1303,
    "deepnote_cell_type": "code"
   },
   "source": "# Visualizing the clustering \nplt.scatter(X_principal['P1'], X_principal['P2'],  \n           c = KMeans(n_clusters = 6).fit_predict(X_principal), cmap =plt.cm.winter) \nplt.show() ",
   "outputs": [
    {
     "data": {
      "text/plain": "<Figure size 432x288 with 1 Axes>",
      "image/png": "[encoded data removed]"
     },
     "metadata": {
      "needs_background": "light",
      "image/png": {
       "width": 386,
       "height": 248
      }
     },
     "output_type": "display_data"
    }
   ],
   "execution_count": null
  },
  {
   "cell_type": "code",
   "metadata": {
    "cell_id": "00016-79ab2904-631f-4ff1-ad66-7c8a5b0ed9d6",
    "deepnote_to_be_reexecuted": false,
    "source_hash": "bcca4b50",
    "execution_start": 1646317735591,
    "execution_millis": 6,
    "deepnote_cell_type": "code"
   },
   "source": "kmeans.cluster_centers_",
   "outputs": [
    {
     "output_type": "execute_result",
     "execution_count": 19,
     "data": {
      "text/plain": "array([[ 0.22727079,  0.54867429],\n       [-0.47881822,  0.56465267],\n       [ 0.47006424, -0.30822096],\n       [-0.65937727, -0.10569002],\n       [ 0.70458777,  0.20163748],\n       [-0.23111496, -0.43049916]])"
     },
     "metadata": {}
    }
   ],
   "execution_count": null
  },
  {
   "cell_type": "code",
   "metadata": {
    "cell_id": "00017-3de4172f-e473-4ff0-803a-b515e7f81721",
    "deepnote_to_be_reexecuted": false,
    "source_hash": "8092410c",
    "execution_start": 1646317735644,
    "deepnote_cell_type": "code"
   },
   "source": "input = pca.transform(np.reshape(np.array(normalized_df.iloc[0]), (-1, 17)))",
   "outputs": [],
   "execution_count": null
  },
  {
   "cell_type": "code",
   "metadata": {
    "tags": [],
    "cell_id": "00018-56e8f9a4-9622-46c5-953c-7fea851a2257",
    "deepnote_to_be_reexecuted": false,
    "source_hash": "2be62e8d",
    "execution_start": 1646317735645,
    "execution_millis": 2,
    "deepnote_cell_type": "code"
   },
   "source": "label = kmeans.predict(input)\n\nprint(label)",
   "outputs": [
    {
     "name": "stdout",
     "text": "[5]\n/shared-libs/python3.7/py/lib/python3.7/site-packages/sklearn/base.py:451: UserWarning: X does not have valid feature names, but KMeans was fitted with feature names\n  \"X does not have valid feature names, but\"\n",
     "output_type": "stream"
    }
   ],
   "execution_count": null
  },
  {
   "cell_type": "markdown",
   "source": "<a style='text-decoration:none;line-height:16px;display:flex;color:#5B5B62;padding:10px;justify-content:end;' href='https://deepnote.com?utm_source=created-in-deepnote-cell&projectId=486c3042-68b8-438c-a156-48d94106b4cb' target=\"_blank\">\n<img alt='Created in deepnote.com' style='display:inline;max-height:16px;margin:0px;margin-right:7.5px;' src='data:image/svg+xml;base64,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' > </img>\nCreated in <span style='font-weight:600;margin-left:4px;'>Deepnote</span></a>",
   "metadata": {
    "tags": [],
    "created_in_deepnote_cell": true,
    "deepnote_cell_type": "markdown"
   }
  }
 ],
 "nbformat": 4,
 "nbformat_minor": 2,
 "metadata": {
  "language_info": {
   "codemirror_mode": {
    "name": "ipython",
    "version": 3
   },
   "file_extension": ".py",
   "mimetype": "text/x-python",
   "name": "python",
   "nbconvert_exporter": "python",
   "pygments_lexer": "ipython3",
   "version": "3.7.3-final"
  },
  "orig_nbformat": 2,
  "kernelspec": {
   "name": "python_defaultSpec_1598460524106",
   "display_name": "Python 3.7.3 64-bit ('base': conda)"
  },
  "deepnote_notebook_id": "c5705867-f8b0-4604-b3b1-b97cea939dd1",
  "deepnote_execution_queue": [],
  "deepnote": {}
 }
}