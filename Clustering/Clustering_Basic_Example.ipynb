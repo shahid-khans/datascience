{
 "cells": [
  {
   "cell_type": "code",
   "metadata": {
    "tags": [],
    "cell_id": "00000-bd099e50-9e98-4714-9005-5ee56855952d",
    "deepnote_to_be_reexecuted": false,
    "source_hash": "7f3e6d9",
    "execution_start": 1646320085869,
    "execution_millis": 5612,
    "deepnote_cell_type": "code"
   },
   "source": "# Insert code here\n# Imports\nfrom sklearn.datasets import make_blobs\nimport pandas as pd\nimport numpy as np\nimport matplotlib.pyplot as plt\nfrom sklearn.cluster import KMeans\n\n# Generate 2D data points\nX, _ = make_blobs(n_samples=10, centers=3, n_features=2,cluster_std=0.2,  random_state=0)\n\n\n",
   "outputs": [],
   "execution_count": null
  },
  {
   "cell_type": "code",
   "source": "X",
   "metadata": {
    "cell_id": "8bcb89b5-9949-49b3-ad31-14d4b9847b5c",
    "tags": [],
    "deepnote_to_be_reexecuted": false,
    "source_hash": "b2696ff6",
    "execution_start": 1646320091486,
    "execution_millis": 24,
    "deepnote_cell_type": "code"
   },
   "outputs": [
    {
     "output_type": "execute_result",
     "execution_count": 2,
     "data": {
      "text/plain": "array([[ 1.00507879,  4.59464203],\n       [ 1.12847762,  4.32812233],\n       [ 2.11788106,  0.72684451],\n       [ 0.95562631,  4.38590703],\n       [-1.35401677,  2.76944926],\n       [-1.07295309,  2.62700913],\n       [-2.03750198,  3.04860598],\n       [ 2.35408334,  0.85663201],\n       [ 2.14404017,  0.96439853],\n       [ 1.16628776,  4.27351589]])"
     },
     "metadata": {}
    }
   ],
   "execution_count": null
  },
  {
   "cell_type": "code",
   "metadata": {
    "tags": [],
    "cell_id": "00001-d2120bd0-f437-4c0c-973b-2b7543b630dc",
    "deepnote_to_be_reexecuted": false,
    "source_hash": "d1bec3f1",
    "execution_start": 1646320091525,
    "execution_millis": 71,
    "deepnote_cell_type": "code"
   },
   "source": "# Generate indicators for the data points\nobj_names = []\nfor i in range(1, 11):\n    obj = \"Object \" + str(i)\n    obj_names.append(obj)\n\n",
   "outputs": [],
   "execution_count": null
  },
  {
   "cell_type": "code",
   "metadata": {
    "tags": [],
    "cell_id": "00002-b96bb0f4-d749-436d-a536-b3f90c3ee07b",
    "deepnote_to_be_reexecuted": false,
    "source_hash": "e2a744c5",
    "execution_start": 1646320091597,
    "execution_millis": 0,
    "deepnote_cell_type": "code"
   },
   "source": "# Create a pandas DataFrame with the names and (x, y) coordinates\ndata = pd.DataFrame({'Object': obj_names,\n    'X_value': X[:, 0],\n    'Y_value': X[:, -1]\n})\n\n",
   "outputs": [],
   "execution_count": null
  },
  {
   "cell_type": "code",
   "metadata": {
    "tags": [],
    "cell_id": "00003-189330cf-a0fe-49ae-9006-fbdceeed7b91",
    "deepnote_to_be_reexecuted": false,
    "source_hash": "bde00c3c",
    "execution_start": 1646320091597,
    "execution_millis": 45,
    "deepnote_cell_type": "code"
   },
   "source": "# Preview the data\nprint(data.head())\n\n",
   "outputs": [
    {
     "name": "stdout",
     "text": "     Object   X_value   Y_value\n0  Object 1  1.005079  4.594642\n1  Object 2  1.128478  4.328122\n2  Object 3  2.117881  0.726845\n3  Object 4  0.955626  4.385907\n4  Object 5 -1.354017  2.769449\n",
     "output_type": "stream"
    }
   ],
   "execution_count": null
  },
  {
   "cell_type": "code",
   "metadata": {
    "tags": [],
    "cell_id": "00004-c6a2f46a-85dc-4e7d-92dd-ea593611bb35",
    "deepnote_to_be_reexecuted": false,
    "source_hash": "59a6cc35",
    "execution_start": 1646320091658,
    "execution_millis": 970,
    "deepnote_cell_type": "code"
   },
   "source": "plt.scatter(X[:, 0], X[:, -1])\n    \n# Specify the number of clusters (3) and fit the data X\nkmeans = KMeans(n_clusters=3, random_state=0).fit(X)\n\n# Get the cluster centroids\nprint(kmeans.cluster_centers_)\n    \n# Get the cluster labels\nprint(kmeans.labels_)\n\n# Plotting the cluster centers and the data points on a 2D plane\nplt.scatter(X[:, 0], X[:, -1])\nplt.scatter(kmeans.cluster_centers_[:, 0],kmeans.cluster_centers_[:, 1], c='red', marker='x')\nplt.title('Data points and cluster centroids')\nplt.show()",
   "outputs": [
    {
     "name": "stdout",
     "text": "[[-1.48815728  2.81502145]\n [ 2.20533486  0.84929168]\n [ 1.06386762  4.39554682]]\n[2 2 1 2 0 0 0 1 1 2]\n",
     "output_type": "stream"
    },
    {
     "data": {
      "text/plain": "<Figure size 432x288 with 1 Axes>",
      "image/png": "[encoded data removed]"
     },
     "metadata": {
      "needs_background": "light",
      "image/png": {
       "width": 372,
       "height": 264
      }
     },
     "output_type": "display_data"
    }
   ],
   "execution_count": null
  },
  {
   "cell_type": "markdown",
   "source": "<a style='text-decoration:none;line-height:16px;display:flex;color:#5B5B62;padding:10px;justify-content:end;' href='https://deepnote.com?utm_source=created-in-deepnote-cell&projectId=486c3042-68b8-438c-a156-48d94106b4cb' target=\"_blank\">\n<img alt='Created in deepnote.com' style='display:inline;max-height:16px;margin:0px;margin-right:7.5px;' src='data:image/svg+xml;base64,PD94bWwgdmVyc2lvbj0iMS4wIiBlbmNvZGluZz0iVVRGLTgiPz4KPHN2ZyB3aWR0aD0iODBweCIgaGVpZ2h0PSI4MHB4IiB2aWV3Qm94PSIwIDAgODAgODAiIHZlcnNpb249IjEuMSIgeG1sbnM9Imh0dHA6Ly93d3cudzMub3JnLzIwMDAvc3ZnIiB4bWxuczp4bGluaz0iaHR0cDovL3d3dy53My5vcmcvMTk5OS94bGluayI+CiAgICA8IS0tIEdlbmVyYXRvcjogU2tldGNoIDU0LjEgKDc2NDkwKSAtIGh0dHBzOi8vc2tldGNoYXBwLmNvbSAtLT4KICAgIDx0aXRsZT5Hcm91cCAzPC90aXRsZT4KICAgIDxkZXNjPkNyZWF0ZWQgd2l0aCBTa2V0Y2guPC9kZXNjPgogICAgPGcgaWQ9IkxhbmRpbmciIHN0cm9rZT0ibm9uZSIgc3Ryb2tlLXdpZHRoPSIxIiBmaWxsPSJub25lIiBmaWxsLXJ1bGU9ImV2ZW5vZGQiPgogICAgICAgIDxnIGlkPSJBcnRib2FyZCIgdHJhbnNmb3JtPSJ0cmFuc2xhdGUoLTEyMzUuMDAwMDAwLCAtNzkuMDAwMDAwKSI+CiAgICAgICAgICAgIDxnIGlkPSJHcm91cC0zIiB0cmFuc2Zvcm09InRyYW5zbGF0ZSgxMjM1LjAwMDAwMCwgNzkuMDAwMDAwKSI+CiAgICAgICAgICAgICAgICA8cG9seWdvbiBpZD0iUGF0aC0yMCIgZmlsbD0iIzAyNjVCNCIgcG9pbnRzPSIyLjM3NjIzNzYyIDgwIDM4LjA0NzY2NjcgODAgNTcuODIxNzgyMiA3My44MDU3NTkyIDU3LjgyMTc4MjIgMzIuNzU5MjczOSAzOS4xNDAyMjc4IDMxLjY4MzE2ODMiPjwvcG9seWdvbj4KICAgICAgICAgICAgICAgIDxwYXRoIGQ9Ik0zNS4wMDc3MTgsODAgQzQyLjkwNjIwMDcsNzYuNDU0OTM1OCA0Ny41NjQ5MTY3LDcxLjU0MjI2NzEgNDguOTgzODY2LDY1LjI2MTk5MzkgQzUxLjExMjI4OTksNTUuODQxNTg0MiA0MS42NzcxNzk1LDQ5LjIxMjIyODQgMjUuNjIzOTg0Niw0OS4yMTIyMjg0IEMyNS40ODQ5Mjg5LDQ5LjEyNjg0NDggMjkuODI2MTI5Niw0My4yODM4MjQ4IDM4LjY0NzU4NjksMzEuNjgzMTY4MyBMNzIuODcxMjg3MSwzMi41NTQ0MjUgTDY1LjI4MDk3Myw2Ny42NzYzNDIxIEw1MS4xMTIyODk5LDc3LjM3NjE0NCBMMzUuMDA3NzE4LDgwIFoiIGlkPSJQYXRoLTIyIiBmaWxsPSIjMDAyODY4Ij48L3BhdGg+CiAgICAgICAgICAgICAgICA8cGF0aCBkPSJNMCwzNy43MzA0NDA1IEwyNy4xMTQ1MzcsMC4yNTcxMTE0MzYgQzYyLjM3MTUxMjMsLTEuOTkwNzE3MDEgODAsMTAuNTAwMzkyNyA4MCwzNy43MzA0NDA1IEM4MCw2NC45NjA0ODgyIDY0Ljc3NjUwMzgsNzkuMDUwMzQxNCAzNC4zMjk1MTEzLDgwIEM0Ny4wNTUzNDg5LDc3LjU2NzA4MDggNTMuNDE4MjY3Nyw3MC4zMTM2MTAzIDUzLjQxODI2NzcsNTguMjM5NTg4NSBDNTMuNDE4MjY3Nyw0MC4xMjg1NTU3IDM2LjMwMzk1NDQsMzcuNzMwNDQwNSAyNS4yMjc0MTcsMzcuNzMwNDQwNSBDMTcuODQzMDU4NiwzNy43MzA0NDA1IDkuNDMzOTE5NjYsMzcuNzMwNDQwNSAwLDM3LjczMDQ0MDUgWiIgaWQ9IlBhdGgtMTkiIGZpbGw9IiMzNzkzRUYiPjwvcGF0aD4KICAgICAgICAgICAgPC9nPgogICAgICAgIDwvZz4KICAgIDwvZz4KPC9zdmc+' > </img>\nCreated in <span style='font-weight:600;margin-left:4px;'>Deepnote</span></a>",
   "metadata": {
    "tags": [],
    "created_in_deepnote_cell": true,
    "deepnote_cell_type": "markdown"
   }
  }
 ],
 "nbformat": 4,
 "nbformat_minor": 2,
 "metadata": {
  "orig_nbformat": 2,
  "deepnote_notebook_id": "608a84e8-cf11-4ddf-95d2-cea5cc1f1ada",
  "deepnote_execution_queue": [],
  "deepnote": {}
 }
}